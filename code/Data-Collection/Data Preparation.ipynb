{
 "cells": [
  {
   "cell_type": "markdown",
   "metadata": {},
   "source": [
    "# Data pre-processing \n",
    "<div><div class=\"alert alert-block alert-info\">\n",
    "\n",
    "1) Due to the formatting of fullVisitorId I must `load the Id's as strings` in order for all Id's to be properly unique! \n",
    "\n",
    "2) There are multiple columns which contain `JSON blobs of varying depth`. In one of those JSON columns, totals, the sub-column `transactionRevenue contains the revenue information we are trying to predict`. This sub-column exists only for the training data.\n",
    "\n"
   ]
  },
  {
   "cell_type": "code",
   "execution_count": 12,
   "metadata": {},
   "outputs": [],
   "source": [
    "# Import the necessary modules and libraries\n",
    "\n",
    "import os\n",
    "import json\n",
    "import numpy as np\n",
    "import pandas as pd\n",
    "from pandas.io.json import json_normalize\n",
    "pd.options.display.max_columns = 999\n",
    "PATH = '/mnt/c/Users/ssant/googledrive/github/google_revenue_predict/data/raw'\n"
   ]
  },
  {
   "cell_type": "code",
   "execution_count": 13,
   "metadata": {},
   "outputs": [],
   "source": [
    "def load_flatten_df(path, nrows=None):\n",
    "    \"\"\"\n",
    "    Rads the CSV data and flattens the JSON fields.\n",
    "    \n",
    "    \"\"\" \n",
    "    json_columns = ['device', 'geoNetwork', 'totals', 'trafficSource']\n",
    "    df = pd.read_csv(path, \n",
    "                     converters={column: json.loads for column in json_columns}, #Decoding JSON, loading those col as json dtype\n",
    "                     dtype={'fullVisitorId': 'str'}, \n",
    "                     nrows=nrows)\n",
    "    \n",
    "    for column in json_columns:\n",
    "        column_as_df = json_normalize(df[column]) \n",
    "        column_as_df.columns = [f\"{column}.{subcolumn}\" for subcolumn in column_as_df.columns]\n",
    "        df = df.drop(column, axis=1).merge(column_as_df, right_index=True, left_index=True) # merge by index, don't add extra rows\n",
    "    #print(f\"Loaded {os.path.basename(path)}. Shape: {df.shape}\")\n",
    "    return df"
   ]
  },
  {
   "cell_type": "code",
   "execution_count": 14,
   "metadata": {},
   "outputs": [],
   "source": [
    "# load data\n",
    "train = load_flatten_df(PATH+\"/train.csv\")"
   ]
  },
  {
   "cell_type": "code",
   "execution_count": 15,
   "metadata": {},
   "outputs": [
    {
     "name": "stdout",
     "output_type": "stream",
     "text": [
      "First rows of train data:\n"
     ]
    }
   ],
   "source": [
    "test = load_flatten_df(PATH+'/test.csv')\n",
    "\n",
    "print('First rows of train data:')\n",
    "#train.head()"
   ]
  },
  {
   "cell_type": "code",
   "execution_count": 16,
   "metadata": {},
   "outputs": [],
   "source": [
    "# output data\n",
    "train.to_csv(PATH+r\"/train_flattened.csv\", index=False)\n",
    "train.to_csv(PATH+r\"/test_flattened.csv\", index=False)"
   ]
  },
  {
   "cell_type": "code",
   "execution_count": null,
   "metadata": {},
   "outputs": [],
   "source": [
    "from IPython.display import HTML\n",
    "# Provide the path to the yaml file relative to the working directory\n",
    "display(HTML('''<style>\n",
    "    .widget-label { min-width: 20ex !important; }\n",
    "    .widget-text { min-width: 60ex !important; }\n",
    "</style>'''))\n",
    "\n",
    "#Toggle Code\n",
    "HTML('''<script>\n",
    "code_show=true; \n",
    "function code_toggle() {\n",
    " if (code_show){\n",
    " $('div.input').hide();\n",
    "\n",
    " } else {\n",
    " $('div.input').show();\n",
    "\n",
    " }\n",
    " code_show = !code_show\n",
    "} \n",
    "//$( document ).ready(code_toggle);//commenting code disabling by default\n",
    "</script>\n",
    "<form action = \"javascript:code_toggle()\"><input type=\"submit\" value=\"Toggle Raw Code\"></form>''')"
   ]
  },
  {
   "cell_type": "code",
   "execution_count": null,
   "metadata": {},
   "outputs": [],
   "source": []
  }
 ],
 "metadata": {
  "kernelspec": {
   "display_name": "Python 3",
   "language": "python",
   "name": "python3"
  },
  "language_info": {
   "codemirror_mode": {
    "name": "ipython",
    "version": 3
   },
   "file_extension": ".py",
   "mimetype": "text/x-python",
   "name": "python",
   "nbconvert_exporter": "python",
   "pygments_lexer": "ipython3",
   "version": "3.7.0"
  }
 },
 "nbformat": 4,
 "nbformat_minor": 2
}
