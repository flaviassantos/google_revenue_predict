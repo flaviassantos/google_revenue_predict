{
 "cells": [
  {
   "cell_type": "markdown",
   "metadata": {},
   "source": [
    "# Google Analytics Customer Revenue Prediction\n",
    "\n",
    "### Predict how much GStore customers will spend\n",
    "\n",
    "Marketing teams are challenged to make appropriate investments in promotional strategies. In this competition, we’re challenged to analyze a Google Merchandise Store (also known as GStore, where Google swag is sold) customer dataset to** predict revenue per customer.**\n",
    "Hopefully, the outcome will be more actionable operational changes and a better use of marketing budgets for those companies who choose to use data analysis on top of GA data.\n",
    "\n",
    "### File Descriptions\n",
    "\n",
    "* ** train.csv** - the training set\n",
    "\n",
    "* ** test.csv **- the test set \n",
    "\n",
    "*  **sampleSubmission.csv** - a sample submission file in the correct format. Contains all fullVisitorIds in test.csv.\n",
    "\n",
    "#### Data Fields\n",
    "\n",
    "* fullVisitorId- A unique identifier for each user of the Google Merchandise Store.\n",
    "\n",
    "* channelGrouping - The channel via which the user came to the Store.\n",
    "\n",
    "* date - The date on which the user visited the Store.\n",
    "\n",
    "* device - The specifications for the device used to access the Store.\n",
    "\n",
    "* geoNetwork - This section contains information about the geography of \n",
    "the user.\n",
    "\n",
    "* sessionId - A unique identifier for this visit to the store.\n",
    "\n",
    "* socialEngagementType - Engagement type, either \"Socially Engaged\" or \"Not Socially Engaged\".\n",
    "\n",
    "* totals - This section contains aggregate values across the session.\n",
    "\n",
    "* trafficSource - This section contains information about the Traffic Source from which the session originated.\n",
    "\n",
    "* visitId - An identifier for this session. This is part of the value usually stored as the _utmb cookie_. This is only unique to the user. For a completely unique ID, you should use a combination of fullVisitorId and visitId.\n",
    "\n",
    "> ´__utmb__  cookie ´  |  Default Expiration Time: 30 mins from set/update  | Description: Used to determine new sessions/visits. The cookie is created when the javascript library executes and no existing __utmb__ cookies exists. The cookie is updated every time data is sent to Google Analytics.\n",
    "\n",
    "* visitNumber - The session number for this user. If this is the first session, then this is set to 1.\n",
    "\n",
    "* visitStartTime - The timestamp (expressed as POSIX time)."
   ]
  },
  {
   "cell_type": "markdown",
   "metadata": {},
   "source": [
    "#### Removed Data Fields\n",
    "\n",
    "Some fields were censored to remove target leakage. The major censored fields are listed below.\n",
    "\n",
    "* hits - This row and nested fields are populated for any and all types of hits. Provides a record of all page visits.\n",
    "\n",
    "* customDimensions - This section contains any user-level or session-level custom dimensions that are set for a session. This is a repeated field and has an entry for each dimension that is set.\n",
    "\n",
    "* totals - Multiple sub-columns were removed from the totals field.\n",
    "\n",
    "Both __train.csv__ and __test.csv__ contain the columns listed under Data Fields. "
   ]
  },
  {
   "cell_type": "markdown",
   "metadata": {},
   "source": [
    "**Data Leakage** occurs when your predictors include data that will not be available at the time you make predictions. \n"
   ]
  },
  {
   "cell_type": "markdown",
   "metadata": {},
   "source": [
    "### What each row/example represent?\n",
    "\n",
    "Each row in the dataset is one visit to the store. Because we are _predicting the log of the total revenue per user_, be aware that not all rows in test.csv will correspond to a row in the submission, but all unique fullVisitorIds will correspond to a row in the submission.\n",
    "\n",
    "### What am I predicting?\n",
    "\n",
    "We are predicting the natural log of the sum of all transactions per user. For every user in the test set, the target is: \n",
    "\n",
    ">$target_{user} = ln{\\sum_{i=1}^n}transaction_{user_i}$"
   ]
  },
  {
   "cell_type": "markdown",
   "metadata": {},
   "source": [
    "***\n",
    "## Evaluation Metric\n",
    "\n",
    "** Root Mean Squared Error (RMSE)**\n",
    "\n",
    "Submissions are scored on the root mean squared error. RMSE is defined as:\n",
    "\n",
    "${RMSE} = \\sqrt{\\frac{1}{n} \\sum_{i=1}^{n} (y_i - \\hat{y}_i)^2}$ , \n",
    "\n",
    "where $\\hat{y}$ is the predicted revenue for a customer and y is the natural log of the actual revenue value.\n",
    "\n",
    "**Output of the Analysis:**\n",
    "\n",
    "* CSV Submission File:\n",
    "For each fullVisitorId in the test set, you must predict the natural log of their total revenue in PredictedLogRevenue. The submission file should contain a header and have the following format:\n",
    "\n",
    ">fullVisitorId, PredictedLogRevenue\n",
    "\n",
    ">0000000259678714014, 0\n",
    "\n",
    ">0000049363351866189, 0\n",
    "\n",
    ">0000053049821714864, 0\n",
    "\n",
    ">etc."
   ]
  },
  {
   "cell_type": "code",
   "execution_count": null,
   "metadata": {},
   "outputs": [],
   "source": []
  }
 ],
 "metadata": {
  "kernelspec": {
   "display_name": "Python 3",
   "language": "python",
   "name": "python3"
  },
  "language_info": {
   "codemirror_mode": {
    "name": "ipython",
    "version": 3
   },
   "file_extension": ".py",
   "mimetype": "text/x-python",
   "name": "python",
   "nbconvert_exporter": "python",
   "pygments_lexer": "ipython3",
   "version": "3.6.5"
  }
 },
 "nbformat": 4,
 "nbformat_minor": 2
}
