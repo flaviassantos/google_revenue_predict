{
  "cells": [
    {
      "metadata": {
        "_uuid": "55828acd352161254b20bdd8c938ec6ed0ad3505"
      },
      "cell_type": "markdown",
      "source": "***\n# Exploratory Data Analysis\n\n- Author: Flávia Santos\n- Date: 2018/09\n- Supported Data Sources: CSV files \n- Output: \n            i.\tData quality report/summary report\n            ii.\tArchitecture Diagram of pipeline\n\nData exploration offers an early view into the data. A number of data issues can be uncovered during this step and corresponding methods can be applied to address those issues. \n\nIt is important to ask questions such as what is the source of the issue and how the issue may have been introduced. \n\nThis also helps you decide on the data processing steps that need to be taken to resolve them. The kind of insights one intends to derive from the data can also be used to prioritize the data processing effort.\n\nThis tool provides various functionalities to help users explore the data and get insights through interactive visualization and statistical testing. \n\n- [Read and Summarize the data](#read and summarize)\n\n- [Extract Descriptive Statistics of Data](#descriptive statistics)\n\n- [Explore Individual Variables](#individual variables)\n\n- [Explore Interactions between Variables](#multiple variables)\n\n    - [Rank variables](#rank variables)\n    \n    - [Interaction between two categorical variables](#two categorical)\n    \n    - [Interaction between two numerical variables](#two numerical)\n\n    - [Interaction between numerical and categorical variables](#numerical and categorical)\n\n    - [Interaction between two numerical variables and a categorical variable](#two numerical and categorical)\n\n- [Visualize High Dimensional Data via Projecting to Lower Dimension Principal Component Spaces](#pca)\n\n- [Generate Data Report](#report)\n\n"
    },
    {
      "metadata": {
        "_uuid": "4c98e39e5f4e7e2096de37ae0494dbfe9150fed8"
      },
      "cell_type": "markdown",
      "source": "### Import necessary packages and set up environment parameters"
    },
    {
      "metadata": {
        "trusted": true,
        "_uuid": "f17c906e2cec8927778cc03ff0f2a0e2fc287e1d",
        "collapsed": true
      },
      "cell_type": "code",
      "source": "# numpy and pandas for data manipulation\nimport numpy as np\nimport pandas as pd \n\n# sklearn preprocessing for dealing with categorical variables\nfrom sklearn.preprocessing import LabelEncoder\n\n# File system manangement\nimport os\n\n# Suppress warnings \nimport warnings\nwarnings.filterwarnings('ignore')\n\n# matplotlib and seaborn for plotting\nimport matplotlib.pyplot as plt\nimport seaborn as sns\n\npd.options.display.max_columns=1000\n%matplotlib inline",
      "execution_count": 1,
      "outputs": []
    },
    {
      "metadata": {
        "_uuid": "748e0c9f6f24f2c7a383be259a81d47e467302cb"
      },
      "cell_type": "markdown",
      "source": "## <a name=\"read and summarize\"></a> Read and Summarize the Data"
    },
    {
      "metadata": {
        "_uuid": "abb79ff5530147e7f665e5ba8da39acca4a0cc2a"
      },
      "cell_type": "markdown",
      "source": "### Check number of records and attributes (or features)"
    },
    {
      "metadata": {
        "trusted": true,
        "_uuid": "fcb8b3e73c800658ea3fce100b44989129b36d6c"
      },
      "cell_type": "code",
      "source": "%%time\nPATH = '../input'\ntrain = pd.read_csv(PATH+\"/process/train_flat.csv\", dtype={'fullVisitorId':str})#,parse_dates=['date'], date_parser=dateparse)\ntest = pd.read_csv(PATH+\"/process/test_flat.csv\", dtype={'fullVisitorId':str})#,parse_dates=['date'], date_parser=dateparse)\nsample_submission = pd.read_csv(\"../input/google-analytics-customer-revenue-prediction/sample_submission.csv\")",
      "execution_count": 2,
      "outputs": [
        {
          "output_type": "stream",
          "text": "CPU times: user 20.2 s, sys: 1.63 s, total: 21.8 s\nWall time: 22 s\n",
          "name": "stdout"
        }
      ]
    },
    {
      "metadata": {
        "trusted": true,
        "_uuid": "f83f0ba4a34359652b1f8ac1d2743b19a0770250"
      },
      "cell_type": "code",
      "source": "%%time\nprint(\"Dimensions of the data (rows, cloumns):\\n\")\nprint('Size of train data', train.shape)\nprint('Size of test data', test.shape)\nprint('Size of sample_submission data', sample_submission.shape)\n#export to report",
      "execution_count": 3,
      "outputs": [
        {
          "output_type": "stream",
          "text": "Dimensions of the data (rows, cloumns):\n\nSize of train data (903653, 55)\nSize of test data (804684, 53)\nSize of sample_submission data (617242, 2)\nCPU times: user 0 ns, sys: 0 ns, total: 0 ns\nWall time: 1.56 ms\n",
          "name": "stdout"
        }
      ]
    },
    {
      "metadata": {
        "trusted": true,
        "_uuid": "2e36b8795ab5723fb442da982deb254e6a483652"
      },
      "cell_type": "code",
      "source": "train.head()",
      "execution_count": 4,
      "outputs": [
        {
          "output_type": "execute_result",
          "execution_count": 4,
          "data": {
            "text/plain": "  channelGrouping      date        fullVisitorId  \\\n0  Organic Search  20160902  1131660440785968503   \n1  Organic Search  20160902   377306020877927890   \n2  Organic Search  20160902  3895546263509774583   \n3  Organic Search  20160902  4763447161404445595   \n4  Organic Search  20160902    27294437909732085   \n\n                        sessionId  socialEngagementType     visitId  \\\n0  1131660440785968503_1472830385  Not Socially Engaged  1472830385   \n1   377306020877927890_1472880147  Not Socially Engaged  1472880147   \n2  3895546263509774583_1472865386  Not Socially Engaged  1472865386   \n3  4763447161404445595_1472881213  Not Socially Engaged  1472881213   \n4    27294437909732085_1472822600  Not Socially Engaged  1472822600   \n\n   visitNumber  visitStartTime device.browser             device.browserSize  \\\n0            1      1472830385         Chrome  not available in demo dataset   \n1            1      1472880147        Firefox  not available in demo dataset   \n2            1      1472865386         Chrome  not available in demo dataset   \n3            1      1472881213     UC Browser  not available in demo dataset   \n4            2      1472822600         Chrome  not available in demo dataset   \n\n           device.browserVersion device.deviceCategory  \\\n0  not available in demo dataset               desktop   \n1  not available in demo dataset               desktop   \n2  not available in demo dataset               desktop   \n3  not available in demo dataset               desktop   \n4  not available in demo dataset                mobile   \n\n             device.flashVersion  device.isMobile  \\\n0  not available in demo dataset            False   \n1  not available in demo dataset            False   \n2  not available in demo dataset            False   \n3  not available in demo dataset            False   \n4  not available in demo dataset             True   \n\n                 device.language    device.mobileDeviceBranding  \\\n0  not available in demo dataset  not available in demo dataset   \n1  not available in demo dataset  not available in demo dataset   \n2  not available in demo dataset  not available in demo dataset   \n3  not available in demo dataset  not available in demo dataset   \n4  not available in demo dataset  not available in demo dataset   \n\n         device.mobileDeviceInfo device.mobileDeviceMarketingName  \\\n0  not available in demo dataset    not available in demo dataset   \n1  not available in demo dataset    not available in demo dataset   \n2  not available in demo dataset    not available in demo dataset   \n3  not available in demo dataset    not available in demo dataset   \n4  not available in demo dataset    not available in demo dataset   \n\n        device.mobileDeviceModel     device.mobileInputSelector  \\\n0  not available in demo dataset  not available in demo dataset   \n1  not available in demo dataset  not available in demo dataset   \n2  not available in demo dataset  not available in demo dataset   \n3  not available in demo dataset  not available in demo dataset   \n4  not available in demo dataset  not available in demo dataset   \n\n  device.operatingSystem  device.operatingSystemVersion  \\\n0                Windows  not available in demo dataset   \n1              Macintosh  not available in demo dataset   \n2                Windows  not available in demo dataset   \n3                  Linux  not available in demo dataset   \n4                Android  not available in demo dataset   \n\n             device.screenColors        device.screenResolution  \\\n0  not available in demo dataset  not available in demo dataset   \n1  not available in demo dataset  not available in demo dataset   \n2  not available in demo dataset  not available in demo dataset   \n3  not available in demo dataset  not available in demo dataset   \n4  not available in demo dataset  not available in demo dataset   \n\n                 geoNetwork.city              geoNetwork.cityId  \\\n0                          Izmir  not available in demo dataset   \n1  not available in demo dataset  not available in demo dataset   \n2                         Madrid  not available in demo dataset   \n3  not available in demo dataset  not available in demo dataset   \n4  not available in demo dataset  not available in demo dataset   \n\n  geoNetwork.continent geoNetwork.country            geoNetwork.latitude  \\\n0                 Asia             Turkey  not available in demo dataset   \n1              Oceania          Australia  not available in demo dataset   \n2               Europe              Spain  not available in demo dataset   \n3                 Asia          Indonesia  not available in demo dataset   \n4               Europe     United Kingdom  not available in demo dataset   \n\n            geoNetwork.longitude               geoNetwork.metro  \\\n0  not available in demo dataset                      (not set)   \n1  not available in demo dataset  not available in demo dataset   \n2  not available in demo dataset                      (not set)   \n3  not available in demo dataset  not available in demo dataset   \n4  not available in demo dataset  not available in demo dataset   \n\n  geoNetwork.networkDomain     geoNetwork.networkLocation  \\\n0             ttnet.com.tr  not available in demo dataset   \n1              dodo.net.au  not available in demo dataset   \n2          unknown.unknown  not available in demo dataset   \n3          unknown.unknown  not available in demo dataset   \n4          unknown.unknown  not available in demo dataset   \n\n               geoNetwork.region geoNetwork.subContinent  totals.bounces  \\\n0                          Izmir            Western Asia             1.0   \n1  not available in demo dataset             Australasia             1.0   \n2            Community of Madrid         Southern Europe             1.0   \n3  not available in demo dataset          Southeast Asia             1.0   \n4  not available in demo dataset         Northern Europe             1.0   \n\n   totals.hits  totals.newVisits  totals.pageviews  totals.transactionRevenue  \\\n0            1               1.0               1.0                        NaN   \n1            1               1.0               1.0                        NaN   \n2            1               1.0               1.0                        NaN   \n3            1               1.0               1.0                        NaN   \n4            1               NaN               1.0                        NaN   \n\n   totals.visits trafficSource.adContent  \\\n0              1                     NaN   \n1              1                     NaN   \n2              1                     NaN   \n3              1                     NaN   \n4              1                     NaN   \n\n  trafficSource.adwordsClickInfo.adNetworkType  \\\n0                                          NaN   \n1                                          NaN   \n2                                          NaN   \n3                                          NaN   \n4                                          NaN   \n\n  trafficSource.adwordsClickInfo.criteriaParameters  \\\n0                     not available in demo dataset   \n1                     not available in demo dataset   \n2                     not available in demo dataset   \n3                     not available in demo dataset   \n4                     not available in demo dataset   \n\n  trafficSource.adwordsClickInfo.gclId  \\\n0                                  NaN   \n1                                  NaN   \n2                                  NaN   \n3                                  NaN   \n4                                  NaN   \n\n  trafficSource.adwordsClickInfo.isVideoAd  \\\n0                                      NaN   \n1                                      NaN   \n2                                      NaN   \n3                                      NaN   \n4                                      NaN   \n\n   trafficSource.adwordsClickInfo.page trafficSource.adwordsClickInfo.slot  \\\n0                                  NaN                                 NaN   \n1                                  NaN                                 NaN   \n2                                  NaN                                 NaN   \n3                                  NaN                                 NaN   \n4                                  NaN                                 NaN   \n\n  trafficSource.campaign trafficSource.campaignCode  \\\n0              (not set)                        NaN   \n1              (not set)                        NaN   \n2              (not set)                        NaN   \n3              (not set)                        NaN   \n4              (not set)                        NaN   \n\n  trafficSource.isTrueDirect trafficSource.keyword trafficSource.medium  \\\n0                        NaN        (not provided)              organic   \n1                        NaN        (not provided)              organic   \n2                        NaN        (not provided)              organic   \n3                        NaN       google + online              organic   \n4                       True        (not provided)              organic   \n\n  trafficSource.referralPath trafficSource.source  \n0                        NaN               google  \n1                        NaN               google  \n2                        NaN               google  \n3                        NaN               google  \n4                        NaN               google  ",
            "text/html": "<div>\n<style scoped>\n    .dataframe tbody tr th:only-of-type {\n        vertical-align: middle;\n    }\n\n    .dataframe tbody tr th {\n        vertical-align: top;\n    }\n\n    .dataframe thead th {\n        text-align: right;\n    }\n</style>\n<table border=\"1\" class=\"dataframe\">\n  <thead>\n    <tr style=\"text-align: right;\">\n      <th></th>\n      <th>channelGrouping</th>\n      <th>date</th>\n      <th>fullVisitorId</th>\n      <th>sessionId</th>\n      <th>socialEngagementType</th>\n      <th>visitId</th>\n      <th>visitNumber</th>\n      <th>visitStartTime</th>\n      <th>device.browser</th>\n      <th>device.browserSize</th>\n      <th>device.browserVersion</th>\n      <th>device.deviceCategory</th>\n      <th>device.flashVersion</th>\n      <th>device.isMobile</th>\n      <th>device.language</th>\n      <th>device.mobileDeviceBranding</th>\n      <th>device.mobileDeviceInfo</th>\n      <th>device.mobileDeviceMarketingName</th>\n      <th>device.mobileDeviceModel</th>\n      <th>device.mobileInputSelector</th>\n      <th>device.operatingSystem</th>\n      <th>device.operatingSystemVersion</th>\n      <th>device.screenColors</th>\n      <th>device.screenResolution</th>\n      <th>geoNetwork.city</th>\n      <th>geoNetwork.cityId</th>\n      <th>geoNetwork.continent</th>\n      <th>geoNetwork.country</th>\n      <th>geoNetwork.latitude</th>\n      <th>geoNetwork.longitude</th>\n      <th>geoNetwork.metro</th>\n      <th>geoNetwork.networkDomain</th>\n      <th>geoNetwork.networkLocation</th>\n      <th>geoNetwork.region</th>\n      <th>geoNetwork.subContinent</th>\n      <th>totals.bounces</th>\n      <th>totals.hits</th>\n      <th>totals.newVisits</th>\n      <th>totals.pageviews</th>\n      <th>totals.transactionRevenue</th>\n      <th>totals.visits</th>\n      <th>trafficSource.adContent</th>\n      <th>trafficSource.adwordsClickInfo.adNetworkType</th>\n      <th>trafficSource.adwordsClickInfo.criteriaParameters</th>\n      <th>trafficSource.adwordsClickInfo.gclId</th>\n      <th>trafficSource.adwordsClickInfo.isVideoAd</th>\n      <th>trafficSource.adwordsClickInfo.page</th>\n      <th>trafficSource.adwordsClickInfo.slot</th>\n      <th>trafficSource.campaign</th>\n      <th>trafficSource.campaignCode</th>\n      <th>trafficSource.isTrueDirect</th>\n      <th>trafficSource.keyword</th>\n      <th>trafficSource.medium</th>\n      <th>trafficSource.referralPath</th>\n      <th>trafficSource.source</th>\n    </tr>\n  </thead>\n  <tbody>\n    <tr>\n      <th>0</th>\n      <td>Organic Search</td>\n      <td>20160902</td>\n      <td>1131660440785968503</td>\n      <td>1131660440785968503_1472830385</td>\n      <td>Not Socially Engaged</td>\n      <td>1472830385</td>\n      <td>1</td>\n      <td>1472830385</td>\n      <td>Chrome</td>\n      <td>not available in demo dataset</td>\n      <td>not available in demo dataset</td>\n      <td>desktop</td>\n      <td>not available in demo dataset</td>\n      <td>False</td>\n      <td>not available in demo dataset</td>\n      <td>not available in demo dataset</td>\n      <td>not available in demo dataset</td>\n      <td>not available in demo dataset</td>\n      <td>not available in demo dataset</td>\n      <td>not available in demo dataset</td>\n      <td>Windows</td>\n      <td>not available in demo dataset</td>\n      <td>not available in demo dataset</td>\n      <td>not available in demo dataset</td>\n      <td>Izmir</td>\n      <td>not available in demo dataset</td>\n      <td>Asia</td>\n      <td>Turkey</td>\n      <td>not available in demo dataset</td>\n      <td>not available in demo dataset</td>\n      <td>(not set)</td>\n      <td>ttnet.com.tr</td>\n      <td>not available in demo dataset</td>\n      <td>Izmir</td>\n      <td>Western Asia</td>\n      <td>1.0</td>\n      <td>1</td>\n      <td>1.0</td>\n      <td>1.0</td>\n      <td>NaN</td>\n      <td>1</td>\n      <td>NaN</td>\n      <td>NaN</td>\n      <td>not available in demo dataset</td>\n      <td>NaN</td>\n      <td>NaN</td>\n      <td>NaN</td>\n      <td>NaN</td>\n      <td>(not set)</td>\n      <td>NaN</td>\n      <td>NaN</td>\n      <td>(not provided)</td>\n      <td>organic</td>\n      <td>NaN</td>\n      <td>google</td>\n    </tr>\n    <tr>\n      <th>1</th>\n      <td>Organic Search</td>\n      <td>20160902</td>\n      <td>377306020877927890</td>\n      <td>377306020877927890_1472880147</td>\n      <td>Not Socially Engaged</td>\n      <td>1472880147</td>\n      <td>1</td>\n      <td>1472880147</td>\n      <td>Firefox</td>\n      <td>not available in demo dataset</td>\n      <td>not available in demo dataset</td>\n      <td>desktop</td>\n      <td>not available in demo dataset</td>\n      <td>False</td>\n      <td>not available in demo dataset</td>\n      <td>not available in demo dataset</td>\n      <td>not available in demo dataset</td>\n      <td>not available in demo dataset</td>\n      <td>not available in demo dataset</td>\n      <td>not available in demo dataset</td>\n      <td>Macintosh</td>\n      <td>not available in demo dataset</td>\n      <td>not available in demo dataset</td>\n      <td>not available in demo dataset</td>\n      <td>not available in demo dataset</td>\n      <td>not available in demo dataset</td>\n      <td>Oceania</td>\n      <td>Australia</td>\n      <td>not available in demo dataset</td>\n      <td>not available in demo dataset</td>\n      <td>not available in demo dataset</td>\n      <td>dodo.net.au</td>\n      <td>not available in demo dataset</td>\n      <td>not available in demo dataset</td>\n      <td>Australasia</td>\n      <td>1.0</td>\n      <td>1</td>\n      <td>1.0</td>\n      <td>1.0</td>\n      <td>NaN</td>\n      <td>1</td>\n      <td>NaN</td>\n      <td>NaN</td>\n      <td>not available in demo dataset</td>\n      <td>NaN</td>\n      <td>NaN</td>\n      <td>NaN</td>\n      <td>NaN</td>\n      <td>(not set)</td>\n      <td>NaN</td>\n      <td>NaN</td>\n      <td>(not provided)</td>\n      <td>organic</td>\n      <td>NaN</td>\n      <td>google</td>\n    </tr>\n    <tr>\n      <th>2</th>\n      <td>Organic Search</td>\n      <td>20160902</td>\n      <td>3895546263509774583</td>\n      <td>3895546263509774583_1472865386</td>\n      <td>Not Socially Engaged</td>\n      <td>1472865386</td>\n      <td>1</td>\n      <td>1472865386</td>\n      <td>Chrome</td>\n      <td>not available in demo dataset</td>\n      <td>not available in demo dataset</td>\n      <td>desktop</td>\n      <td>not available in demo dataset</td>\n      <td>False</td>\n      <td>not available in demo dataset</td>\n      <td>not available in demo dataset</td>\n      <td>not available in demo dataset</td>\n      <td>not available in demo dataset</td>\n      <td>not available in demo dataset</td>\n      <td>not available in demo dataset</td>\n      <td>Windows</td>\n      <td>not available in demo dataset</td>\n      <td>not available in demo dataset</td>\n      <td>not available in demo dataset</td>\n      <td>Madrid</td>\n      <td>not available in demo dataset</td>\n      <td>Europe</td>\n      <td>Spain</td>\n      <td>not available in demo dataset</td>\n      <td>not available in demo dataset</td>\n      <td>(not set)</td>\n      <td>unknown.unknown</td>\n      <td>not available in demo dataset</td>\n      <td>Community of Madrid</td>\n      <td>Southern Europe</td>\n      <td>1.0</td>\n      <td>1</td>\n      <td>1.0</td>\n      <td>1.0</td>\n      <td>NaN</td>\n      <td>1</td>\n      <td>NaN</td>\n      <td>NaN</td>\n      <td>not available in demo dataset</td>\n      <td>NaN</td>\n      <td>NaN</td>\n      <td>NaN</td>\n      <td>NaN</td>\n      <td>(not set)</td>\n      <td>NaN</td>\n      <td>NaN</td>\n      <td>(not provided)</td>\n      <td>organic</td>\n      <td>NaN</td>\n      <td>google</td>\n    </tr>\n    <tr>\n      <th>3</th>\n      <td>Organic Search</td>\n      <td>20160902</td>\n      <td>4763447161404445595</td>\n      <td>4763447161404445595_1472881213</td>\n      <td>Not Socially Engaged</td>\n      <td>1472881213</td>\n      <td>1</td>\n      <td>1472881213</td>\n      <td>UC Browser</td>\n      <td>not available in demo dataset</td>\n      <td>not available in demo dataset</td>\n      <td>desktop</td>\n      <td>not available in demo dataset</td>\n      <td>False</td>\n      <td>not available in demo dataset</td>\n      <td>not available in demo dataset</td>\n      <td>not available in demo dataset</td>\n      <td>not available in demo dataset</td>\n      <td>not available in demo dataset</td>\n      <td>not available in demo dataset</td>\n      <td>Linux</td>\n      <td>not available in demo dataset</td>\n      <td>not available in demo dataset</td>\n      <td>not available in demo dataset</td>\n      <td>not available in demo dataset</td>\n      <td>not available in demo dataset</td>\n      <td>Asia</td>\n      <td>Indonesia</td>\n      <td>not available in demo dataset</td>\n      <td>not available in demo dataset</td>\n      <td>not available in demo dataset</td>\n      <td>unknown.unknown</td>\n      <td>not available in demo dataset</td>\n      <td>not available in demo dataset</td>\n      <td>Southeast Asia</td>\n      <td>1.0</td>\n      <td>1</td>\n      <td>1.0</td>\n      <td>1.0</td>\n      <td>NaN</td>\n      <td>1</td>\n      <td>NaN</td>\n      <td>NaN</td>\n      <td>not available in demo dataset</td>\n      <td>NaN</td>\n      <td>NaN</td>\n      <td>NaN</td>\n      <td>NaN</td>\n      <td>(not set)</td>\n      <td>NaN</td>\n      <td>NaN</td>\n      <td>google + online</td>\n      <td>organic</td>\n      <td>NaN</td>\n      <td>google</td>\n    </tr>\n    <tr>\n      <th>4</th>\n      <td>Organic Search</td>\n      <td>20160902</td>\n      <td>27294437909732085</td>\n      <td>27294437909732085_1472822600</td>\n      <td>Not Socially Engaged</td>\n      <td>1472822600</td>\n      <td>2</td>\n      <td>1472822600</td>\n      <td>Chrome</td>\n      <td>not available in demo dataset</td>\n      <td>not available in demo dataset</td>\n      <td>mobile</td>\n      <td>not available in demo dataset</td>\n      <td>True</td>\n      <td>not available in demo dataset</td>\n      <td>not available in demo dataset</td>\n      <td>not available in demo dataset</td>\n      <td>not available in demo dataset</td>\n      <td>not available in demo dataset</td>\n      <td>not available in demo dataset</td>\n      <td>Android</td>\n      <td>not available in demo dataset</td>\n      <td>not available in demo dataset</td>\n      <td>not available in demo dataset</td>\n      <td>not available in demo dataset</td>\n      <td>not available in demo dataset</td>\n      <td>Europe</td>\n      <td>United Kingdom</td>\n      <td>not available in demo dataset</td>\n      <td>not available in demo dataset</td>\n      <td>not available in demo dataset</td>\n      <td>unknown.unknown</td>\n      <td>not available in demo dataset</td>\n      <td>not available in demo dataset</td>\n      <td>Northern Europe</td>\n      <td>1.0</td>\n      <td>1</td>\n      <td>NaN</td>\n      <td>1.0</td>\n      <td>NaN</td>\n      <td>1</td>\n      <td>NaN</td>\n      <td>NaN</td>\n      <td>not available in demo dataset</td>\n      <td>NaN</td>\n      <td>NaN</td>\n      <td>NaN</td>\n      <td>NaN</td>\n      <td>(not set)</td>\n      <td>NaN</td>\n      <td>True</td>\n      <td>(not provided)</td>\n      <td>organic</td>\n      <td>NaN</td>\n      <td>google</td>\n    </tr>\n  </tbody>\n</table>\n</div>"
          },
          "metadata": {}
        }
      ]
    },
    {
      "metadata": {
        "_uuid": "43c5c3175b28975ff302d28ec9f8fee341d973d6"
      },
      "cell_type": "markdown",
      "source": "### The attribute data types"
    },
    {
      "metadata": {
        "trusted": true,
        "_uuid": "3be818e601999092cc24e97804dba8a5896a1122"
      },
      "cell_type": "code",
      "source": "print(\"The data types in columns and missing data are:\")\ntrain.info()",
      "execution_count": 5,
      "outputs": [
        {
          "output_type": "stream",
          "text": "The data types in columns and missing data are:\n<class 'pandas.core.frame.DataFrame'>\nRangeIndex: 903653 entries, 0 to 903652\nData columns (total 55 columns):\nchannelGrouping                                      903653 non-null object\ndate                                                 903653 non-null int64\nfullVisitorId                                        903653 non-null object\nsessionId                                            903653 non-null object\nsocialEngagementType                                 903653 non-null object\nvisitId                                              903653 non-null int64\nvisitNumber                                          903653 non-null int64\nvisitStartTime                                       903653 non-null int64\ndevice.browser                                       903653 non-null object\ndevice.browserSize                                   903653 non-null object\ndevice.browserVersion                                903653 non-null object\ndevice.deviceCategory                                903653 non-null object\ndevice.flashVersion                                  903653 non-null object\ndevice.isMobile                                      903653 non-null bool\ndevice.language                                      903653 non-null object\ndevice.mobileDeviceBranding                          903653 non-null object\ndevice.mobileDeviceInfo                              903653 non-null object\ndevice.mobileDeviceMarketingName                     903653 non-null object\ndevice.mobileDeviceModel                             903653 non-null object\ndevice.mobileInputSelector                           903653 non-null object\ndevice.operatingSystem                               903653 non-null object\ndevice.operatingSystemVersion                        903653 non-null object\ndevice.screenColors                                  903653 non-null object\ndevice.screenResolution                              903653 non-null object\ngeoNetwork.city                                      903653 non-null object\ngeoNetwork.cityId                                    903653 non-null object\ngeoNetwork.continent                                 903653 non-null object\ngeoNetwork.country                                   903653 non-null object\ngeoNetwork.latitude                                  903653 non-null object\ngeoNetwork.longitude                                 903653 non-null object\ngeoNetwork.metro                                     903653 non-null object\ngeoNetwork.networkDomain                             903653 non-null object\ngeoNetwork.networkLocation                           903653 non-null object\ngeoNetwork.region                                    903653 non-null object\ngeoNetwork.subContinent                              903653 non-null object\ntotals.bounces                                       450630 non-null float64\ntotals.hits                                          903653 non-null int64\ntotals.newVisits                                     703060 non-null float64\ntotals.pageviews                                     903553 non-null float64\ntotals.transactionRevenue                            11515 non-null float64\ntotals.visits                                        903653 non-null int64\ntrafficSource.adContent                              10946 non-null object\ntrafficSource.adwordsClickInfo.adNetworkType         21460 non-null object\ntrafficSource.adwordsClickInfo.criteriaParameters    903653 non-null object\ntrafficSource.adwordsClickInfo.gclId                 21561 non-null object\ntrafficSource.adwordsClickInfo.isVideoAd             21460 non-null object\ntrafficSource.adwordsClickInfo.page                  21460 non-null float64\ntrafficSource.adwordsClickInfo.slot                  21460 non-null object\ntrafficSource.campaign                               903653 non-null object\ntrafficSource.campaignCode                           1 non-null object\ntrafficSource.isTrueDirect                           274005 non-null object\ntrafficSource.keyword                                400724 non-null object\ntrafficSource.medium                                 903653 non-null object\ntrafficSource.referralPath                           330941 non-null object\ntrafficSource.source                                 903653 non-null object\ndtypes: bool(1), float64(5), int64(6), object(43)\nmemory usage: 373.2+ MB\n",
          "name": "stdout"
        }
      ]
    },
    {
      "metadata": {
        "_uuid": "43ab2162ec9c99032f754de3bf3f749fec9602f2"
      },
      "cell_type": "markdown",
      "source": "### <a name=\"individual variable\"></a>Extract Descriptive Statistics of Each Column"
    },
    {
      "metadata": {
        "scrolled": false,
        "trusted": true,
        "_uuid": "0db3cf16b1ad140a6dfbe70563ee57be93048af1"
      },
      "cell_type": "code",
      "source": "print(\"Descriptive statistics of numerical columns:\\n\")\ntrain.describe()",
      "execution_count": 6,
      "outputs": [
        {
          "output_type": "stream",
          "text": "Descriptive statistics of numerical columns:\n\n",
          "name": "stdout"
        },
        {
          "output_type": "execute_result",
          "execution_count": 6,
          "data": {
            "text/plain": "               date       visitId    visitNumber  visitStartTime  \\\ncount  9.036530e+05  9.036530e+05  903653.000000    9.036530e+05   \nmean   2.016589e+07  1.485007e+09       2.264897    1.485007e+09   \nstd    4.697698e+03  9.022124e+06       9.283735    9.022124e+06   \nmin    2.016080e+07  1.470035e+09       1.000000    1.470035e+09   \n25%    2.016103e+07  1.477561e+09       1.000000    1.477561e+09   \n50%    2.017011e+07  1.483949e+09       1.000000    1.483949e+09   \n75%    2.017042e+07  1.492759e+09       1.000000    1.492759e+09   \nmax    2.017080e+07  1.501657e+09     395.000000    1.501657e+09   \n\n       totals.bounces    totals.hits  totals.newVisits  totals.pageviews  \\\ncount        450630.0  903653.000000          703060.0     903553.000000   \nmean              1.0       4.596538               1.0          3.849764   \nstd               0.0       9.641437               0.0          7.025274   \nmin               1.0       1.000000               1.0          1.000000   \n25%               1.0       1.000000               1.0          1.000000   \n50%               1.0       2.000000               1.0          1.000000   \n75%               1.0       4.000000               1.0          4.000000   \nmax               1.0     500.000000               1.0        469.000000   \n\n       totals.transactionRevenue  totals.visits  \\\ncount               1.151500e+04       903653.0   \nmean                1.337448e+08            1.0   \nstd                 4.482852e+08            0.0   \nmin                 1.000000e+04            1.0   \n25%                 2.493000e+07            1.0   \n50%                 4.945000e+07            1.0   \n75%                 1.076550e+08            1.0   \nmax                 2.312950e+10            1.0   \n\n       trafficSource.adwordsClickInfo.page  \ncount                         21460.000000  \nmean                              1.008108  \nstd                               0.173584  \nmin                               1.000000  \n25%                               1.000000  \n50%                               1.000000  \n75%                               1.000000  \nmax                              14.000000  ",
            "text/html": "<div>\n<style scoped>\n    .dataframe tbody tr th:only-of-type {\n        vertical-align: middle;\n    }\n\n    .dataframe tbody tr th {\n        vertical-align: top;\n    }\n\n    .dataframe thead th {\n        text-align: right;\n    }\n</style>\n<table border=\"1\" class=\"dataframe\">\n  <thead>\n    <tr style=\"text-align: right;\">\n      <th></th>\n      <th>date</th>\n      <th>visitId</th>\n      <th>visitNumber</th>\n      <th>visitStartTime</th>\n      <th>totals.bounces</th>\n      <th>totals.hits</th>\n      <th>totals.newVisits</th>\n      <th>totals.pageviews</th>\n      <th>totals.transactionRevenue</th>\n      <th>totals.visits</th>\n      <th>trafficSource.adwordsClickInfo.page</th>\n    </tr>\n  </thead>\n  <tbody>\n    <tr>\n      <th>count</th>\n      <td>9.036530e+05</td>\n      <td>9.036530e+05</td>\n      <td>903653.000000</td>\n      <td>9.036530e+05</td>\n      <td>450630.0</td>\n      <td>903653.000000</td>\n      <td>703060.0</td>\n      <td>903553.000000</td>\n      <td>1.151500e+04</td>\n      <td>903653.0</td>\n      <td>21460.000000</td>\n    </tr>\n    <tr>\n      <th>mean</th>\n      <td>2.016589e+07</td>\n      <td>1.485007e+09</td>\n      <td>2.264897</td>\n      <td>1.485007e+09</td>\n      <td>1.0</td>\n      <td>4.596538</td>\n      <td>1.0</td>\n      <td>3.849764</td>\n      <td>1.337448e+08</td>\n      <td>1.0</td>\n      <td>1.008108</td>\n    </tr>\n    <tr>\n      <th>std</th>\n      <td>4.697698e+03</td>\n      <td>9.022124e+06</td>\n      <td>9.283735</td>\n      <td>9.022124e+06</td>\n      <td>0.0</td>\n      <td>9.641437</td>\n      <td>0.0</td>\n      <td>7.025274</td>\n      <td>4.482852e+08</td>\n      <td>0.0</td>\n      <td>0.173584</td>\n    </tr>\n    <tr>\n      <th>min</th>\n      <td>2.016080e+07</td>\n      <td>1.470035e+09</td>\n      <td>1.000000</td>\n      <td>1.470035e+09</td>\n      <td>1.0</td>\n      <td>1.000000</td>\n      <td>1.0</td>\n      <td>1.000000</td>\n      <td>1.000000e+04</td>\n      <td>1.0</td>\n      <td>1.000000</td>\n    </tr>\n    <tr>\n      <th>25%</th>\n      <td>2.016103e+07</td>\n      <td>1.477561e+09</td>\n      <td>1.000000</td>\n      <td>1.477561e+09</td>\n      <td>1.0</td>\n      <td>1.000000</td>\n      <td>1.0</td>\n      <td>1.000000</td>\n      <td>2.493000e+07</td>\n      <td>1.0</td>\n      <td>1.000000</td>\n    </tr>\n    <tr>\n      <th>50%</th>\n      <td>2.017011e+07</td>\n      <td>1.483949e+09</td>\n      <td>1.000000</td>\n      <td>1.483949e+09</td>\n      <td>1.0</td>\n      <td>2.000000</td>\n      <td>1.0</td>\n      <td>1.000000</td>\n      <td>4.945000e+07</td>\n      <td>1.0</td>\n      <td>1.000000</td>\n    </tr>\n    <tr>\n      <th>75%</th>\n      <td>2.017042e+07</td>\n      <td>1.492759e+09</td>\n      <td>1.000000</td>\n      <td>1.492759e+09</td>\n      <td>1.0</td>\n      <td>4.000000</td>\n      <td>1.0</td>\n      <td>4.000000</td>\n      <td>1.076550e+08</td>\n      <td>1.0</td>\n      <td>1.000000</td>\n    </tr>\n    <tr>\n      <th>max</th>\n      <td>2.017080e+07</td>\n      <td>1.501657e+09</td>\n      <td>395.000000</td>\n      <td>1.501657e+09</td>\n      <td>1.0</td>\n      <td>500.000000</td>\n      <td>1.0</td>\n      <td>469.000000</td>\n      <td>2.312950e+10</td>\n      <td>1.0</td>\n      <td>14.000000</td>\n    </tr>\n  </tbody>\n</table>\n</div>"
          },
          "metadata": {}
        }
      ]
    },
    {
      "metadata": {
        "trusted": true,
        "_uuid": "435559c85a2977b766b75447998848a26d36a72f"
      },
      "cell_type": "code",
      "source": "print(\"Descriptive statistics of categorical columns\")\n",
      "execution_count": 7,
      "outputs": [
        {
          "output_type": "stream",
          "text": "Descriptive statistics of categorical columns\n",
          "name": "stdout"
        }
      ]
    },
    {
      "metadata": {
        "trusted": true,
        "_uuid": "dfa5cb1acb522a439c3743e75d0bd124e5a26f0c",
        "collapsed": true
      },
      "cell_type": "code",
      "source": "def missing_data(data):\n    total = data.isnull().sum().sort_values(ascending = False)\n    percent = (data.isnull().sum()/data.isnull().count()*100).sort_values(ascending = False)\n    return pd.concat([total, percent], axis=1, keys=['Total', 'Percent'])",
      "execution_count": 8,
      "outputs": []
    },
    {
      "metadata": {
        "trusted": true,
        "_uuid": "d6e776bf4c6cdc0f88f73bf4d6181e367cb374ee"
      },
      "cell_type": "code",
      "source": "print(\"Missing data:\\n\")\nmissing_data(train)",
      "execution_count": 9,
      "outputs": [
        {
          "output_type": "stream",
          "text": "Missing data:\n\n",
          "name": "stdout"
        },
        {
          "output_type": "execute_result",
          "execution_count": 9,
          "data": {
            "text/plain": "                                                    Total    Percent\ntrafficSource.campaignCode                         903652  99.999889\ntrafficSource.adContent                            892707  98.788694\ntotals.transactionRevenue                          892138  98.725728\ntrafficSource.adwordsClickInfo.page                882193  97.625195\ntrafficSource.adwordsClickInfo.adNetworkType       882193  97.625195\ntrafficSource.adwordsClickInfo.slot                882193  97.625195\ntrafficSource.adwordsClickInfo.isVideoAd           882193  97.625195\ntrafficSource.adwordsClickInfo.gclId               882092  97.614018\ntrafficSource.isTrueDirect                         629648  69.678073\ntrafficSource.referralPath                         572712  63.377425\ntrafficSource.keyword                              502929  55.655102\ntotals.bounces                                     453023  50.132407\ntotals.newVisits                                   200593  22.198012\ntotals.pageviews                                      100   0.011066\ndevice.isMobile                                         0   0.000000\ndevice.flashVersion                                     0   0.000000\ndevice.deviceCategory                                   0   0.000000\ndevice.mobileDeviceBranding                             0   0.000000\ndevice.language                                         0   0.000000\ndevice.browserSize                                      0   0.000000\ndevice.mobileDeviceInfo                                 0   0.000000\ndevice.mobileDeviceMarketingName                        0   0.000000\ndevice.browserVersion                                   0   0.000000\ntrafficSource.source                                    0   0.000000\ndevice.browser                                          0   0.000000\nvisitStartTime                                          0   0.000000\nvisitNumber                                             0   0.000000\nvisitId                                                 0   0.000000\ndevice.mobileInputSelector                              0   0.000000\nsocialEngagementType                                    0   0.000000\nsessionId                                               0   0.000000\nfullVisitorId                                           0   0.000000\ndate                                                    0   0.000000\ndevice.mobileDeviceModel                                0   0.000000\ngeoNetwork.country                                      0   0.000000\ndevice.operatingSystem                                  0   0.000000\ndevice.operatingSystemVersion                           0   0.000000\ntrafficSource.medium                                    0   0.000000\ntrafficSource.campaign                                  0   0.000000\ntrafficSource.adwordsClickInfo.criteriaParameters       0   0.000000\ntotals.visits                                           0   0.000000\ntotals.hits                                             0   0.000000\ngeoNetwork.subContinent                                 0   0.000000\ngeoNetwork.region                                       0   0.000000\ngeoNetwork.networkLocation                              0   0.000000\ngeoNetwork.networkDomain                                0   0.000000\ngeoNetwork.metro                                        0   0.000000\ngeoNetwork.longitude                                    0   0.000000\ngeoNetwork.latitude                                     0   0.000000\ngeoNetwork.continent                                    0   0.000000\ngeoNetwork.cityId                                       0   0.000000\ngeoNetwork.city                                         0   0.000000\ndevice.screenResolution                                 0   0.000000\ndevice.screenColors                                     0   0.000000\nchannelGrouping                                         0   0.000000",
            "text/html": "<div>\n<style scoped>\n    .dataframe tbody tr th:only-of-type {\n        vertical-align: middle;\n    }\n\n    .dataframe tbody tr th {\n        vertical-align: top;\n    }\n\n    .dataframe thead th {\n        text-align: right;\n    }\n</style>\n<table border=\"1\" class=\"dataframe\">\n  <thead>\n    <tr style=\"text-align: right;\">\n      <th></th>\n      <th>Total</th>\n      <th>Percent</th>\n    </tr>\n  </thead>\n  <tbody>\n    <tr>\n      <th>trafficSource.campaignCode</th>\n      <td>903652</td>\n      <td>99.999889</td>\n    </tr>\n    <tr>\n      <th>trafficSource.adContent</th>\n      <td>892707</td>\n      <td>98.788694</td>\n    </tr>\n    <tr>\n      <th>totals.transactionRevenue</th>\n      <td>892138</td>\n      <td>98.725728</td>\n    </tr>\n    <tr>\n      <th>trafficSource.adwordsClickInfo.page</th>\n      <td>882193</td>\n      <td>97.625195</td>\n    </tr>\n    <tr>\n      <th>trafficSource.adwordsClickInfo.adNetworkType</th>\n      <td>882193</td>\n      <td>97.625195</td>\n    </tr>\n    <tr>\n      <th>trafficSource.adwordsClickInfo.slot</th>\n      <td>882193</td>\n      <td>97.625195</td>\n    </tr>\n    <tr>\n      <th>trafficSource.adwordsClickInfo.isVideoAd</th>\n      <td>882193</td>\n      <td>97.625195</td>\n    </tr>\n    <tr>\n      <th>trafficSource.adwordsClickInfo.gclId</th>\n      <td>882092</td>\n      <td>97.614018</td>\n    </tr>\n    <tr>\n      <th>trafficSource.isTrueDirect</th>\n      <td>629648</td>\n      <td>69.678073</td>\n    </tr>\n    <tr>\n      <th>trafficSource.referralPath</th>\n      <td>572712</td>\n      <td>63.377425</td>\n    </tr>\n    <tr>\n      <th>trafficSource.keyword</th>\n      <td>502929</td>\n      <td>55.655102</td>\n    </tr>\n    <tr>\n      <th>totals.bounces</th>\n      <td>453023</td>\n      <td>50.132407</td>\n    </tr>\n    <tr>\n      <th>totals.newVisits</th>\n      <td>200593</td>\n      <td>22.198012</td>\n    </tr>\n    <tr>\n      <th>totals.pageviews</th>\n      <td>100</td>\n      <td>0.011066</td>\n    </tr>\n    <tr>\n      <th>device.isMobile</th>\n      <td>0</td>\n      <td>0.000000</td>\n    </tr>\n    <tr>\n      <th>device.flashVersion</th>\n      <td>0</td>\n      <td>0.000000</td>\n    </tr>\n    <tr>\n      <th>device.deviceCategory</th>\n      <td>0</td>\n      <td>0.000000</td>\n    </tr>\n    <tr>\n      <th>device.mobileDeviceBranding</th>\n      <td>0</td>\n      <td>0.000000</td>\n    </tr>\n    <tr>\n      <th>device.language</th>\n      <td>0</td>\n      <td>0.000000</td>\n    </tr>\n    <tr>\n      <th>device.browserSize</th>\n      <td>0</td>\n      <td>0.000000</td>\n    </tr>\n    <tr>\n      <th>device.mobileDeviceInfo</th>\n      <td>0</td>\n      <td>0.000000</td>\n    </tr>\n    <tr>\n      <th>device.mobileDeviceMarketingName</th>\n      <td>0</td>\n      <td>0.000000</td>\n    </tr>\n    <tr>\n      <th>device.browserVersion</th>\n      <td>0</td>\n      <td>0.000000</td>\n    </tr>\n    <tr>\n      <th>trafficSource.source</th>\n      <td>0</td>\n      <td>0.000000</td>\n    </tr>\n    <tr>\n      <th>device.browser</th>\n      <td>0</td>\n      <td>0.000000</td>\n    </tr>\n    <tr>\n      <th>visitStartTime</th>\n      <td>0</td>\n      <td>0.000000</td>\n    </tr>\n    <tr>\n      <th>visitNumber</th>\n      <td>0</td>\n      <td>0.000000</td>\n    </tr>\n    <tr>\n      <th>visitId</th>\n      <td>0</td>\n      <td>0.000000</td>\n    </tr>\n    <tr>\n      <th>device.mobileInputSelector</th>\n      <td>0</td>\n      <td>0.000000</td>\n    </tr>\n    <tr>\n      <th>socialEngagementType</th>\n      <td>0</td>\n      <td>0.000000</td>\n    </tr>\n    <tr>\n      <th>sessionId</th>\n      <td>0</td>\n      <td>0.000000</td>\n    </tr>\n    <tr>\n      <th>fullVisitorId</th>\n      <td>0</td>\n      <td>0.000000</td>\n    </tr>\n    <tr>\n      <th>date</th>\n      <td>0</td>\n      <td>0.000000</td>\n    </tr>\n    <tr>\n      <th>device.mobileDeviceModel</th>\n      <td>0</td>\n      <td>0.000000</td>\n    </tr>\n    <tr>\n      <th>geoNetwork.country</th>\n      <td>0</td>\n      <td>0.000000</td>\n    </tr>\n    <tr>\n      <th>device.operatingSystem</th>\n      <td>0</td>\n      <td>0.000000</td>\n    </tr>\n    <tr>\n      <th>device.operatingSystemVersion</th>\n      <td>0</td>\n      <td>0.000000</td>\n    </tr>\n    <tr>\n      <th>trafficSource.medium</th>\n      <td>0</td>\n      <td>0.000000</td>\n    </tr>\n    <tr>\n      <th>trafficSource.campaign</th>\n      <td>0</td>\n      <td>0.000000</td>\n    </tr>\n    <tr>\n      <th>trafficSource.adwordsClickInfo.criteriaParameters</th>\n      <td>0</td>\n      <td>0.000000</td>\n    </tr>\n    <tr>\n      <th>totals.visits</th>\n      <td>0</td>\n      <td>0.000000</td>\n    </tr>\n    <tr>\n      <th>totals.hits</th>\n      <td>0</td>\n      <td>0.000000</td>\n    </tr>\n    <tr>\n      <th>geoNetwork.subContinent</th>\n      <td>0</td>\n      <td>0.000000</td>\n    </tr>\n    <tr>\n      <th>geoNetwork.region</th>\n      <td>0</td>\n      <td>0.000000</td>\n    </tr>\n    <tr>\n      <th>geoNetwork.networkLocation</th>\n      <td>0</td>\n      <td>0.000000</td>\n    </tr>\n    <tr>\n      <th>geoNetwork.networkDomain</th>\n      <td>0</td>\n      <td>0.000000</td>\n    </tr>\n    <tr>\n      <th>geoNetwork.metro</th>\n      <td>0</td>\n      <td>0.000000</td>\n    </tr>\n    <tr>\n      <th>geoNetwork.longitude</th>\n      <td>0</td>\n      <td>0.000000</td>\n    </tr>\n    <tr>\n      <th>geoNetwork.latitude</th>\n      <td>0</td>\n      <td>0.000000</td>\n    </tr>\n    <tr>\n      <th>geoNetwork.continent</th>\n      <td>0</td>\n      <td>0.000000</td>\n    </tr>\n    <tr>\n      <th>geoNetwork.cityId</th>\n      <td>0</td>\n      <td>0.000000</td>\n    </tr>\n    <tr>\n      <th>geoNetwork.city</th>\n      <td>0</td>\n      <td>0.000000</td>\n    </tr>\n    <tr>\n      <th>device.screenResolution</th>\n      <td>0</td>\n      <td>0.000000</td>\n    </tr>\n    <tr>\n      <th>device.screenColors</th>\n      <td>0</td>\n      <td>0.000000</td>\n    </tr>\n    <tr>\n      <th>channelGrouping</th>\n      <td>0</td>\n      <td>0.000000</td>\n    </tr>\n  </tbody>\n</table>\n</div>"
          },
          "metadata": {}
        }
      ]
    },
    {
      "metadata": {
        "_uuid": "179dd2159e433d366fbfe39f4cfec2e250cb8102"
      },
      "cell_type": "markdown",
      "source": "## <a name=\"individual variables\"></a>Explore Individual Variables"
    },
    {
      "metadata": {
        "trusted": true,
        "_uuid": "fb4fd7e271764d2a130e65c614aaea92ce5d64e2"
      },
      "cell_type": "code",
      "source": "train.nunique()",
      "execution_count": 10,
      "outputs": [
        {
          "output_type": "execute_result",
          "execution_count": 10,
          "data": {
            "text/plain": "channelGrouping                                           8\ndate                                                    366\nfullVisitorId                                        714167\nsessionId                                            902755\nsocialEngagementType                                      1\nvisitId                                              886303\nvisitNumber                                             384\nvisitStartTime                                       887159\ndevice.browser                                           54\ndevice.browserSize                                        1\ndevice.browserVersion                                     1\ndevice.deviceCategory                                     3\ndevice.flashVersion                                       1\ndevice.isMobile                                           2\ndevice.language                                           1\ndevice.mobileDeviceBranding                               1\ndevice.mobileDeviceInfo                                   1\ndevice.mobileDeviceMarketingName                          1\ndevice.mobileDeviceModel                                  1\ndevice.mobileInputSelector                                1\ndevice.operatingSystem                                   20\ndevice.operatingSystemVersion                             1\ndevice.screenColors                                       1\ndevice.screenResolution                                   1\ngeoNetwork.city                                         649\ngeoNetwork.cityId                                         1\ngeoNetwork.continent                                      6\ngeoNetwork.country                                      222\ngeoNetwork.latitude                                       1\ngeoNetwork.longitude                                      1\ngeoNetwork.metro                                         94\ngeoNetwork.networkDomain                              28064\ngeoNetwork.networkLocation                                1\ngeoNetwork.region                                       376\ngeoNetwork.subContinent                                  23\ntotals.bounces                                            1\ntotals.hits                                             274\ntotals.newVisits                                          1\ntotals.pageviews                                        213\ntotals.transactionRevenue                              5332\ntotals.visits                                             1\ntrafficSource.adContent                                  44\ntrafficSource.adwordsClickInfo.adNetworkType              2\ntrafficSource.adwordsClickInfo.criteriaParameters         1\ntrafficSource.adwordsClickInfo.gclId                  17774\ntrafficSource.adwordsClickInfo.isVideoAd                  1\ntrafficSource.adwordsClickInfo.page                       8\ntrafficSource.adwordsClickInfo.slot                       2\ntrafficSource.campaign                                   10\ntrafficSource.campaignCode                                1\ntrafficSource.isTrueDirect                                1\ntrafficSource.keyword                                  3659\ntrafficSource.medium                                      7\ntrafficSource.referralPath                             1475\ntrafficSource.source                                    380\ndtype: int64"
          },
          "metadata": {}
        }
      ]
    },
    {
      "metadata": {
        "_uuid": "39092ba3a296379dbceddf9dd72eb3efe4d780ff"
      },
      "cell_type": "markdown",
      "source": "<div><div class=\"alert alert-block alert-info\">\n> # Pre-processig:\n\n>There are quite a few colums with constant values, we can just drop them from **our** feature list and save some memory\nand time in our modeling process.\n\n>col_drop = list(col for col in train.columns if train[col].nunique()==1)"
    },
    {
      "metadata": {
        "_uuid": "7563cf51efe90e6703eb5f50c71eea486157f24e"
      },
      "cell_type": "markdown",
      "source": "### Explore the target variable"
    },
    {
      "metadata": {
        "trusted": true,
        "_uuid": "ee5b0784e983585f1c7793ffe7e152620c889d25"
      },
      "cell_type": "code",
      "source": "train[\"totals.transactionRevenue\"] = train[\"totals.transactionRevenue\"].astype('float')\ntemp = train.groupby(\"fullVisitorId\")[\"totals.transactionRevenue\"].sum().reset_index()\n\nplt.figure(figsize=(8,6))\nplt.scatter(range(temp.shape[0]), np.sort(np.log1p(temp[\"totals.transactionRevenue\"].values)))\nplt.xlabel('index', fontsize=12)\nplt.ylabel('TransactionRevenue', fontsize=12)\nplt.show()",
      "execution_count": 11,
      "outputs": [
        {
          "output_type": "display_data",
          "data": {
            "text/plain": "<matplotlib.figure.Figure at 0x7fcd4b50feb8>",
            "image/png": "[encoded data removed]"
          },
          "metadata": {}
        }
      ]
    },
    {
      "metadata": {
        "_uuid": "9e315267d929d81b233715e40fadb74e7aaa6844"
      },
      "cell_type": "markdown",
      "source": ">* The 80/20 rule has proven true for many businesses–only a small percentage of customers produce most of the revenue. As such, marketing teams are challenged to make appropriate investments in promotional strategies.\n\nIn this case, the ratio is even less:"
    },
    {
      "metadata": {
        "trusted": true,
        "_uuid": "cf8a5edb75c3cbd7f6ffb3a71fbd914109ff5cb4"
      },
      "cell_type": "code",
      "source": "notzero_tR = pd.notnull(train[\"totals.transactionRevenue\"]).sum()\nu_notzero_tR = (temp[\"totals.transactionRevenue\"]>0).sum()\nprint(\"Number of instances in train set with non-zero revenue : \", notzero_tR, \"| Ratio : \", notzero_tR / train.shape[0])\nprint(\"Number of unique customers with non-zero revenue : \", u_notzero_tR, \"| Ratio: \", u_notzero_tR / temp.shape[0])",
      "execution_count": 12,
      "outputs": [
        {
          "output_type": "stream",
          "text": "Number of instances in train set with non-zero revenue :  11515 | Ratio :  0.0127427231470487\nNumber of unique customers with non-zero revenue :  9996 | Ratio:  0.013996726255903731\n",
          "name": "stdout"
        }
      ]
    },
    {
      "metadata": {
        "trusted": true,
        "_uuid": "55ced29f2284a4e05b19179cbd751919e3f44b0d"
      },
      "cell_type": "code",
      "source": "print(\"Number of unique visitors in train set : \",train.fullVisitorId.nunique(), \" out of \",train.shape[0], 'rows.')\n#print(\"Number of unique visitors in train set : \",test_df.fullVisitorId.nunique(), \" out of \",test_df.shape[0], 'rows.')\nprint(\"Number of common visitors in train and test set : \",len(set(train.fullVisitorId.unique()).intersection(set(test.fullVisitorId.unique())) ))",
      "execution_count": 13,
      "outputs": [
        {
          "output_type": "stream",
          "text": "Number of unique visitors in train set :  714167  out of  903653 rows.\nNumber of common visitors in train and test set :  7679\n",
          "name": "stdout"
        }
      ]
    },
    {
      "metadata": {
        "_uuid": "a60bd9053024f37081e812e9bab41a7ebb09f235"
      },
      "cell_type": "markdown",
      "source": "# try diff visualization of target"
    },
    {
      "metadata": {
        "_uuid": "2dbc304171b92048e8214f2b5cfb43467c290fe3"
      },
      "cell_type": "markdown",
      "source": "### Explore individual numeric variables and test for normality (on sampled data)"
    },
    {
      "metadata": {
        "_uuid": "31fb1304256d225980f7ff20c55c2095693cd993"
      },
      "cell_type": "markdown",
      "source": "#### Which browser produce the most 'transactionRevenue'?\n"
    },
    {
      "metadata": {
        "trusted": true,
        "_uuid": "a0803241d6077cbe3888b697d6ef75ceabc089fc",
        "collapsed": true
      },
      "cell_type": "code",
      "source": "# double check the value of 'count'\n#temp = train[train['device.browser']=='Chrome']\n#temp[temp['totals.transactionRevenue']>0].shape",
      "execution_count": 14,
      "outputs": []
    },
    {
      "metadata": {
        "trusted": true,
        "_uuid": "71b75d478ea031e4b31cf2c6b8f8bdbeb9201c2e"
      },
      "cell_type": "code",
      "source": "print(\"size: # rows \\ncount: # non-zeo revenue\")\ntrain.groupby('device.browser')['totals.transactionRevenue'].agg(['size', 'count'])",
      "execution_count": 15,
      "outputs": [
        {
          "output_type": "stream",
          "text": "size: # rows \ncount: # non-zeo revenue\n",
          "name": "stdout"
        },
        {
          "output_type": "execute_result",
          "execution_count": 15,
          "data": {
            "text/plain": "                                               size  count\ndevice.browser                                            \n(not set)                                         8      0\n0                                                 7      0\nADM                                               1      0\nAmazon Silk                                     561      1\nAndroid Browser                                 553      0\nAndroid Runtime                                   2      0\nAndroid Webview                                7865      6\nApple-iPhone7C2                                   9      0\nBlackBerry                                      184      0\nCSM Click                                         1      0\nChanga 99695759                                   1      0\nChrome                                       620364  10353\nCoc Coc                                         727      0\nDASH_JR_3G                                        4      0\nDoCoMo                                            1      0\nEdge                                          10205     58\nFirefox                                       37069    191\nHTC802t_TD                                        1      0\nHisense M20-M_LTE                                 1      0\nIE with Chrome Frame                              1      0\nInternet Explorer                             19375    109\nIron                                             33      0\nKonqueror                                         1      0\nLYF_LS_4002_11                                    3      0\nLYF_LS_4002_12                                   21      0\nLunascape                                         5      0\nM5                                                1      0\nMQQBrowser                                        2      0\nMRCHROME                                        263      0\nMaxthon                                         246      0\nMozilla                                          11      0\nMozilla Compatible Agent                        374      0\nNichrome                                          7      0\nNintendo Browser                                140      0\nNokia Browser                                    67      0\nNokiaE52-1                                        2      0\nOpera                                          5643      5\nOpera Mini                                     6139      0\nPuffin                                           93      0\nReddit                                            1      0\nSafari                                       182245    780\nSafari (in-app)                                6850     12\nSeaMonkey                                        15      0\nSeznam                                           11      0\nTCL P500M                                         1      0\nThumbSniper                                       3      0\nUC Browser                                     2427      0\nUser Agent                                        1      0\nYE                                                2      0\nYaBrowser                                      2096      0\n[Use default User-agent string] LIVRENPOCHE       1      0\nno-ua                                             3      0\nosee2unifiedRelease                               5      0\nsubjectAgent: NoticiasBoom                        1      0",
            "text/html": "<div>\n<style scoped>\n    .dataframe tbody tr th:only-of-type {\n        vertical-align: middle;\n    }\n\n    .dataframe tbody tr th {\n        vertical-align: top;\n    }\n\n    .dataframe thead th {\n        text-align: right;\n    }\n</style>\n<table border=\"1\" class=\"dataframe\">\n  <thead>\n    <tr style=\"text-align: right;\">\n      <th></th>\n      <th>size</th>\n      <th>count</th>\n    </tr>\n    <tr>\n      <th>device.browser</th>\n      <th></th>\n      <th></th>\n    </tr>\n  </thead>\n  <tbody>\n    <tr>\n      <th>(not set)</th>\n      <td>8</td>\n      <td>0</td>\n    </tr>\n    <tr>\n      <th>0</th>\n      <td>7</td>\n      <td>0</td>\n    </tr>\n    <tr>\n      <th>ADM</th>\n      <td>1</td>\n      <td>0</td>\n    </tr>\n    <tr>\n      <th>Amazon Silk</th>\n      <td>561</td>\n      <td>1</td>\n    </tr>\n    <tr>\n      <th>Android Browser</th>\n      <td>553</td>\n      <td>0</td>\n    </tr>\n    <tr>\n      <th>Android Runtime</th>\n      <td>2</td>\n      <td>0</td>\n    </tr>\n    <tr>\n      <th>Android Webview</th>\n      <td>7865</td>\n      <td>6</td>\n    </tr>\n    <tr>\n      <th>Apple-iPhone7C2</th>\n      <td>9</td>\n      <td>0</td>\n    </tr>\n    <tr>\n      <th>BlackBerry</th>\n      <td>184</td>\n      <td>0</td>\n    </tr>\n    <tr>\n      <th>CSM Click</th>\n      <td>1</td>\n      <td>0</td>\n    </tr>\n    <tr>\n      <th>Changa 99695759</th>\n      <td>1</td>\n      <td>0</td>\n    </tr>\n    <tr>\n      <th>Chrome</th>\n      <td>620364</td>\n      <td>10353</td>\n    </tr>\n    <tr>\n      <th>Coc Coc</th>\n      <td>727</td>\n      <td>0</td>\n    </tr>\n    <tr>\n      <th>DASH_JR_3G</th>\n      <td>4</td>\n      <td>0</td>\n    </tr>\n    <tr>\n      <th>DoCoMo</th>\n      <td>1</td>\n      <td>0</td>\n    </tr>\n    <tr>\n      <th>Edge</th>\n      <td>10205</td>\n      <td>58</td>\n    </tr>\n    <tr>\n      <th>Firefox</th>\n      <td>37069</td>\n      <td>191</td>\n    </tr>\n    <tr>\n      <th>HTC802t_TD</th>\n      <td>1</td>\n      <td>0</td>\n    </tr>\n    <tr>\n      <th>Hisense M20-M_LTE</th>\n      <td>1</td>\n      <td>0</td>\n    </tr>\n    <tr>\n      <th>IE with Chrome Frame</th>\n      <td>1</td>\n      <td>0</td>\n    </tr>\n    <tr>\n      <th>Internet Explorer</th>\n      <td>19375</td>\n      <td>109</td>\n    </tr>\n    <tr>\n      <th>Iron</th>\n      <td>33</td>\n      <td>0</td>\n    </tr>\n    <tr>\n      <th>Konqueror</th>\n      <td>1</td>\n      <td>0</td>\n    </tr>\n    <tr>\n      <th>LYF_LS_4002_11</th>\n      <td>3</td>\n      <td>0</td>\n    </tr>\n    <tr>\n      <th>LYF_LS_4002_12</th>\n      <td>21</td>\n      <td>0</td>\n    </tr>\n    <tr>\n      <th>Lunascape</th>\n      <td>5</td>\n      <td>0</td>\n    </tr>\n    <tr>\n      <th>M5</th>\n      <td>1</td>\n      <td>0</td>\n    </tr>\n    <tr>\n      <th>MQQBrowser</th>\n      <td>2</td>\n      <td>0</td>\n    </tr>\n    <tr>\n      <th>MRCHROME</th>\n      <td>263</td>\n      <td>0</td>\n    </tr>\n    <tr>\n      <th>Maxthon</th>\n      <td>246</td>\n      <td>0</td>\n    </tr>\n    <tr>\n      <th>Mozilla</th>\n      <td>11</td>\n      <td>0</td>\n    </tr>\n    <tr>\n      <th>Mozilla Compatible Agent</th>\n      <td>374</td>\n      <td>0</td>\n    </tr>\n    <tr>\n      <th>Nichrome</th>\n      <td>7</td>\n      <td>0</td>\n    </tr>\n    <tr>\n      <th>Nintendo Browser</th>\n      <td>140</td>\n      <td>0</td>\n    </tr>\n    <tr>\n      <th>Nokia Browser</th>\n      <td>67</td>\n      <td>0</td>\n    </tr>\n    <tr>\n      <th>NokiaE52-1</th>\n      <td>2</td>\n      <td>0</td>\n    </tr>\n    <tr>\n      <th>Opera</th>\n      <td>5643</td>\n      <td>5</td>\n    </tr>\n    <tr>\n      <th>Opera Mini</th>\n      <td>6139</td>\n      <td>0</td>\n    </tr>\n    <tr>\n      <th>Puffin</th>\n      <td>93</td>\n      <td>0</td>\n    </tr>\n    <tr>\n      <th>Reddit</th>\n      <td>1</td>\n      <td>0</td>\n    </tr>\n    <tr>\n      <th>Safari</th>\n      <td>182245</td>\n      <td>780</td>\n    </tr>\n    <tr>\n      <th>Safari (in-app)</th>\n      <td>6850</td>\n      <td>12</td>\n    </tr>\n    <tr>\n      <th>SeaMonkey</th>\n      <td>15</td>\n      <td>0</td>\n    </tr>\n    <tr>\n      <th>Seznam</th>\n      <td>11</td>\n      <td>0</td>\n    </tr>\n    <tr>\n      <th>TCL P500M</th>\n      <td>1</td>\n      <td>0</td>\n    </tr>\n    <tr>\n      <th>ThumbSniper</th>\n      <td>3</td>\n      <td>0</td>\n    </tr>\n    <tr>\n      <th>UC Browser</th>\n      <td>2427</td>\n      <td>0</td>\n    </tr>\n    <tr>\n      <th>User Agent</th>\n      <td>1</td>\n      <td>0</td>\n    </tr>\n    <tr>\n      <th>YE</th>\n      <td>2</td>\n      <td>0</td>\n    </tr>\n    <tr>\n      <th>YaBrowser</th>\n      <td>2096</td>\n      <td>0</td>\n    </tr>\n    <tr>\n      <th>[Use default User-agent string] LIVRENPOCHE</th>\n      <td>1</td>\n      <td>0</td>\n    </tr>\n    <tr>\n      <th>no-ua</th>\n      <td>3</td>\n      <td>0</td>\n    </tr>\n    <tr>\n      <th>osee2unifiedRelease</th>\n      <td>5</td>\n      <td>0</td>\n    </tr>\n    <tr>\n      <th>subjectAgent: NoticiasBoom</th>\n      <td>1</td>\n      <td>0</td>\n    </tr>\n  </tbody>\n</table>\n</div>"
          },
          "metadata": {}
        }
      ]
    },
    {
      "metadata": {
        "trusted": true,
        "_uuid": "f4a5b29c2f5fb9a51e2b36fe0578e4cea385b723"
      },
      "cell_type": "code",
      "source": "from plotly import tools\nimport plotly.offline as py\npy.init_notebook_mode(connected=True)\nimport plotly.graph_objs as go\n\nimport matplotlib.pyplot as plt\nimport seaborn as sns\ncolor = sns.color_palette()\n%matplotlib inline",
      "execution_count": 16,
      "outputs": [
        {
          "output_type": "display_data",
          "data": {
            "text/html": "<script>requirejs.config({paths: { 'plotly': ['https://cdn.plot.ly/plotly-latest.min']},});if(!window.Plotly) {{require(['plotly'],function(plotly) {window.Plotly=plotly;});}}</script>",
            "text/vnd.plotly.v1+html": "<script>requirejs.config({paths: { 'plotly': ['https://cdn.plot.ly/plotly-latest.min']},});if(!window.Plotly) {{require(['plotly'],function(plotly) {window.Plotly=plotly;});}}</script>"
          },
          "metadata": {}
        }
      ]
    },
    {
      "metadata": {
        "trusted": true,
        "_uuid": "aa30109cae1c2b41d70f906fd7f76fcdb744d8ae"
      },
      "cell_type": "code",
      "source": "def horizontal_bar_chart(temp, color):\n    trace = go.Bar(\n        y=temp.index[::-1],\n        x=temp.values[::-1],\n        showlegend=False,\n        orientation = 'h',\n        marker=dict(\n            color=color,\n        ),\n    )\n    return trace\n\n# Device Browser\ntemp = train.groupby('device.browser')['totals.transactionRevenue'].agg(['size', 'count'])\ntemp.columns = [\"count\", \"count of non-zero revenue\"]\ntemp = temp.sort_values(by=\"count\", ascending=False)\ntrace1 = horizontal_bar_chart(temp[\"count\"].head(10), 'rgba(50, 171, 96, 0.6)')\ntrace2 = horizontal_bar_chart(temp[\"count of non-zero revenue\"].head(10), 'rgba(50, 171, 96, 0.6)')\n\n# Device Category\ntemp = train.groupby('device.deviceCategory')['totals.transactionRevenue'].agg(['size', 'count'])\ntemp.columns = [\"count\", \"count of non-zero revenue\"]\ntemp = temp.sort_values(by=\"count\", ascending=False)\ntrace3 = horizontal_bar_chart(temp[\"count\"].head(10), 'rgba(71, 58, 131, 0.8)')\ntrace4 = horizontal_bar_chart(temp[\"count of non-zero revenue\"].head(10), 'rgba(71, 58, 131, 0.8)')\n\n# Operating system\ntemp = train.groupby('device.operatingSystem')['totals.transactionRevenue'].agg(['size', 'count'])\ntemp.columns = [\"count\", \"count of non-zero revenue\"]\ntemp = temp.sort_values(by=\"count\", ascending=False)\ntrace5 = horizontal_bar_chart(temp[\"count\"].head(10), 'rgba(246, 78, 139, 0.6)')\ntrace6 = horizontal_bar_chart(temp[\"count of non-zero revenue\"].head(10),'rgba(246, 78, 139, 0.6)')\n\n# Creating two subplots\nfig = tools.make_subplots(rows=3, cols=2, vertical_spacing=0.04, \n                          subplot_titles=[\"Device Browser - Count\", \"Device Browser - Non-zero Revenue Count\",\n                                          \"Device Category - Count\",  \"Device Category - Non-zero Revenue Count\",\n                                          \"Device Operating System - Count\", \"Device Operating System - Non-zero Revenue Count\"])\n\nfig.append_trace(trace1, 1, 1)\nfig.append_trace(trace2, 1, 2)\nfig.append_trace(trace3, 2, 1)\nfig.append_trace(trace4, 2, 2)\nfig.append_trace(trace5, 3, 1)\nfig.append_trace(trace6, 3, 2)\n\nfig['layout'].update(height=1200, width=1500, \n                     #paper_bgcolor='rgb(233,233,233)', \n                     title=\"Device Plots\")\npy.iplot(fig, filename='device-plots')",
      "execution_count": 17,
      "outputs": [
        {
          "output_type": "stream",
          "text": "This is the format of your plot grid:\n[ (1,1) x1,y1 ]  [ (1,2) x2,y2 ]\n[ (2,1) x3,y3 ]  [ (2,2) x4,y4 ]\n[ (3,1) x5,y5 ]  [ (3,2) x6,y6 ]\n\n",
          "name": "stdout"
        },
        {
          "output_type": "display_data",
          "data": {
            "application/vnd.plotly.v1+json": {
              "data": [
                {
                  "type": "bar",
                  "y": [
                    "UC Browser",
                    "Opera",
                    "Opera Mini",
                    "Safari (in-app)",
                    "Android Webview",
                    "Edge",
                    "Internet Explorer",
                    "Firefox",
                    "Safari",
                    "Chrome"
                  ],
                  "x": [
                    2427,
                    5643,
                    6139,
                    6850,
                    7865,
                    10205,
                    19375,
                    37069,
                    182245,
                    620364
                  ],
                  "showlegend": false,
                  "orientation": "h",
                  "marker": {
                    "color": "rgba(50, 171, 96, 0.6)"
                  },
                  "xaxis": "x1",
                  "yaxis": "y1"
                },
                {
                  "type": "bar",
                  "y": [
                    "UC Browser",
                    "Opera",
                    "Opera Mini",
                    "Safari (in-app)",
                    "Android Webview",
                    "Edge",
                    "Internet Explorer",
                    "Firefox",
                    "Safari",
                    "Chrome"
                  ],
                  "x": [
                    0,
                    5,
                    0,
                    12,
                    6,
                    58,
                    109,
                    191,
                    780,
                    10353
                  ],
                  "showlegend": false,
                  "orientation": "h",
                  "marker": {
                    "color": "rgba(50, 171, 96, 0.6)"
                  },
                  "xaxis": "x2",
                  "yaxis": "y2"
                },
                {
                  "type": "bar",
                  "y": [
                    "tablet",
                    "mobile",
                    "desktop"
                  ],
                  "x": [
                    30449,
                    208725,
                    664479
                  ],
                  "showlegend": false,
                  "orientation": "h",
                  "marker": {
                    "color": "rgba(71, 58, 131, 0.8)"
                  },
                  "xaxis": "x3",
                  "yaxis": "y3"
                },
                {
                  "type": "bar",
                  "y": [
                    "tablet",
                    "mobile",
                    "desktop"
                  ],
                  "x": [
                    168,
                    852,
                    10495
                  ],
                  "showlegend": false,
                  "orientation": "h",
                  "marker": {
                    "color": "rgba(71, 58, 131, 0.8)"
                  },
                  "xaxis": "x4",
                  "yaxis": "y4"
                },
                {
                  "type": "bar",
                  "y": [
                    "BlackBerry",
                    "Samsung",
                    "Windows Phone",
                    "(not set)",
                    "Chrome OS",
                    "Linux",
                    "iOS",
                    "Android",
                    "Macintosh",
                    "Windows"
                  ],
                  "x": [
                    218,
                    280,
                    1216,
                    4695,
                    26337,
                    35034,
                    107665,
                    123892,
                    253938,
                    350072
                  ],
                  "showlegend": false,
                  "orientation": "h",
                  "marker": {
                    "color": "rgba(246, 78, 139, 0.6)"
                  },
                  "xaxis": "x5",
                  "yaxis": "y5"
                },
                {
                  "type": "bar",
                  "y": [
                    "BlackBerry",
                    "Samsung",
                    "Windows Phone",
                    "(not set)",
                    "Chrome OS",
                    "Linux",
                    "iOS",
                    "Android",
                    "Macintosh",
                    "Windows"
                  ],
                  "x": [
                    0,
                    0,
                    1,
                    0,
                    994,
                    782,
                    536,
                    467,
                    6426,
                    2309
                  ],
                  "showlegend": false,
                  "orientation": "h",
                  "marker": {
                    "color": "rgba(246, 78, 139, 0.6)"
                  },
                  "xaxis": "x6",
                  "yaxis": "y6"
                }
              ],
              "layout": {
                "xaxis1": {
                  "domain": [
                    0,
                    0.45
                  ],
                  "anchor": "y1"
                },
                "yaxis1": {
                  "domain": [
                    0.6933333333333334,
                    1
                  ],
                  "anchor": "x1"
                },
                "xaxis2": {
                  "domain": [
                    0.55,
                    1
                  ],
                  "anchor": "y2"
                },
                "yaxis2": {
                  "domain": [
                    0.6933333333333334,
                    1
                  ],
                  "anchor": "x2"
                },
                "xaxis3": {
                  "domain": [
                    0,
                    0.45
                  ],
                  "anchor": "y3"
                },
                "yaxis3": {
                  "domain": [
                    0.3466666666666667,
                    0.6533333333333333
                  ],
                  "anchor": "x3"
                },
                "xaxis4": {
                  "domain": [
                    0.55,
                    1
                  ],
                  "anchor": "y4"
                },
                "yaxis4": {
                  "domain": [
                    0.3466666666666667,
                    0.6533333333333333
                  ],
                  "anchor": "x4"
                },
                "xaxis5": {
                  "domain": [
                    0,
                    0.45
                  ],
                  "anchor": "y5"
                },
                "yaxis5": {
                  "domain": [
                    0,
                    0.3066666666666667
                  ],
                  "anchor": "x5"
                },
                "xaxis6": {
                  "domain": [
                    0.55,
                    1
                  ],
                  "anchor": "y6"
                },
                "yaxis6": {
                  "domain": [
                    0,
                    0.3066666666666667
                  ],
                  "anchor": "x6"
                },
                "annotations": [
                  {
                    "y": 1,
                    "xref": "paper",
                    "x": 0.225,
                    "yref": "paper",
                    "text": "Device Browser - Count",
                    "showarrow": false,
                    "font": {
                      "size": 16
                    },
                    "xanchor": "center",
                    "yanchor": "bottom"
                  },
                  {
                    "y": 1,
                    "xref": "paper",
                    "x": 0.775,
                    "yref": "paper",
                    "text": "Device Browser - Non-zero Revenue Count",
                    "showarrow": false,
                    "font": {
                      "size": 16
                    },
                    "xanchor": "center",
                    "yanchor": "bottom"
                  },
                  {
                    "y": 0.6533333333333333,
                    "xref": "paper",
                    "x": 0.225,
                    "yref": "paper",
                    "text": "Device Category - Count",
                    "showarrow": false,
                    "font": {
                      "size": 16
                    },
                    "xanchor": "center",
                    "yanchor": "bottom"
                  },
                  {
                    "y": 0.6533333333333333,
                    "xref": "paper",
                    "x": 0.775,
                    "yref": "paper",
                    "text": "Device Category - Non-zero Revenue Count",
                    "showarrow": false,
                    "font": {
                      "size": 16
                    },
                    "xanchor": "center",
                    "yanchor": "bottom"
                  },
                  {
                    "y": 0.3066666666666667,
                    "xref": "paper",
                    "x": 0.225,
                    "yref": "paper",
                    "text": "Device Operating System - Count",
                    "showarrow": false,
                    "font": {
                      "size": 16
                    },
                    "xanchor": "center",
                    "yanchor": "bottom"
                  },
                  {
                    "y": 0.3066666666666667,
                    "xref": "paper",
                    "x": 0.775,
                    "yref": "paper",
                    "text": "Device Operating System - Non-zero Revenue Count",
                    "showarrow": false,
                    "font": {
                      "size": 16
                    },
                    "xanchor": "center",
                    "yanchor": "bottom"
                  }
                ],
                "height": 1200,
                "width": 1500,
                "title": "Device Plots"
              }
            },
            "text/html": "<div id=\"37c017b4-8cf8-4d5f-8a74-d8a9c1580987\" style=\"height: 1200px; width: 1500px;\" class=\"plotly-graph-div\"></div><script type=\"text/javascript\">require([\"plotly\"], function(Plotly) { window.PLOTLYENV=window.PLOTLYENV || {};window.PLOTLYENV.BASE_URL=\"https://plot.ly\";Plotly.newPlot(\"37c017b4-8cf8-4d5f-8a74-d8a9c1580987\", [{\"type\": \"bar\", \"y\": [\"UC Browser\", \"Opera\", \"Opera Mini\", \"Safari (in-app)\", \"Android Webview\", \"Edge\", \"Internet Explorer\", \"Firefox\", \"Safari\", \"Chrome\"], \"x\": [2427, 5643, 6139, 6850, 7865, 10205, 19375, 37069, 182245, 620364], \"showlegend\": false, \"orientation\": \"h\", \"marker\": {\"color\": \"rgba(50, 171, 96, 0.6)\"}, \"xaxis\": \"x1\", \"yaxis\": \"y1\"}, {\"type\": \"bar\", \"y\": [\"UC Browser\", \"Opera\", \"Opera Mini\", \"Safari (in-app)\", \"Android Webview\", \"Edge\", \"Internet Explorer\", \"Firefox\", \"Safari\", \"Chrome\"], \"x\": [0, 5, 0, 12, 6, 58, 109, 191, 780, 10353], \"showlegend\": false, \"orientation\": \"h\", \"marker\": {\"color\": \"rgba(50, 171, 96, 0.6)\"}, \"xaxis\": \"x2\", \"yaxis\": \"y2\"}, {\"type\": \"bar\", \"y\": [\"tablet\", \"mobile\", \"desktop\"], \"x\": [30449, 208725, 664479], \"showlegend\": false, \"orientation\": \"h\", \"marker\": {\"color\": \"rgba(71, 58, 131, 0.8)\"}, \"xaxis\": \"x3\", \"yaxis\": \"y3\"}, {\"type\": \"bar\", \"y\": [\"tablet\", \"mobile\", \"desktop\"], \"x\": [168, 852, 10495], \"showlegend\": false, \"orientation\": \"h\", \"marker\": {\"color\": \"rgba(71, 58, 131, 0.8)\"}, \"xaxis\": \"x4\", \"yaxis\": \"y4\"}, {\"type\": \"bar\", \"y\": [\"BlackBerry\", \"Samsung\", \"Windows Phone\", \"(not set)\", \"Chrome OS\", \"Linux\", \"iOS\", \"Android\", \"Macintosh\", \"Windows\"], \"x\": [218, 280, 1216, 4695, 26337, 35034, 107665, 123892, 253938, 350072], \"showlegend\": false, \"orientation\": \"h\", \"marker\": {\"color\": \"rgba(246, 78, 139, 0.6)\"}, \"xaxis\": \"x5\", \"yaxis\": \"y5\"}, {\"type\": \"bar\", \"y\": [\"BlackBerry\", \"Samsung\", \"Windows Phone\", \"(not set)\", \"Chrome OS\", \"Linux\", \"iOS\", \"Android\", \"Macintosh\", \"Windows\"], \"x\": [0, 0, 1, 0, 994, 782, 536, 467, 6426, 2309], \"showlegend\": false, \"orientation\": \"h\", \"marker\": {\"color\": \"rgba(246, 78, 139, 0.6)\"}, \"xaxis\": \"x6\", \"yaxis\": \"y6\"}], {\"xaxis1\": {\"domain\": [0.0, 0.45], \"anchor\": \"y1\"}, \"yaxis1\": {\"domain\": [0.6933333333333334, 1.0], \"anchor\": \"x1\"}, \"xaxis2\": {\"domain\": [0.55, 1.0], \"anchor\": \"y2\"}, \"yaxis2\": {\"domain\": [0.6933333333333334, 1.0], \"anchor\": \"x2\"}, \"xaxis3\": {\"domain\": [0.0, 0.45], \"anchor\": \"y3\"}, \"yaxis3\": {\"domain\": [0.3466666666666667, 0.6533333333333333], \"anchor\": \"x3\"}, \"xaxis4\": {\"domain\": [0.55, 1.0], \"anchor\": \"y4\"}, \"yaxis4\": {\"domain\": [0.3466666666666667, 0.6533333333333333], \"anchor\": \"x4\"}, \"xaxis5\": {\"domain\": [0.0, 0.45], \"anchor\": \"y5\"}, \"yaxis5\": {\"domain\": [0.0, 0.3066666666666667], \"anchor\": \"x5\"}, \"xaxis6\": {\"domain\": [0.55, 1.0], \"anchor\": \"y6\"}, \"yaxis6\": {\"domain\": [0.0, 0.3066666666666667], \"anchor\": \"x6\"}, \"annotations\": [{\"y\": 1.0, \"xref\": \"paper\", \"x\": 0.225, \"yref\": \"paper\", \"text\": \"Device Browser - Count\", \"showarrow\": false, \"font\": {\"size\": 16}, \"xanchor\": \"center\", \"yanchor\": \"bottom\"}, {\"y\": 1.0, \"xref\": \"paper\", \"x\": 0.775, \"yref\": \"paper\", \"text\": \"Device Browser - Non-zero Revenue Count\", \"showarrow\": false, \"font\": {\"size\": 16}, \"xanchor\": \"center\", \"yanchor\": \"bottom\"}, {\"y\": 0.6533333333333333, \"xref\": \"paper\", \"x\": 0.225, \"yref\": \"paper\", \"text\": \"Device Category - Count\", \"showarrow\": false, \"font\": {\"size\": 16}, \"xanchor\": \"center\", \"yanchor\": \"bottom\"}, {\"y\": 0.6533333333333333, \"xref\": \"paper\", \"x\": 0.775, \"yref\": \"paper\", \"text\": \"Device Category - Non-zero Revenue Count\", \"showarrow\": false, \"font\": {\"size\": 16}, \"xanchor\": \"center\", \"yanchor\": \"bottom\"}, {\"y\": 0.3066666666666667, \"xref\": \"paper\", \"x\": 0.225, \"yref\": \"paper\", \"text\": \"Device Operating System - Count\", \"showarrow\": false, \"font\": {\"size\": 16}, \"xanchor\": \"center\", \"yanchor\": \"bottom\"}, {\"y\": 0.3066666666666667, \"xref\": \"paper\", \"x\": 0.775, \"yref\": \"paper\", \"text\": \"Device Operating System - Non-zero Revenue Count\", \"showarrow\": false, \"font\": {\"size\": 16}, \"xanchor\": \"center\", \"yanchor\": \"bottom\"}], \"height\": 1200, \"width\": 1500, \"title\": \"Device Plots\"}, {\"showLink\": true, \"linkText\": \"Export to plot.ly\"})});</script>",
            "text/vnd.plotly.v1+html": "<div id=\"37c017b4-8cf8-4d5f-8a74-d8a9c1580987\" style=\"height: 1200px; width: 1500px;\" class=\"plotly-graph-div\"></div><script type=\"text/javascript\">require([\"plotly\"], function(Plotly) { window.PLOTLYENV=window.PLOTLYENV || {};window.PLOTLYENV.BASE_URL=\"https://plot.ly\";Plotly.newPlot(\"37c017b4-8cf8-4d5f-8a74-d8a9c1580987\", [{\"type\": \"bar\", \"y\": [\"UC Browser\", \"Opera\", \"Opera Mini\", \"Safari (in-app)\", \"Android Webview\", \"Edge\", \"Internet Explorer\", \"Firefox\", \"Safari\", \"Chrome\"], \"x\": [2427, 5643, 6139, 6850, 7865, 10205, 19375, 37069, 182245, 620364], \"showlegend\": false, \"orientation\": \"h\", \"marker\": {\"color\": \"rgba(50, 171, 96, 0.6)\"}, \"xaxis\": \"x1\", \"yaxis\": \"y1\"}, {\"type\": \"bar\", \"y\": [\"UC Browser\", \"Opera\", \"Opera Mini\", \"Safari (in-app)\", \"Android Webview\", \"Edge\", \"Internet Explorer\", \"Firefox\", \"Safari\", \"Chrome\"], \"x\": [0, 5, 0, 12, 6, 58, 109, 191, 780, 10353], \"showlegend\": false, \"orientation\": \"h\", \"marker\": {\"color\": \"rgba(50, 171, 96, 0.6)\"}, \"xaxis\": \"x2\", \"yaxis\": \"y2\"}, {\"type\": \"bar\", \"y\": [\"tablet\", \"mobile\", \"desktop\"], \"x\": [30449, 208725, 664479], \"showlegend\": false, \"orientation\": \"h\", \"marker\": {\"color\": \"rgba(71, 58, 131, 0.8)\"}, \"xaxis\": \"x3\", \"yaxis\": \"y3\"}, {\"type\": \"bar\", \"y\": [\"tablet\", \"mobile\", \"desktop\"], \"x\": [168, 852, 10495], \"showlegend\": false, \"orientation\": \"h\", \"marker\": {\"color\": \"rgba(71, 58, 131, 0.8)\"}, \"xaxis\": \"x4\", \"yaxis\": \"y4\"}, {\"type\": \"bar\", \"y\": [\"BlackBerry\", \"Samsung\", \"Windows Phone\", \"(not set)\", \"Chrome OS\", \"Linux\", \"iOS\", \"Android\", \"Macintosh\", \"Windows\"], \"x\": [218, 280, 1216, 4695, 26337, 35034, 107665, 123892, 253938, 350072], \"showlegend\": false, \"orientation\": \"h\", \"marker\": {\"color\": \"rgba(246, 78, 139, 0.6)\"}, \"xaxis\": \"x5\", \"yaxis\": \"y5\"}, {\"type\": \"bar\", \"y\": [\"BlackBerry\", \"Samsung\", \"Windows Phone\", \"(not set)\", \"Chrome OS\", \"Linux\", \"iOS\", \"Android\", \"Macintosh\", \"Windows\"], \"x\": [0, 0, 1, 0, 994, 782, 536, 467, 6426, 2309], \"showlegend\": false, \"orientation\": \"h\", \"marker\": {\"color\": \"rgba(246, 78, 139, 0.6)\"}, \"xaxis\": \"x6\", \"yaxis\": \"y6\"}], {\"xaxis1\": {\"domain\": [0.0, 0.45], \"anchor\": \"y1\"}, \"yaxis1\": {\"domain\": [0.6933333333333334, 1.0], \"anchor\": \"x1\"}, \"xaxis2\": {\"domain\": [0.55, 1.0], \"anchor\": \"y2\"}, \"yaxis2\": {\"domain\": [0.6933333333333334, 1.0], \"anchor\": \"x2\"}, \"xaxis3\": {\"domain\": [0.0, 0.45], \"anchor\": \"y3\"}, \"yaxis3\": {\"domain\": [0.3466666666666667, 0.6533333333333333], \"anchor\": \"x3\"}, \"xaxis4\": {\"domain\": [0.55, 1.0], \"anchor\": \"y4\"}, \"yaxis4\": {\"domain\": [0.3466666666666667, 0.6533333333333333], \"anchor\": \"x4\"}, \"xaxis5\": {\"domain\": [0.0, 0.45], \"anchor\": \"y5\"}, \"yaxis5\": {\"domain\": [0.0, 0.3066666666666667], \"anchor\": \"x5\"}, \"xaxis6\": {\"domain\": [0.55, 1.0], \"anchor\": \"y6\"}, \"yaxis6\": {\"domain\": [0.0, 0.3066666666666667], \"anchor\": \"x6\"}, \"annotations\": [{\"y\": 1.0, \"xref\": \"paper\", \"x\": 0.225, \"yref\": \"paper\", \"text\": \"Device Browser - Count\", \"showarrow\": false, \"font\": {\"size\": 16}, \"xanchor\": \"center\", \"yanchor\": \"bottom\"}, {\"y\": 1.0, \"xref\": \"paper\", \"x\": 0.775, \"yref\": \"paper\", \"text\": \"Device Browser - Non-zero Revenue Count\", \"showarrow\": false, \"font\": {\"size\": 16}, \"xanchor\": \"center\", \"yanchor\": \"bottom\"}, {\"y\": 0.6533333333333333, \"xref\": \"paper\", \"x\": 0.225, \"yref\": \"paper\", \"text\": \"Device Category - Count\", \"showarrow\": false, \"font\": {\"size\": 16}, \"xanchor\": \"center\", \"yanchor\": \"bottom\"}, {\"y\": 0.6533333333333333, \"xref\": \"paper\", \"x\": 0.775, \"yref\": \"paper\", \"text\": \"Device Category - Non-zero Revenue Count\", \"showarrow\": false, \"font\": {\"size\": 16}, \"xanchor\": \"center\", \"yanchor\": \"bottom\"}, {\"y\": 0.3066666666666667, \"xref\": \"paper\", \"x\": 0.225, \"yref\": \"paper\", \"text\": \"Device Operating System - Count\", \"showarrow\": false, \"font\": {\"size\": 16}, \"xanchor\": \"center\", \"yanchor\": \"bottom\"}, {\"y\": 0.3066666666666667, \"xref\": \"paper\", \"x\": 0.775, \"yref\": \"paper\", \"text\": \"Device Operating System - Non-zero Revenue Count\", \"showarrow\": false, \"font\": {\"size\": 16}, \"xanchor\": \"center\", \"yanchor\": \"bottom\"}], \"height\": 1200, \"width\": 1500, \"title\": \"Device Plots\"}, {\"showLink\": true, \"linkText\": \"Export to plot.ly\"})});</script>"
          },
          "metadata": {}
        }
      ]
    },
    {
      "metadata": {
        "_uuid": "ca81bf33f75892d7d1d79c267ff6a0dbfb11dae5"
      },
      "cell_type": "markdown",
      "source": "#### Date Exploration:\n\n"
    },
    {
      "metadata": {
        "_uuid": "05bfb34b4095af28e45787a5888115144ce7014e"
      },
      "cell_type": "markdown",
      "source": "<div><div class=\"alert alert-block alert-info\">\n# Pre-processig:\n\n### Decoding date:\n>train['date'] = train['date'].apply(lambda x: datetime.date(int(str(x)[:4]), int(str(x)[4:6]), int(str(x)[6:])))\n\n>test['date'] = test['date'].apply(lambda x: datetime.date(int(str(x)[:4]), int(str(x)[4:6]), int(str(x)[6:])))"
    },
    {
      "metadata": {
        "trusted": true,
        "_uuid": "4df792375f3038c86fc829d1f57537c3bbebb9ae",
        "collapsed": true
      },
      "cell_type": "code",
      "source": "import datetime\n# parsing date\ntrain['date'] = train['date'].apply(lambda x: datetime.date(int(str(x)[:4]), int(str(x)[4:6]), int(str(x)[6:])))\ntest['date'] = test['date'].apply(lambda x: datetime.date(int(str(x)[:4]), int(str(x)[4:6]), int(str(x)[6:])))",
      "execution_count": 18,
      "outputs": []
    },
    {
      "metadata": {
        "trusted": true,
        "_uuid": "2c73d77123bb63b400b863be51611e1f89ab9a46"
      },
      "cell_type": "code",
      "source": "train.tail()",
      "execution_count": 19,
      "outputs": [
        {
          "output_type": "execute_result",
          "execution_count": 19,
          "data": {
            "text/plain": "       channelGrouping        date        fullVisitorId  \\\n903648          Social  2017-01-04  5123779100307500332   \n903649          Social  2017-01-04  7231728964973959842   \n903650          Social  2017-01-04  5744576632396406899   \n903651          Social  2017-01-04  2709355455991750775   \n903652          Social  2017-01-04  0814900163617805053   \n\n                             sessionId  socialEngagementType     visitId  \\\n903648  5123779100307500332_1483554750  Not Socially Engaged  1483554750   \n903649  7231728964973959842_1483543798  Not Socially Engaged  1483543798   \n903650  5744576632396406899_1483526434  Not Socially Engaged  1483526434   \n903651  2709355455991750775_1483592857  Not Socially Engaged  1483592857   \n903652  0814900163617805053_1483574474  Not Socially Engaged  1483574474   \n\n        visitNumber  visitStartTime   device.browser  \\\n903648            1      1483554750           Chrome   \n903649            1      1483543798           Chrome   \n903650            1      1483526434  Android Webview   \n903651            1      1483592864           Chrome   \n903652            1      1483574474           Chrome   \n\n                   device.browserSize          device.browserVersion  \\\n903648  not available in demo dataset  not available in demo dataset   \n903649  not available in demo dataset  not available in demo dataset   \n903650  not available in demo dataset  not available in demo dataset   \n903651  not available in demo dataset  not available in demo dataset   \n903652  not available in demo dataset  not available in demo dataset   \n\n       device.deviceCategory            device.flashVersion  device.isMobile  \\\n903648               desktop  not available in demo dataset            False   \n903649                mobile  not available in demo dataset             True   \n903650                mobile  not available in demo dataset             True   \n903651               desktop  not available in demo dataset            False   \n903652                mobile  not available in demo dataset             True   \n\n                      device.language    device.mobileDeviceBranding  \\\n903648  not available in demo dataset  not available in demo dataset   \n903649  not available in demo dataset  not available in demo dataset   \n903650  not available in demo dataset  not available in demo dataset   \n903651  not available in demo dataset  not available in demo dataset   \n903652  not available in demo dataset  not available in demo dataset   \n\n              device.mobileDeviceInfo device.mobileDeviceMarketingName  \\\n903648  not available in demo dataset    not available in demo dataset   \n903649  not available in demo dataset    not available in demo dataset   \n903650  not available in demo dataset    not available in demo dataset   \n903651  not available in demo dataset    not available in demo dataset   \n903652  not available in demo dataset    not available in demo dataset   \n\n             device.mobileDeviceModel     device.mobileInputSelector  \\\n903648  not available in demo dataset  not available in demo dataset   \n903649  not available in demo dataset  not available in demo dataset   \n903650  not available in demo dataset  not available in demo dataset   \n903651  not available in demo dataset  not available in demo dataset   \n903652  not available in demo dataset  not available in demo dataset   \n\n       device.operatingSystem  device.operatingSystemVersion  \\\n903648                Windows  not available in demo dataset   \n903649                Android  not available in demo dataset   \n903650                Android  not available in demo dataset   \n903651                Windows  not available in demo dataset   \n903652                Android  not available in demo dataset   \n\n                  device.screenColors        device.screenResolution  \\\n903648  not available in demo dataset  not available in demo dataset   \n903649  not available in demo dataset  not available in demo dataset   \n903650  not available in demo dataset  not available in demo dataset   \n903651  not available in demo dataset  not available in demo dataset   \n903652  not available in demo dataset  not available in demo dataset   \n\n                      geoNetwork.city              geoNetwork.cityId  \\\n903648  not available in demo dataset  not available in demo dataset   \n903649  not available in demo dataset  not available in demo dataset   \n903650                          Seoul  not available in demo dataset   \n903651  not available in demo dataset  not available in demo dataset   \n903652  not available in demo dataset  not available in demo dataset   \n\n       geoNetwork.continent geoNetwork.country            geoNetwork.latitude  \\\n903648             Americas        Puerto Rico  not available in demo dataset   \n903649                 Asia          Sri Lanka  not available in demo dataset   \n903650                 Asia        South Korea  not available in demo dataset   \n903651                 Asia          Indonesia  not available in demo dataset   \n903652             Americas             Mexico  not available in demo dataset   \n\n                 geoNetwork.longitude               geoNetwork.metro  \\\n903648  not available in demo dataset  not available in demo dataset   \n903649  not available in demo dataset  not available in demo dataset   \n903650  not available in demo dataset                      (not set)   \n903651  not available in demo dataset  not available in demo dataset   \n903652  not available in demo dataset  not available in demo dataset   \n\n       geoNetwork.networkDomain     geoNetwork.networkLocation  \\\n903648                 prtc.net  not available in demo dataset   \n903649          unknown.unknown  not available in demo dataset   \n903650          unknown.unknown  not available in demo dataset   \n903651          unknown.unknown  not available in demo dataset   \n903652        cybercable.net.mx  not available in demo dataset   \n\n                    geoNetwork.region geoNetwork.subContinent  totals.bounces  \\\n903648  not available in demo dataset               Caribbean             NaN   \n903649  not available in demo dataset           Southern Asia             NaN   \n903650                          Seoul            Eastern Asia             NaN   \n903651  not available in demo dataset          Southeast Asia             NaN   \n903652  not available in demo dataset         Central America             NaN   \n\n        totals.hits  totals.newVisits  totals.pageviews  \\\n903648           17               1.0              15.0   \n903649           18               1.0              13.0   \n903650           24               1.0              21.0   \n903651           24               1.0              22.0   \n903652           31               1.0              31.0   \n\n        totals.transactionRevenue  totals.visits trafficSource.adContent  \\\n903648                        NaN              1                     NaN   \n903649                        NaN              1                     NaN   \n903650                        NaN              1                     NaN   \n903651                        NaN              1                     NaN   \n903652                        NaN              1                     NaN   \n\n       trafficSource.adwordsClickInfo.adNetworkType  \\\n903648                                          NaN   \n903649                                          NaN   \n903650                                          NaN   \n903651                                          NaN   \n903652                                          NaN   \n\n       trafficSource.adwordsClickInfo.criteriaParameters  \\\n903648                     not available in demo dataset   \n903649                     not available in demo dataset   \n903650                     not available in demo dataset   \n903651                     not available in demo dataset   \n903652                     not available in demo dataset   \n\n       trafficSource.adwordsClickInfo.gclId  \\\n903648                                  NaN   \n903649                                  NaN   \n903650                                  NaN   \n903651                                  NaN   \n903652                                  NaN   \n\n       trafficSource.adwordsClickInfo.isVideoAd  \\\n903648                                      NaN   \n903649                                      NaN   \n903650                                      NaN   \n903651                                      NaN   \n903652                                      NaN   \n\n        trafficSource.adwordsClickInfo.page  \\\n903648                                  NaN   \n903649                                  NaN   \n903650                                  NaN   \n903651                                  NaN   \n903652                                  NaN   \n\n       trafficSource.adwordsClickInfo.slot trafficSource.campaign  \\\n903648                                 NaN              (not set)   \n903649                                 NaN              (not set)   \n903650                                 NaN              (not set)   \n903651                                 NaN              (not set)   \n903652                                 NaN              (not set)   \n\n       trafficSource.campaignCode trafficSource.isTrueDirect  \\\n903648                        NaN                        NaN   \n903649                        NaN                        NaN   \n903650                        NaN                        NaN   \n903651                        NaN                        NaN   \n903652                        NaN                        NaN   \n\n       trafficSource.keyword trafficSource.medium trafficSource.referralPath  \\\n903648                   NaN             referral                 /yt/about/   \n903649                   NaN             referral                 /yt/about/   \n903650                   NaN             referral              /yt/about/ko/   \n903651                   NaN             referral                     /l.php   \n903652                   NaN             referral          /yt/about/es-419/   \n\n       trafficSource.source  \n903648          youtube.com  \n903649          youtube.com  \n903650          youtube.com  \n903651         facebook.com  \n903652          youtube.com  ",
            "text/html": "<div>\n<style scoped>\n    .dataframe tbody tr th:only-of-type {\n        vertical-align: middle;\n    }\n\n    .dataframe tbody tr th {\n        vertical-align: top;\n    }\n\n    .dataframe thead th {\n        text-align: right;\n    }\n</style>\n<table border=\"1\" class=\"dataframe\">\n  <thead>\n    <tr style=\"text-align: right;\">\n      <th></th>\n      <th>channelGrouping</th>\n      <th>date</th>\n      <th>fullVisitorId</th>\n      <th>sessionId</th>\n      <th>socialEngagementType</th>\n      <th>visitId</th>\n      <th>visitNumber</th>\n      <th>visitStartTime</th>\n      <th>device.browser</th>\n      <th>device.browserSize</th>\n      <th>device.browserVersion</th>\n      <th>device.deviceCategory</th>\n      <th>device.flashVersion</th>\n      <th>device.isMobile</th>\n      <th>device.language</th>\n      <th>device.mobileDeviceBranding</th>\n      <th>device.mobileDeviceInfo</th>\n      <th>device.mobileDeviceMarketingName</th>\n      <th>device.mobileDeviceModel</th>\n      <th>device.mobileInputSelector</th>\n      <th>device.operatingSystem</th>\n      <th>device.operatingSystemVersion</th>\n      <th>device.screenColors</th>\n      <th>device.screenResolution</th>\n      <th>geoNetwork.city</th>\n      <th>geoNetwork.cityId</th>\n      <th>geoNetwork.continent</th>\n      <th>geoNetwork.country</th>\n      <th>geoNetwork.latitude</th>\n      <th>geoNetwork.longitude</th>\n      <th>geoNetwork.metro</th>\n      <th>geoNetwork.networkDomain</th>\n      <th>geoNetwork.networkLocation</th>\n      <th>geoNetwork.region</th>\n      <th>geoNetwork.subContinent</th>\n      <th>totals.bounces</th>\n      <th>totals.hits</th>\n      <th>totals.newVisits</th>\n      <th>totals.pageviews</th>\n      <th>totals.transactionRevenue</th>\n      <th>totals.visits</th>\n      <th>trafficSource.adContent</th>\n      <th>trafficSource.adwordsClickInfo.adNetworkType</th>\n      <th>trafficSource.adwordsClickInfo.criteriaParameters</th>\n      <th>trafficSource.adwordsClickInfo.gclId</th>\n      <th>trafficSource.adwordsClickInfo.isVideoAd</th>\n      <th>trafficSource.adwordsClickInfo.page</th>\n      <th>trafficSource.adwordsClickInfo.slot</th>\n      <th>trafficSource.campaign</th>\n      <th>trafficSource.campaignCode</th>\n      <th>trafficSource.isTrueDirect</th>\n      <th>trafficSource.keyword</th>\n      <th>trafficSource.medium</th>\n      <th>trafficSource.referralPath</th>\n      <th>trafficSource.source</th>\n    </tr>\n  </thead>\n  <tbody>\n    <tr>\n      <th>903648</th>\n      <td>Social</td>\n      <td>2017-01-04</td>\n      <td>5123779100307500332</td>\n      <td>5123779100307500332_1483554750</td>\n      <td>Not Socially Engaged</td>\n      <td>1483554750</td>\n      <td>1</td>\n      <td>1483554750</td>\n      <td>Chrome</td>\n      <td>not available in demo dataset</td>\n      <td>not available in demo dataset</td>\n      <td>desktop</td>\n      <td>not available in demo dataset</td>\n      <td>False</td>\n      <td>not available in demo dataset</td>\n      <td>not available in demo dataset</td>\n      <td>not available in demo dataset</td>\n      <td>not available in demo dataset</td>\n      <td>not available in demo dataset</td>\n      <td>not available in demo dataset</td>\n      <td>Windows</td>\n      <td>not available in demo dataset</td>\n      <td>not available in demo dataset</td>\n      <td>not available in demo dataset</td>\n      <td>not available in demo dataset</td>\n      <td>not available in demo dataset</td>\n      <td>Americas</td>\n      <td>Puerto Rico</td>\n      <td>not available in demo dataset</td>\n      <td>not available in demo dataset</td>\n      <td>not available in demo dataset</td>\n      <td>prtc.net</td>\n      <td>not available in demo dataset</td>\n      <td>not available in demo dataset</td>\n      <td>Caribbean</td>\n      <td>NaN</td>\n      <td>17</td>\n      <td>1.0</td>\n      <td>15.0</td>\n      <td>NaN</td>\n      <td>1</td>\n      <td>NaN</td>\n      <td>NaN</td>\n      <td>not available in demo dataset</td>\n      <td>NaN</td>\n      <td>NaN</td>\n      <td>NaN</td>\n      <td>NaN</td>\n      <td>(not set)</td>\n      <td>NaN</td>\n      <td>NaN</td>\n      <td>NaN</td>\n      <td>referral</td>\n      <td>/yt/about/</td>\n      <td>youtube.com</td>\n    </tr>\n    <tr>\n      <th>903649</th>\n      <td>Social</td>\n      <td>2017-01-04</td>\n      <td>7231728964973959842</td>\n      <td>7231728964973959842_1483543798</td>\n      <td>Not Socially Engaged</td>\n      <td>1483543798</td>\n      <td>1</td>\n      <td>1483543798</td>\n      <td>Chrome</td>\n      <td>not available in demo dataset</td>\n      <td>not available in demo dataset</td>\n      <td>mobile</td>\n      <td>not available in demo dataset</td>\n      <td>True</td>\n      <td>not available in demo dataset</td>\n      <td>not available in demo dataset</td>\n      <td>not available in demo dataset</td>\n      <td>not available in demo dataset</td>\n      <td>not available in demo dataset</td>\n      <td>not available in demo dataset</td>\n      <td>Android</td>\n      <td>not available in demo dataset</td>\n      <td>not available in demo dataset</td>\n      <td>not available in demo dataset</td>\n      <td>not available in demo dataset</td>\n      <td>not available in demo dataset</td>\n      <td>Asia</td>\n      <td>Sri Lanka</td>\n      <td>not available in demo dataset</td>\n      <td>not available in demo dataset</td>\n      <td>not available in demo dataset</td>\n      <td>unknown.unknown</td>\n      <td>not available in demo dataset</td>\n      <td>not available in demo dataset</td>\n      <td>Southern Asia</td>\n      <td>NaN</td>\n      <td>18</td>\n      <td>1.0</td>\n      <td>13.0</td>\n      <td>NaN</td>\n      <td>1</td>\n      <td>NaN</td>\n      <td>NaN</td>\n      <td>not available in demo dataset</td>\n      <td>NaN</td>\n      <td>NaN</td>\n      <td>NaN</td>\n      <td>NaN</td>\n      <td>(not set)</td>\n      <td>NaN</td>\n      <td>NaN</td>\n      <td>NaN</td>\n      <td>referral</td>\n      <td>/yt/about/</td>\n      <td>youtube.com</td>\n    </tr>\n    <tr>\n      <th>903650</th>\n      <td>Social</td>\n      <td>2017-01-04</td>\n      <td>5744576632396406899</td>\n      <td>5744576632396406899_1483526434</td>\n      <td>Not Socially Engaged</td>\n      <td>1483526434</td>\n      <td>1</td>\n      <td>1483526434</td>\n      <td>Android Webview</td>\n      <td>not available in demo dataset</td>\n      <td>not available in demo dataset</td>\n      <td>mobile</td>\n      <td>not available in demo dataset</td>\n      <td>True</td>\n      <td>not available in demo dataset</td>\n      <td>not available in demo dataset</td>\n      <td>not available in demo dataset</td>\n      <td>not available in demo dataset</td>\n      <td>not available in demo dataset</td>\n      <td>not available in demo dataset</td>\n      <td>Android</td>\n      <td>not available in demo dataset</td>\n      <td>not available in demo dataset</td>\n      <td>not available in demo dataset</td>\n      <td>Seoul</td>\n      <td>not available in demo dataset</td>\n      <td>Asia</td>\n      <td>South Korea</td>\n      <td>not available in demo dataset</td>\n      <td>not available in demo dataset</td>\n      <td>(not set)</td>\n      <td>unknown.unknown</td>\n      <td>not available in demo dataset</td>\n      <td>Seoul</td>\n      <td>Eastern Asia</td>\n      <td>NaN</td>\n      <td>24</td>\n      <td>1.0</td>\n      <td>21.0</td>\n      <td>NaN</td>\n      <td>1</td>\n      <td>NaN</td>\n      <td>NaN</td>\n      <td>not available in demo dataset</td>\n      <td>NaN</td>\n      <td>NaN</td>\n      <td>NaN</td>\n      <td>NaN</td>\n      <td>(not set)</td>\n      <td>NaN</td>\n      <td>NaN</td>\n      <td>NaN</td>\n      <td>referral</td>\n      <td>/yt/about/ko/</td>\n      <td>youtube.com</td>\n    </tr>\n    <tr>\n      <th>903651</th>\n      <td>Social</td>\n      <td>2017-01-04</td>\n      <td>2709355455991750775</td>\n      <td>2709355455991750775_1483592857</td>\n      <td>Not Socially Engaged</td>\n      <td>1483592857</td>\n      <td>1</td>\n      <td>1483592864</td>\n      <td>Chrome</td>\n      <td>not available in demo dataset</td>\n      <td>not available in demo dataset</td>\n      <td>desktop</td>\n      <td>not available in demo dataset</td>\n      <td>False</td>\n      <td>not available in demo dataset</td>\n      <td>not available in demo dataset</td>\n      <td>not available in demo dataset</td>\n      <td>not available in demo dataset</td>\n      <td>not available in demo dataset</td>\n      <td>not available in demo dataset</td>\n      <td>Windows</td>\n      <td>not available in demo dataset</td>\n      <td>not available in demo dataset</td>\n      <td>not available in demo dataset</td>\n      <td>not available in demo dataset</td>\n      <td>not available in demo dataset</td>\n      <td>Asia</td>\n      <td>Indonesia</td>\n      <td>not available in demo dataset</td>\n      <td>not available in demo dataset</td>\n      <td>not available in demo dataset</td>\n      <td>unknown.unknown</td>\n      <td>not available in demo dataset</td>\n      <td>not available in demo dataset</td>\n      <td>Southeast Asia</td>\n      <td>NaN</td>\n      <td>24</td>\n      <td>1.0</td>\n      <td>22.0</td>\n      <td>NaN</td>\n      <td>1</td>\n      <td>NaN</td>\n      <td>NaN</td>\n      <td>not available in demo dataset</td>\n      <td>NaN</td>\n      <td>NaN</td>\n      <td>NaN</td>\n      <td>NaN</td>\n      <td>(not set)</td>\n      <td>NaN</td>\n      <td>NaN</td>\n      <td>NaN</td>\n      <td>referral</td>\n      <td>/l.php</td>\n      <td>facebook.com</td>\n    </tr>\n    <tr>\n      <th>903652</th>\n      <td>Social</td>\n      <td>2017-01-04</td>\n      <td>0814900163617805053</td>\n      <td>0814900163617805053_1483574474</td>\n      <td>Not Socially Engaged</td>\n      <td>1483574474</td>\n      <td>1</td>\n      <td>1483574474</td>\n      <td>Chrome</td>\n      <td>not available in demo dataset</td>\n      <td>not available in demo dataset</td>\n      <td>mobile</td>\n      <td>not available in demo dataset</td>\n      <td>True</td>\n      <td>not available in demo dataset</td>\n      <td>not available in demo dataset</td>\n      <td>not available in demo dataset</td>\n      <td>not available in demo dataset</td>\n      <td>not available in demo dataset</td>\n      <td>not available in demo dataset</td>\n      <td>Android</td>\n      <td>not available in demo dataset</td>\n      <td>not available in demo dataset</td>\n      <td>not available in demo dataset</td>\n      <td>not available in demo dataset</td>\n      <td>not available in demo dataset</td>\n      <td>Americas</td>\n      <td>Mexico</td>\n      <td>not available in demo dataset</td>\n      <td>not available in demo dataset</td>\n      <td>not available in demo dataset</td>\n      <td>cybercable.net.mx</td>\n      <td>not available in demo dataset</td>\n      <td>not available in demo dataset</td>\n      <td>Central America</td>\n      <td>NaN</td>\n      <td>31</td>\n      <td>1.0</td>\n      <td>31.0</td>\n      <td>NaN</td>\n      <td>1</td>\n      <td>NaN</td>\n      <td>NaN</td>\n      <td>not available in demo dataset</td>\n      <td>NaN</td>\n      <td>NaN</td>\n      <td>NaN</td>\n      <td>NaN</td>\n      <td>(not set)</td>\n      <td>NaN</td>\n      <td>NaN</td>\n      <td>NaN</td>\n      <td>referral</td>\n      <td>/yt/about/es-419/</td>\n      <td>youtube.com</td>\n    </tr>\n  </tbody>\n</table>\n</div>"
          },
          "metadata": {}
        }
      ]
    },
    {
      "metadata": {
        "trusted": true,
        "_uuid": "f65c7b6bc47d6cec16d9ab178112d10e1de06182"
      },
      "cell_type": "code",
      "source": "temp = train.groupby('date')['totals.transactionRevenue'].agg(['size', 'count'])\ntemp.index[::-1]",
      "execution_count": 20,
      "outputs": [
        {
          "output_type": "execute_result",
          "execution_count": 20,
          "data": {
            "text/plain": "Index([2017-08-01, 2017-07-31, 2017-07-30, 2017-07-29, 2017-07-28, 2017-07-27,\n       2017-07-26, 2017-07-25, 2017-07-24, 2017-07-23,\n       ...\n       2016-08-10, 2016-08-09, 2016-08-08, 2016-08-07, 2016-08-06, 2016-08-05,\n       2016-08-04, 2016-08-03, 2016-08-02, 2016-08-01],\n      dtype='object', name='date', length=366)"
          },
          "metadata": {}
        }
      ]
    },
    {
      "metadata": {
        "trusted": true,
        "_uuid": "a5ddd9e0091b6624014e43ac49707b216d94dd02"
      },
      "cell_type": "code",
      "source": "def scatter_plot(temp, color):\n    trace = go.Scatter(\n        x=temp.index[::-1],\n        y=temp.values[::-1],\n        showlegend=False,\n        #mode = 'lines+markers',\n        marker=dict(\n            color=color,\n        ),\n    )\n    return trace\n\n\ntemp = train.groupby('date')['totals.transactionRevenue'].agg(['size', 'count'])\ntemp.columns = [\"count\", \"count of non-zero revenue\"]\ntemp = temp.sort_index()\n#temp.index = temp.index.astype('str')\ntrace1 = scatter_plot(temp[\"count\"], 'red')\ntrace2 = scatter_plot(temp[\"count of non-zero revenue\"], 'blue')\n\nfig = tools.make_subplots(rows=2, cols=1, vertical_spacing=0.08,\n                          subplot_titles=[\"Date - Count\", \"Date - Non-zero Revenue count\"])\nfig.append_trace(trace1, 1, 1)\nfig.append_trace(trace2, 2, 1)\nfig['layout'].update(height=800, width=800, \n                     #paper_bgcolor='rgb(233,233,233)', \n                     title=\"Date Plots\")\npy.iplot(fig, filename='date-plots')",
      "execution_count": 21,
      "outputs": [
        {
          "output_type": "stream",
          "text": "This is the format of your plot grid:\n[ (1,1) x1,y1 ]\n[ (2,1) x2,y2 ]\n\n",
          "name": "stdout"
        },
        {
          "output_type": "display_data",
          "data": {
            "application/vnd.plotly.v1+json": {
              "data": [
                {
                  "type": "scatter",
                  "x": [
                    "2017-08-01",
                    "2017-07-31",
                    "2017-07-30",
                    "2017-07-29",
                    "2017-07-28",
                    "2017-07-27",
                    "2017-07-26",
                    "2017-07-25",
                    "2017-07-24",
                    "2017-07-23",
                    "2017-07-22",
                    "2017-07-21",
                    "2017-07-20",
                    "2017-07-19",
                    "2017-07-18",
                    "2017-07-17",
                    "2017-07-16",
                    "2017-07-15",
                    "2017-07-14",
                    "2017-07-13",
                    "2017-07-12",
                    "2017-07-11",
                    "2017-07-10",
                    "2017-07-09",
                    "2017-07-08",
                    "2017-07-07",
                    "2017-07-06",
                    "2017-07-05",
                    "2017-07-04",
                    "2017-07-03",
                    "2017-07-02",
                    "2017-07-01",
                    "2017-06-30",
                    "2017-06-29",
                    "2017-06-28",
                    "2017-06-27",
                    "2017-06-26",
                    "2017-06-25",
                    "2017-06-24",
                    "2017-06-23",
                    "2017-06-22",
                    "2017-06-21",
                    "2017-06-20",
                    "2017-06-19",
                    "2017-06-18",
                    "2017-06-17",
                    "2017-06-16",
                    "2017-06-15",
                    "2017-06-14",
                    "2017-06-13",
                    "2017-06-12",
                    "2017-06-11",
                    "2017-06-10",
                    "2017-06-09",
                    "2017-06-08",
                    "2017-06-07",
                    "2017-06-06",
                    "2017-06-05",
                    "2017-06-04",
                    "2017-06-03",
                    "2017-06-02",
                    "2017-06-01",
                    "2017-05-31",
                    "2017-05-30",
                    "2017-05-29",
                    "2017-05-28",
                    "2017-05-27",
                    "2017-05-26",
                    "2017-05-25",
                    "2017-05-24",
                    "2017-05-23",
                    "2017-05-22",
                    "2017-05-21",
                    "2017-05-20",
                    "2017-05-19",
                    "2017-05-18",
                    "2017-05-17",
                    "2017-05-16",
                    "2017-05-15",
                    "2017-05-14",
                    "2017-05-13",
                    "2017-05-12",
                    "2017-05-11",
                    "2017-05-10",
                    "2017-05-09",
                    "2017-05-08",
                    "2017-05-07",
                    "2017-05-06",
                    "2017-05-05",
                    "2017-05-04",
                    "2017-05-03",
                    "2017-05-02",
                    "2017-05-01",
                    "2017-04-30",
                    "2017-04-29",
                    "2017-04-28",
                    "2017-04-27",
                    "2017-04-26",
                    "2017-04-25",
                    "2017-04-24",
                    "2017-04-23",
                    "2017-04-22",
                    "2017-04-21",
                    "2017-04-20",
                    "2017-04-19",
                    "2017-04-18",
                    "2017-04-17",
                    "2017-04-16",
                    "2017-04-15",
                    "2017-04-14",
                    "2017-04-13",
                    "2017-04-12",
                    "2017-04-11",
                    "2017-04-10",
                    "2017-04-09",
                    "2017-04-08",
                    "2017-04-07",
                    "2017-04-06",
                    "2017-04-05",
                    "2017-04-04",
                    "2017-04-03",
                    "2017-04-02",
                    "2017-04-01",
                    "2017-03-31",
                    "2017-03-30",
                    "2017-03-29",
                    "2017-03-28",
                    "2017-03-27",
                    "2017-03-26",
                    "2017-03-25",
                    "2017-03-24",
                    "2017-03-23",
                    "2017-03-22",
                    "2017-03-21",
                    "2017-03-20",
                    "2017-03-19",
                    "2017-03-18",
                    "2017-03-17",
                    "2017-03-16",
                    "2017-03-15",
                    "2017-03-14",
                    "2017-03-13",
                    "2017-03-12",
                    "2017-03-11",
                    "2017-03-10",
                    "2017-03-09",
                    "2017-03-08",
                    "2017-03-07",
                    "2017-03-06",
                    "2017-03-05",
                    "2017-03-04",
                    "2017-03-03",
                    "2017-03-02",
                    "2017-03-01",
                    "2017-02-28",
                    "2017-02-27",
                    "2017-02-26",
                    "2017-02-25",
                    "2017-02-24",
                    "2017-02-23",
                    "2017-02-22",
                    "2017-02-21",
                    "2017-02-20",
                    "2017-02-19",
                    "2017-02-18",
                    "2017-02-17",
                    "2017-02-16",
                    "2017-02-15",
                    "2017-02-14",
                    "2017-02-13",
                    "2017-02-12",
                    "2017-02-11",
                    "2017-02-10",
                    "2017-02-09",
                    "2017-02-08",
                    "2017-02-07",
                    "2017-02-06",
                    "2017-02-05",
                    "2017-02-04",
                    "2017-02-03",
                    "2017-02-02",
                    "2017-02-01",
                    "2017-01-31",
                    "2017-01-30",
                    "2017-01-29",
                    "2017-01-28",
                    "2017-01-27",
                    "2017-01-26",
                    "2017-01-25",
                    "2017-01-24",
                    "2017-01-23",
                    "2017-01-22",
                    "2017-01-21",
                    "2017-01-20",
                    "2017-01-19",
                    "2017-01-18",
                    "2017-01-17",
                    "2017-01-16",
                    "2017-01-15",
                    "2017-01-14",
                    "2017-01-13",
                    "2017-01-12",
                    "2017-01-11",
                    "2017-01-10",
                    "2017-01-09",
                    "2017-01-08",
                    "2017-01-07",
                    "2017-01-06",
                    "2017-01-05",
                    "2017-01-04",
                    "2017-01-03",
                    "2017-01-02",
                    "2017-01-01",
                    "2016-12-31",
                    "2016-12-30",
                    "2016-12-29",
                    "2016-12-28",
                    "2016-12-27",
                    "2016-12-26",
                    "2016-12-25",
                    "2016-12-24",
                    "2016-12-23",
                    "2016-12-22",
                    "2016-12-21",
                    "2016-12-20",
                    "2016-12-19",
                    "2016-12-18",
                    "2016-12-17",
                    "2016-12-16",
                    "2016-12-15",
                    "2016-12-14",
                    "2016-12-13",
                    "2016-12-12",
                    "2016-12-11",
                    "2016-12-10",
                    "2016-12-09",
                    "2016-12-08",
                    "2016-12-07",
                    "2016-12-06",
                    "2016-12-05",
                    "2016-12-04",
                    "2016-12-03",
                    "2016-12-02",
                    "2016-12-01",
                    "2016-11-30",
                    "2016-11-29",
                    "2016-11-28",
                    "2016-11-27",
                    "2016-11-26",
                    "2016-11-25",
                    "2016-11-24",
                    "2016-11-23",
                    "2016-11-22",
                    "2016-11-21",
                    "2016-11-20",
                    "2016-11-19",
                    "2016-11-18",
                    "2016-11-17",
                    "2016-11-16",
                    "2016-11-15",
                    "2016-11-14",
                    "2016-11-13",
                    "2016-11-12",
                    "2016-11-11",
                    "2016-11-10",
                    "2016-11-09",
                    "2016-11-08",
                    "2016-11-07",
                    "2016-11-06",
                    "2016-11-05",
                    "2016-11-04",
                    "2016-11-03",
                    "2016-11-02",
                    "2016-11-01",
                    "2016-10-31",
                    "2016-10-30",
                    "2016-10-29",
                    "2016-10-28",
                    "2016-10-27",
                    "2016-10-26",
                    "2016-10-25",
                    "2016-10-24",
                    "2016-10-23",
                    "2016-10-22",
                    "2016-10-21",
                    "2016-10-20",
                    "2016-10-19",
                    "2016-10-18",
                    "2016-10-17",
                    "2016-10-16",
                    "2016-10-15",
                    "2016-10-14",
                    "2016-10-13",
                    "2016-10-12",
                    "2016-10-11",
                    "2016-10-10",
                    "2016-10-09",
                    "2016-10-08",
                    "2016-10-07",
                    "2016-10-06",
                    "2016-10-05",
                    "2016-10-04",
                    "2016-10-03",
                    "2016-10-02",
                    "2016-10-01",
                    "2016-09-30",
                    "2016-09-29",
                    "2016-09-28",
                    "2016-09-27",
                    "2016-09-26",
                    "2016-09-25",
                    "2016-09-24",
                    "2016-09-23",
                    "2016-09-22",
                    "2016-09-21",
                    "2016-09-20",
                    "2016-09-19",
                    "2016-09-18",
                    "2016-09-17",
                    "2016-09-16",
                    "2016-09-15",
                    "2016-09-14",
                    "2016-09-13",
                    "2016-09-12",
                    "2016-09-11",
                    "2016-09-10",
                    "2016-09-09",
                    "2016-09-08",
                    "2016-09-07",
                    "2016-09-06",
                    "2016-09-05",
                    "2016-09-04",
                    "2016-09-03",
                    "2016-09-02",
                    "2016-09-01",
                    "2016-08-31",
                    "2016-08-30",
                    "2016-08-29",
                    "2016-08-28",
                    "2016-08-27",
                    "2016-08-26",
                    "2016-08-25",
                    "2016-08-24",
                    "2016-08-23",
                    "2016-08-22",
                    "2016-08-21",
                    "2016-08-20",
                    "2016-08-19",
                    "2016-08-18",
                    "2016-08-17",
                    "2016-08-16",
                    "2016-08-15",
                    "2016-08-14",
                    "2016-08-13",
                    "2016-08-12",
                    "2016-08-11",
                    "2016-08-10",
                    "2016-08-09",
                    "2016-08-08",
                    "2016-08-07",
                    "2016-08-06",
                    "2016-08-05",
                    "2016-08-04",
                    "2016-08-03",
                    "2016-08-02",
                    "2016-08-01"
                  ],
                  "y": [
                    2556,
                    2620,
                    1799,
                    1597,
                    2433,
                    2529,
                    2725,
                    2631,
                    2436,
                    1966,
                    1724,
                    2427,
                    2668,
                    2514,
                    2804,
                    2671,
                    1766,
                    1721,
                    2382,
                    2741,
                    2554,
                    2635,
                    2769,
                    1921,
                    1859,
                    2450,
                    2658,
                    2885,
                    1938,
                    2046,
                    1895,
                    2048,
                    2499,
                    2709,
                    2687,
                    2789,
                    2226,
                    1597,
                    1510,
                    2095,
                    2258,
                    2357,
                    2143,
                    2142,
                    1432,
                    1391,
                    2028,
                    2237,
                    2517,
                    2181,
                    2361,
                    1555,
                    1545,
                    1927,
                    2280,
                    2279,
                    2391,
                    2493,
                    1534,
                    1399,
                    2190,
                    2826,
                    2292,
                    2199,
                    1745,
                    1463,
                    1502,
                    2009,
                    2228,
                    2406,
                    2129,
                    2248,
                    1645,
                    1855,
                    2223,
                    2715,
                    3117,
                    3098,
                    2360,
                    1290,
                    1251,
                    1932,
                    2218,
                    2024,
                    2108,
                    2025,
                    1400,
                    1383,
                    1960,
                    2806,
                    2588,
                    2564,
                    2588,
                    1594,
                    1566,
                    2411,
                    2838,
                    4224,
                    2354,
                    2263,
                    1548,
                    1612,
                    2210,
                    2374,
                    2397,
                    2391,
                    2279,
                    1507,
                    1506,
                    1834,
                    2300,
                    2341,
                    2464,
                    2563,
                    1766,
                    1829,
                    2297,
                    2647,
                    2619,
                    2978,
                    2383,
                    1861,
                    2170,
                    2268,
                    2731,
                    2525,
                    2577,
                    2525,
                    1768,
                    1712,
                    2374,
                    2847,
                    2582,
                    2611,
                    2383,
                    1776,
                    1610,
                    2129,
                    2409,
                    2486,
                    2338,
                    2537,
                    1781,
                    1707,
                    2194,
                    2231,
                    2449,
                    2586,
                    2396,
                    1827,
                    1753,
                    2162,
                    2267,
                    2390,
                    2347,
                    2352,
                    1643,
                    1638,
                    2093,
                    2364,
                    2477,
                    2582,
                    2374,
                    2187,
                    1755,
                    2785,
                    2539,
                    2629,
                    2379,
                    2266,
                    1790,
                    1761,
                    2199,
                    2678,
                    2570,
                    2476,
                    2238,
                    1522,
                    1549,
                    2182,
                    2372,
                    2445,
                    2229,
                    2392,
                    1814,
                    1614,
                    1969,
                    2209,
                    2986,
                    3618,
                    2262,
                    1700,
                    1685,
                    2074,
                    2083,
                    2245,
                    2443,
                    1906,
                    1576,
                    1526,
                    1967,
                    2203,
                    2185,
                    2268,
                    2308,
                    1637,
                    1615,
                    2210,
                    2193,
                    2390,
                    2403,
                    1620,
                    1364,
                    1211,
                    1232,
                    1647,
                    1763,
                    1855,
                    1586,
                    1386,
                    1231,
                    1604,
                    2100,
                    2594,
                    3110,
                    3222,
                    2128,
                    2324,
                    2956,
                    2937,
                    3040,
                    3166,
                    3433,
                    2208,
                    2207,
                    2830,
                    3013,
                    2840,
                    3021,
                    4265,
                    3220,
                    3044,
                    3751,
                    4200,
                    4435,
                    4337,
                    4807,
                    3356,
                    3213,
                    3759,
                    3770,
                    3805,
                    3942,
                    4143,
                    3247,
                    2984,
                    3654,
                    4074,
                    4334,
                    4685,
                    4466,
                    3144,
                    3119,
                    3588,
                    4055,
                    3752,
                    3899,
                    3832,
                    3232,
                    3042,
                    3596,
                    4014,
                    3960,
                    3728,
                    3827,
                    3086,
                    2964,
                    3791,
                    4162,
                    4375,
                    3842,
                    4063,
                    2971,
                    3029,
                    3419,
                    3755,
                    3544,
                    3628,
                    3397,
                    2649,
                    2495,
                    2838,
                    2964,
                    2871,
                    2850,
                    2911,
                    2134,
                    2114,
                    2892,
                    3016,
                    3770,
                    4322,
                    2514,
                    1724,
                    1589,
                    2303,
                    2597,
                    2535,
                    2727,
                    2776,
                    1877,
                    1845,
                    2381,
                    2581,
                    2720,
                    2760,
                    2689,
                    1822,
                    1853,
                    2603,
                    2949,
                    2652,
                    2396,
                    2465,
                    1725,
                    1671,
                    2549,
                    2628,
                    2562,
                    2508,
                    2125,
                    1692,
                    1741,
                    2613,
                    2687,
                    3223,
                    2675,
                    2454,
                    1682,
                    1654,
                    2359,
                    2539,
                    2627,
                    2754,
                    2584,
                    1730,
                    1664,
                    2379,
                    2725,
                    2799,
                    2873,
                    3043,
                    1801,
                    1596,
                    2619,
                    2667,
                    2757,
                    2851,
                    2815,
                    1622,
                    1663,
                    2702,
                    3161,
                    2890,
                    2140,
                    1711
                  ],
                  "showlegend": false,
                  "marker": {
                    "color": "red"
                  },
                  "xaxis": "x1",
                  "yaxis": "y1"
                },
                {
                  "type": "scatter",
                  "x": [
                    "2017-08-01",
                    "2017-07-31",
                    "2017-07-30",
                    "2017-07-29",
                    "2017-07-28",
                    "2017-07-27",
                    "2017-07-26",
                    "2017-07-25",
                    "2017-07-24",
                    "2017-07-23",
                    "2017-07-22",
                    "2017-07-21",
                    "2017-07-20",
                    "2017-07-19",
                    "2017-07-18",
                    "2017-07-17",
                    "2017-07-16",
                    "2017-07-15",
                    "2017-07-14",
                    "2017-07-13",
                    "2017-07-12",
                    "2017-07-11",
                    "2017-07-10",
                    "2017-07-09",
                    "2017-07-08",
                    "2017-07-07",
                    "2017-07-06",
                    "2017-07-05",
                    "2017-07-04",
                    "2017-07-03",
                    "2017-07-02",
                    "2017-07-01",
                    "2017-06-30",
                    "2017-06-29",
                    "2017-06-28",
                    "2017-06-27",
                    "2017-06-26",
                    "2017-06-25",
                    "2017-06-24",
                    "2017-06-23",
                    "2017-06-22",
                    "2017-06-21",
                    "2017-06-20",
                    "2017-06-19",
                    "2017-06-18",
                    "2017-06-17",
                    "2017-06-16",
                    "2017-06-15",
                    "2017-06-14",
                    "2017-06-13",
                    "2017-06-12",
                    "2017-06-11",
                    "2017-06-10",
                    "2017-06-09",
                    "2017-06-08",
                    "2017-06-07",
                    "2017-06-06",
                    "2017-06-05",
                    "2017-06-04",
                    "2017-06-03",
                    "2017-06-02",
                    "2017-06-01",
                    "2017-05-31",
                    "2017-05-30",
                    "2017-05-29",
                    "2017-05-28",
                    "2017-05-27",
                    "2017-05-26",
                    "2017-05-25",
                    "2017-05-24",
                    "2017-05-23",
                    "2017-05-22",
                    "2017-05-21",
                    "2017-05-20",
                    "2017-05-19",
                    "2017-05-18",
                    "2017-05-17",
                    "2017-05-16",
                    "2017-05-15",
                    "2017-05-14",
                    "2017-05-13",
                    "2017-05-12",
                    "2017-05-11",
                    "2017-05-10",
                    "2017-05-09",
                    "2017-05-08",
                    "2017-05-07",
                    "2017-05-06",
                    "2017-05-05",
                    "2017-05-04",
                    "2017-05-03",
                    "2017-05-02",
                    "2017-05-01",
                    "2017-04-30",
                    "2017-04-29",
                    "2017-04-28",
                    "2017-04-27",
                    "2017-04-26",
                    "2017-04-25",
                    "2017-04-24",
                    "2017-04-23",
                    "2017-04-22",
                    "2017-04-21",
                    "2017-04-20",
                    "2017-04-19",
                    "2017-04-18",
                    "2017-04-17",
                    "2017-04-16",
                    "2017-04-15",
                    "2017-04-14",
                    "2017-04-13",
                    "2017-04-12",
                    "2017-04-11",
                    "2017-04-10",
                    "2017-04-09",
                    "2017-04-08",
                    "2017-04-07",
                    "2017-04-06",
                    "2017-04-05",
                    "2017-04-04",
                    "2017-04-03",
                    "2017-04-02",
                    "2017-04-01",
                    "2017-03-31",
                    "2017-03-30",
                    "2017-03-29",
                    "2017-03-28",
                    "2017-03-27",
                    "2017-03-26",
                    "2017-03-25",
                    "2017-03-24",
                    "2017-03-23",
                    "2017-03-22",
                    "2017-03-21",
                    "2017-03-20",
                    "2017-03-19",
                    "2017-03-18",
                    "2017-03-17",
                    "2017-03-16",
                    "2017-03-15",
                    "2017-03-14",
                    "2017-03-13",
                    "2017-03-12",
                    "2017-03-11",
                    "2017-03-10",
                    "2017-03-09",
                    "2017-03-08",
                    "2017-03-07",
                    "2017-03-06",
                    "2017-03-05",
                    "2017-03-04",
                    "2017-03-03",
                    "2017-03-02",
                    "2017-03-01",
                    "2017-02-28",
                    "2017-02-27",
                    "2017-02-26",
                    "2017-02-25",
                    "2017-02-24",
                    "2017-02-23",
                    "2017-02-22",
                    "2017-02-21",
                    "2017-02-20",
                    "2017-02-19",
                    "2017-02-18",
                    "2017-02-17",
                    "2017-02-16",
                    "2017-02-15",
                    "2017-02-14",
                    "2017-02-13",
                    "2017-02-12",
                    "2017-02-11",
                    "2017-02-10",
                    "2017-02-09",
                    "2017-02-08",
                    "2017-02-07",
                    "2017-02-06",
                    "2017-02-05",
                    "2017-02-04",
                    "2017-02-03",
                    "2017-02-02",
                    "2017-02-01",
                    "2017-01-31",
                    "2017-01-30",
                    "2017-01-29",
                    "2017-01-28",
                    "2017-01-27",
                    "2017-01-26",
                    "2017-01-25",
                    "2017-01-24",
                    "2017-01-23",
                    "2017-01-22",
                    "2017-01-21",
                    "2017-01-20",
                    "2017-01-19",
                    "2017-01-18",
                    "2017-01-17",
                    "2017-01-16",
                    "2017-01-15",
                    "2017-01-14",
                    "2017-01-13",
                    "2017-01-12",
                    "2017-01-11",
                    "2017-01-10",
                    "2017-01-09",
                    "2017-01-08",
                    "2017-01-07",
                    "2017-01-06",
                    "2017-01-05",
                    "2017-01-04",
                    "2017-01-03",
                    "2017-01-02",
                    "2017-01-01",
                    "2016-12-31",
                    "2016-12-30",
                    "2016-12-29",
                    "2016-12-28",
                    "2016-12-27",
                    "2016-12-26",
                    "2016-12-25",
                    "2016-12-24",
                    "2016-12-23",
                    "2016-12-22",
                    "2016-12-21",
                    "2016-12-20",
                    "2016-12-19",
                    "2016-12-18",
                    "2016-12-17",
                    "2016-12-16",
                    "2016-12-15",
                    "2016-12-14",
                    "2016-12-13",
                    "2016-12-12",
                    "2016-12-11",
                    "2016-12-10",
                    "2016-12-09",
                    "2016-12-08",
                    "2016-12-07",
                    "2016-12-06",
                    "2016-12-05",
                    "2016-12-04",
                    "2016-12-03",
                    "2016-12-02",
                    "2016-12-01",
                    "2016-11-30",
                    "2016-11-29",
                    "2016-11-28",
                    "2016-11-27",
                    "2016-11-26",
                    "2016-11-25",
                    "2016-11-24",
                    "2016-11-23",
                    "2016-11-22",
                    "2016-11-21",
                    "2016-11-20",
                    "2016-11-19",
                    "2016-11-18",
                    "2016-11-17",
                    "2016-11-16",
                    "2016-11-15",
                    "2016-11-14",
                    "2016-11-13",
                    "2016-11-12",
                    "2016-11-11",
                    "2016-11-10",
                    "2016-11-09",
                    "2016-11-08",
                    "2016-11-07",
                    "2016-11-06",
                    "2016-11-05",
                    "2016-11-04",
                    "2016-11-03",
                    "2016-11-02",
                    "2016-11-01",
                    "2016-10-31",
                    "2016-10-30",
                    "2016-10-29",
                    "2016-10-28",
                    "2016-10-27",
                    "2016-10-26",
                    "2016-10-25",
                    "2016-10-24",
                    "2016-10-23",
                    "2016-10-22",
                    "2016-10-21",
                    "2016-10-20",
                    "2016-10-19",
                    "2016-10-18",
                    "2016-10-17",
                    "2016-10-16",
                    "2016-10-15",
                    "2016-10-14",
                    "2016-10-13",
                    "2016-10-12",
                    "2016-10-11",
                    "2016-10-10",
                    "2016-10-09",
                    "2016-10-08",
                    "2016-10-07",
                    "2016-10-06",
                    "2016-10-05",
                    "2016-10-04",
                    "2016-10-03",
                    "2016-10-02",
                    "2016-10-01",
                    "2016-09-30",
                    "2016-09-29",
                    "2016-09-28",
                    "2016-09-27",
                    "2016-09-26",
                    "2016-09-25",
                    "2016-09-24",
                    "2016-09-23",
                    "2016-09-22",
                    "2016-09-21",
                    "2016-09-20",
                    "2016-09-19",
                    "2016-09-18",
                    "2016-09-17",
                    "2016-09-16",
                    "2016-09-15",
                    "2016-09-14",
                    "2016-09-13",
                    "2016-09-12",
                    "2016-09-11",
                    "2016-09-10",
                    "2016-09-09",
                    "2016-09-08",
                    "2016-09-07",
                    "2016-09-06",
                    "2016-09-05",
                    "2016-09-04",
                    "2016-09-03",
                    "2016-09-02",
                    "2016-09-01",
                    "2016-08-31",
                    "2016-08-30",
                    "2016-08-29",
                    "2016-08-28",
                    "2016-08-27",
                    "2016-08-26",
                    "2016-08-25",
                    "2016-08-24",
                    "2016-08-23",
                    "2016-08-22",
                    "2016-08-21",
                    "2016-08-20",
                    "2016-08-19",
                    "2016-08-18",
                    "2016-08-17",
                    "2016-08-16",
                    "2016-08-15",
                    "2016-08-14",
                    "2016-08-13",
                    "2016-08-12",
                    "2016-08-11",
                    "2016-08-10",
                    "2016-08-09",
                    "2016-08-08",
                    "2016-08-07",
                    "2016-08-06",
                    "2016-08-05",
                    "2016-08-04",
                    "2016-08-03",
                    "2016-08-02",
                    "2016-08-01"
                  ],
                  "y": [
                    43,
                    61,
                    22,
                    19,
                    42,
                    49,
                    41,
                    36,
                    38,
                    16,
                    17,
                    41,
                    40,
                    56,
                    50,
                    49,
                    27,
                    16,
                    44,
                    62,
                    48,
                    40,
                    44,
                    19,
                    14,
                    38,
                    30,
                    41,
                    7,
                    13,
                    8,
                    3,
                    33,
                    44,
                    31,
                    40,
                    32,
                    19,
                    10,
                    26,
                    36,
                    34,
                    35,
                    39,
                    25,
                    18,
                    36,
                    35,
                    45,
                    48,
                    61,
                    26,
                    12,
                    35,
                    24,
                    37,
                    29,
                    35,
                    15,
                    15,
                    36,
                    35,
                    39,
                    39,
                    18,
                    9,
                    16,
                    31,
                    35,
                    36,
                    32,
                    23,
                    22,
                    30,
                    39,
                    34,
                    38,
                    51,
                    37,
                    10,
                    23,
                    54,
                    44,
                    40,
                    46,
                    48,
                    11,
                    12,
                    35,
                    48,
                    70,
                    67,
                    78,
                    27,
                    20,
                    59,
                    42,
                    42,
                    33,
                    24,
                    12,
                    15,
                    42,
                    39,
                    38,
                    47,
                    37,
                    14,
                    7,
                    39,
                    37,
                    45,
                    29,
                    36,
                    10,
                    18,
                    43,
                    41,
                    32,
                    39,
                    36,
                    13,
                    12,
                    17,
                    38,
                    49,
                    44,
                    46,
                    14,
                    13,
                    30,
                    24,
                    37,
                    33,
                    35,
                    17,
                    17,
                    31,
                    29,
                    31,
                    32,
                    35,
                    11,
                    13,
                    32,
                    28,
                    24,
                    35,
                    30,
                    28,
                    26,
                    25,
                    27,
                    32,
                    29,
                    27,
                    9,
                    12,
                    25,
                    30,
                    34,
                    25,
                    21,
                    15,
                    13,
                    67,
                    32,
                    27,
                    51,
                    30,
                    16,
                    10,
                    24,
                    28,
                    24,
                    23,
                    28,
                    12,
                    14,
                    29,
                    26,
                    27,
                    39,
                    33,
                    19,
                    4,
                    21,
                    27,
                    34,
                    28,
                    27,
                    10,
                    11,
                    18,
                    27,
                    36,
                    32,
                    13,
                    6,
                    11,
                    28,
                    22,
                    17,
                    23,
                    38,
                    11,
                    8,
                    26,
                    41,
                    29,
                    29,
                    18,
                    11,
                    10,
                    13,
                    22,
                    25,
                    17,
                    15,
                    18,
                    19,
                    19,
                    33,
                    35,
                    67,
                    69,
                    38,
                    43,
                    87,
                    72,
                    65,
                    77,
                    83,
                    49,
                    37,
                    72,
                    66,
                    49,
                    70,
                    76,
                    36,
                    22,
                    41,
                    50,
                    57,
                    46,
                    73,
                    18,
                    13,
                    29,
                    15,
                    31,
                    21,
                    39,
                    13,
                    16,
                    35,
                    45,
                    33,
                    32,
                    39,
                    16,
                    15,
                    22,
                    25,
                    29,
                    44,
                    41,
                    21,
                    20,
                    37,
                    34,
                    27,
                    33,
                    28,
                    16,
                    11,
                    30,
                    40,
                    38,
                    21,
                    33,
                    28,
                    14,
                    33,
                    30,
                    29,
                    32,
                    40,
                    20,
                    9,
                    21,
                    30,
                    37,
                    43,
                    38,
                    22,
                    12,
                    39,
                    33,
                    44,
                    35,
                    35,
                    25,
                    6,
                    25,
                    32,
                    39,
                    35,
                    42,
                    18,
                    12,
                    24,
                    33,
                    39,
                    45,
                    36,
                    15,
                    8,
                    39,
                    32,
                    42,
                    21,
                    28,
                    17,
                    13,
                    39,
                    46,
                    33,
                    38,
                    16,
                    9,
                    13,
                    27,
                    43,
                    32,
                    34,
                    43,
                    22,
                    15,
                    39,
                    62,
                    47,
                    57,
                    57,
                    23,
                    21,
                    50,
                    43,
                    40,
                    59,
                    65,
                    23,
                    14,
                    71,
                    45,
                    46,
                    42,
                    34,
                    16,
                    10,
                    41,
                    17,
                    0,
                    17,
                    34
                  ],
                  "showlegend": false,
                  "marker": {
                    "color": "blue"
                  },
                  "xaxis": "x2",
                  "yaxis": "y2"
                }
              ],
              "layout": {
                "xaxis1": {
                  "domain": [
                    0,
                    1
                  ],
                  "anchor": "y1"
                },
                "yaxis1": {
                  "domain": [
                    0.54,
                    1
                  ],
                  "anchor": "x1"
                },
                "xaxis2": {
                  "domain": [
                    0,
                    1
                  ],
                  "anchor": "y2"
                },
                "yaxis2": {
                  "domain": [
                    0,
                    0.46
                  ],
                  "anchor": "x2"
                },
                "annotations": [
                  {
                    "y": 1,
                    "xref": "paper",
                    "x": 0.5,
                    "yref": "paper",
                    "text": "Date - Count",
                    "showarrow": false,
                    "font": {
                      "size": 16
                    },
                    "xanchor": "center",
                    "yanchor": "bottom"
                  },
                  {
                    "y": 0.46,
                    "xref": "paper",
                    "x": 0.5,
                    "yref": "paper",
                    "text": "Date - Non-zero Revenue count",
                    "showarrow": false,
                    "font": {
                      "size": 16
                    },
                    "xanchor": "center",
                    "yanchor": "bottom"
                  }
                ],
                "height": 800,
                "width": 800,
                "title": "Date Plots"
              }
            },
            "text/html": "<div id=\"d207b4c4-b17c-4d94-b789-3e5ccc55734f\" style=\"height: 800px; width: 800px;\" class=\"plotly-graph-div\"></div><script type=\"text/javascript\">require([\"plotly\"], function(Plotly) { window.PLOTLYENV=window.PLOTLYENV || {};window.PLOTLYENV.BASE_URL=\"https://plot.ly\";Plotly.newPlot(\"d207b4c4-b17c-4d94-b789-3e5ccc55734f\", [{\"type\": \"scatter\", \"x\": [\"2017-08-01\", \"2017-07-31\", \"2017-07-30\", \"2017-07-29\", \"2017-07-28\", \"2017-07-27\", \"2017-07-26\", \"2017-07-25\", \"2017-07-24\", \"2017-07-23\", \"2017-07-22\", \"2017-07-21\", \"2017-07-20\", \"2017-07-19\", \"2017-07-18\", \"2017-07-17\", \"2017-07-16\", \"2017-07-15\", \"2017-07-14\", \"2017-07-13\", \"2017-07-12\", \"2017-07-11\", \"2017-07-10\", \"2017-07-09\", \"2017-07-08\", \"2017-07-07\", \"2017-07-06\", \"2017-07-05\", \"2017-07-04\", \"2017-07-03\", \"2017-07-02\", \"2017-07-01\", \"2017-06-30\", \"2017-06-29\", \"2017-06-28\", \"2017-06-27\", \"2017-06-26\", \"2017-06-25\", \"2017-06-24\", \"2017-06-23\", \"2017-06-22\", \"2017-06-21\", \"2017-06-20\", \"2017-06-19\", \"2017-06-18\", \"2017-06-17\", \"2017-06-16\", \"2017-06-15\", \"2017-06-14\", \"2017-06-13\", \"2017-06-12\", \"2017-06-11\", \"2017-06-10\", \"2017-06-09\", \"2017-06-08\", \"2017-06-07\", \"2017-06-06\", \"2017-06-05\", \"2017-06-04\", \"2017-06-03\", \"2017-06-02\", \"2017-06-01\", \"2017-05-31\", \"2017-05-30\", \"2017-05-29\", \"2017-05-28\", \"2017-05-27\", \"2017-05-26\", \"2017-05-25\", \"2017-05-24\", \"2017-05-23\", \"2017-05-22\", \"2017-05-21\", \"2017-05-20\", \"2017-05-19\", \"2017-05-18\", \"2017-05-17\", \"2017-05-16\", \"2017-05-15\", \"2017-05-14\", \"2017-05-13\", \"2017-05-12\", \"2017-05-11\", \"2017-05-10\", \"2017-05-09\", \"2017-05-08\", \"2017-05-07\", \"2017-05-06\", \"2017-05-05\", \"2017-05-04\", \"2017-05-03\", \"2017-05-02\", \"2017-05-01\", \"2017-04-30\", \"2017-04-29\", \"2017-04-28\", \"2017-04-27\", \"2017-04-26\", \"2017-04-25\", \"2017-04-24\", \"2017-04-23\", \"2017-04-22\", \"2017-04-21\", \"2017-04-20\", \"2017-04-19\", \"2017-04-18\", \"2017-04-17\", \"2017-04-16\", \"2017-04-15\", \"2017-04-14\", \"2017-04-13\", \"2017-04-12\", \"2017-04-11\", \"2017-04-10\", \"2017-04-09\", \"2017-04-08\", \"2017-04-07\", \"2017-04-06\", \"2017-04-05\", \"2017-04-04\", \"2017-04-03\", \"2017-04-02\", \"2017-04-01\", \"2017-03-31\", \"2017-03-30\", \"2017-03-29\", \"2017-03-28\", \"2017-03-27\", \"2017-03-26\", \"2017-03-25\", \"2017-03-24\", \"2017-03-23\", \"2017-03-22\", \"2017-03-21\", \"2017-03-20\", \"2017-03-19\", \"2017-03-18\", \"2017-03-17\", \"2017-03-16\", \"2017-03-15\", \"2017-03-14\", \"2017-03-13\", \"2017-03-12\", \"2017-03-11\", \"2017-03-10\", \"2017-03-09\", \"2017-03-08\", \"2017-03-07\", \"2017-03-06\", \"2017-03-05\", \"2017-03-04\", \"2017-03-03\", \"2017-03-02\", \"2017-03-01\", \"2017-02-28\", \"2017-02-27\", \"2017-02-26\", \"2017-02-25\", \"2017-02-24\", \"2017-02-23\", \"2017-02-22\", \"2017-02-21\", \"2017-02-20\", \"2017-02-19\", \"2017-02-18\", \"2017-02-17\", \"2017-02-16\", \"2017-02-15\", \"2017-02-14\", \"2017-02-13\", \"2017-02-12\", \"2017-02-11\", \"2017-02-10\", \"2017-02-09\", \"2017-02-08\", \"2017-02-07\", \"2017-02-06\", \"2017-02-05\", \"2017-02-04\", \"2017-02-03\", \"2017-02-02\", \"2017-02-01\", \"2017-01-31\", \"2017-01-30\", \"2017-01-29\", \"2017-01-28\", \"2017-01-27\", \"2017-01-26\", \"2017-01-25\", \"2017-01-24\", \"2017-01-23\", \"2017-01-22\", \"2017-01-21\", \"2017-01-20\", \"2017-01-19\", \"2017-01-18\", \"2017-01-17\", \"2017-01-16\", \"2017-01-15\", \"2017-01-14\", \"2017-01-13\", \"2017-01-12\", \"2017-01-11\", \"2017-01-10\", \"2017-01-09\", \"2017-01-08\", \"2017-01-07\", \"2017-01-06\", \"2017-01-05\", \"2017-01-04\", \"2017-01-03\", \"2017-01-02\", \"2017-01-01\", \"2016-12-31\", \"2016-12-30\", \"2016-12-29\", \"2016-12-28\", \"2016-12-27\", \"2016-12-26\", \"2016-12-25\", \"2016-12-24\", \"2016-12-23\", \"2016-12-22\", \"2016-12-21\", \"2016-12-20\", \"2016-12-19\", \"2016-12-18\", \"2016-12-17\", \"2016-12-16\", \"2016-12-15\", \"2016-12-14\", \"2016-12-13\", \"2016-12-12\", \"2016-12-11\", \"2016-12-10\", \"2016-12-09\", \"2016-12-08\", \"2016-12-07\", \"2016-12-06\", \"2016-12-05\", \"2016-12-04\", \"2016-12-03\", \"2016-12-02\", \"2016-12-01\", \"2016-11-30\", \"2016-11-29\", \"2016-11-28\", \"2016-11-27\", \"2016-11-26\", \"2016-11-25\", \"2016-11-24\", \"2016-11-23\", \"2016-11-22\", \"2016-11-21\", \"2016-11-20\", \"2016-11-19\", \"2016-11-18\", \"2016-11-17\", \"2016-11-16\", \"2016-11-15\", \"2016-11-14\", \"2016-11-13\", \"2016-11-12\", \"2016-11-11\", \"2016-11-10\", \"2016-11-09\", \"2016-11-08\", \"2016-11-07\", \"2016-11-06\", \"2016-11-05\", \"2016-11-04\", \"2016-11-03\", \"2016-11-02\", \"2016-11-01\", \"2016-10-31\", \"2016-10-30\", \"2016-10-29\", \"2016-10-28\", \"2016-10-27\", \"2016-10-26\", \"2016-10-25\", \"2016-10-24\", \"2016-10-23\", \"2016-10-22\", \"2016-10-21\", \"2016-10-20\", \"2016-10-19\", \"2016-10-18\", \"2016-10-17\", \"2016-10-16\", \"2016-10-15\", \"2016-10-14\", \"2016-10-13\", \"2016-10-12\", \"2016-10-11\", \"2016-10-10\", \"2016-10-09\", \"2016-10-08\", \"2016-10-07\", \"2016-10-06\", \"2016-10-05\", \"2016-10-04\", \"2016-10-03\", \"2016-10-02\", \"2016-10-01\", \"2016-09-30\", \"2016-09-29\", \"2016-09-28\", \"2016-09-27\", \"2016-09-26\", \"2016-09-25\", \"2016-09-24\", \"2016-09-23\", \"2016-09-22\", \"2016-09-21\", \"2016-09-20\", \"2016-09-19\", \"2016-09-18\", \"2016-09-17\", \"2016-09-16\", \"2016-09-15\", \"2016-09-14\", \"2016-09-13\", \"2016-09-12\", \"2016-09-11\", \"2016-09-10\", \"2016-09-09\", \"2016-09-08\", \"2016-09-07\", \"2016-09-06\", \"2016-09-05\", \"2016-09-04\", \"2016-09-03\", \"2016-09-02\", \"2016-09-01\", \"2016-08-31\", \"2016-08-30\", \"2016-08-29\", \"2016-08-28\", \"2016-08-27\", \"2016-08-26\", \"2016-08-25\", \"2016-08-24\", \"2016-08-23\", \"2016-08-22\", \"2016-08-21\", \"2016-08-20\", \"2016-08-19\", \"2016-08-18\", \"2016-08-17\", \"2016-08-16\", \"2016-08-15\", \"2016-08-14\", \"2016-08-13\", \"2016-08-12\", \"2016-08-11\", \"2016-08-10\", \"2016-08-09\", \"2016-08-08\", \"2016-08-07\", \"2016-08-06\", \"2016-08-05\", \"2016-08-04\", \"2016-08-03\", \"2016-08-02\", \"2016-08-01\"], \"y\": [2556, 2620, 1799, 1597, 2433, 2529, 2725, 2631, 2436, 1966, 1724, 2427, 2668, 2514, 2804, 2671, 1766, 1721, 2382, 2741, 2554, 2635, 2769, 1921, 1859, 2450, 2658, 2885, 1938, 2046, 1895, 2048, 2499, 2709, 2687, 2789, 2226, 1597, 1510, 2095, 2258, 2357, 2143, 2142, 1432, 1391, 2028, 2237, 2517, 2181, 2361, 1555, 1545, 1927, 2280, 2279, 2391, 2493, 1534, 1399, 2190, 2826, 2292, 2199, 1745, 1463, 1502, 2009, 2228, 2406, 2129, 2248, 1645, 1855, 2223, 2715, 3117, 3098, 2360, 1290, 1251, 1932, 2218, 2024, 2108, 2025, 1400, 1383, 1960, 2806, 2588, 2564, 2588, 1594, 1566, 2411, 2838, 4224, 2354, 2263, 1548, 1612, 2210, 2374, 2397, 2391, 2279, 1507, 1506, 1834, 2300, 2341, 2464, 2563, 1766, 1829, 2297, 2647, 2619, 2978, 2383, 1861, 2170, 2268, 2731, 2525, 2577, 2525, 1768, 1712, 2374, 2847, 2582, 2611, 2383, 1776, 1610, 2129, 2409, 2486, 2338, 2537, 1781, 1707, 2194, 2231, 2449, 2586, 2396, 1827, 1753, 2162, 2267, 2390, 2347, 2352, 1643, 1638, 2093, 2364, 2477, 2582, 2374, 2187, 1755, 2785, 2539, 2629, 2379, 2266, 1790, 1761, 2199, 2678, 2570, 2476, 2238, 1522, 1549, 2182, 2372, 2445, 2229, 2392, 1814, 1614, 1969, 2209, 2986, 3618, 2262, 1700, 1685, 2074, 2083, 2245, 2443, 1906, 1576, 1526, 1967, 2203, 2185, 2268, 2308, 1637, 1615, 2210, 2193, 2390, 2403, 1620, 1364, 1211, 1232, 1647, 1763, 1855, 1586, 1386, 1231, 1604, 2100, 2594, 3110, 3222, 2128, 2324, 2956, 2937, 3040, 3166, 3433, 2208, 2207, 2830, 3013, 2840, 3021, 4265, 3220, 3044, 3751, 4200, 4435, 4337, 4807, 3356, 3213, 3759, 3770, 3805, 3942, 4143, 3247, 2984, 3654, 4074, 4334, 4685, 4466, 3144, 3119, 3588, 4055, 3752, 3899, 3832, 3232, 3042, 3596, 4014, 3960, 3728, 3827, 3086, 2964, 3791, 4162, 4375, 3842, 4063, 2971, 3029, 3419, 3755, 3544, 3628, 3397, 2649, 2495, 2838, 2964, 2871, 2850, 2911, 2134, 2114, 2892, 3016, 3770, 4322, 2514, 1724, 1589, 2303, 2597, 2535, 2727, 2776, 1877, 1845, 2381, 2581, 2720, 2760, 2689, 1822, 1853, 2603, 2949, 2652, 2396, 2465, 1725, 1671, 2549, 2628, 2562, 2508, 2125, 1692, 1741, 2613, 2687, 3223, 2675, 2454, 1682, 1654, 2359, 2539, 2627, 2754, 2584, 1730, 1664, 2379, 2725, 2799, 2873, 3043, 1801, 1596, 2619, 2667, 2757, 2851, 2815, 1622, 1663, 2702, 3161, 2890, 2140, 1711], \"showlegend\": false, \"marker\": {\"color\": \"red\"}, \"xaxis\": \"x1\", \"yaxis\": \"y1\"}, {\"type\": \"scatter\", \"x\": [\"2017-08-01\", \"2017-07-31\", \"2017-07-30\", \"2017-07-29\", \"2017-07-28\", \"2017-07-27\", \"2017-07-26\", \"2017-07-25\", \"2017-07-24\", \"2017-07-23\", \"2017-07-22\", \"2017-07-21\", \"2017-07-20\", \"2017-07-19\", \"2017-07-18\", \"2017-07-17\", \"2017-07-16\", \"2017-07-15\", \"2017-07-14\", \"2017-07-13\", \"2017-07-12\", \"2017-07-11\", \"2017-07-10\", \"2017-07-09\", \"2017-07-08\", \"2017-07-07\", \"2017-07-06\", \"2017-07-05\", \"2017-07-04\", \"2017-07-03\", \"2017-07-02\", \"2017-07-01\", \"2017-06-30\", \"2017-06-29\", \"2017-06-28\", \"2017-06-27\", \"2017-06-26\", \"2017-06-25\", \"2017-06-24\", \"2017-06-23\", \"2017-06-22\", \"2017-06-21\", \"2017-06-20\", \"2017-06-19\", \"2017-06-18\", \"2017-06-17\", \"2017-06-16\", \"2017-06-15\", \"2017-06-14\", \"2017-06-13\", \"2017-06-12\", \"2017-06-11\", \"2017-06-10\", \"2017-06-09\", \"2017-06-08\", \"2017-06-07\", \"2017-06-06\", \"2017-06-05\", \"2017-06-04\", \"2017-06-03\", \"2017-06-02\", \"2017-06-01\", \"2017-05-31\", \"2017-05-30\", \"2017-05-29\", \"2017-05-28\", \"2017-05-27\", \"2017-05-26\", \"2017-05-25\", \"2017-05-24\", \"2017-05-23\", \"2017-05-22\", \"2017-05-21\", \"2017-05-20\", \"2017-05-19\", \"2017-05-18\", \"2017-05-17\", \"2017-05-16\", \"2017-05-15\", \"2017-05-14\", \"2017-05-13\", \"2017-05-12\", \"2017-05-11\", \"2017-05-10\", \"2017-05-09\", \"2017-05-08\", \"2017-05-07\", \"2017-05-06\", \"2017-05-05\", \"2017-05-04\", \"2017-05-03\", \"2017-05-02\", \"2017-05-01\", \"2017-04-30\", \"2017-04-29\", \"2017-04-28\", \"2017-04-27\", \"2017-04-26\", \"2017-04-25\", \"2017-04-24\", \"2017-04-23\", \"2017-04-22\", \"2017-04-21\", \"2017-04-20\", \"2017-04-19\", \"2017-04-18\", \"2017-04-17\", \"2017-04-16\", \"2017-04-15\", \"2017-04-14\", \"2017-04-13\", \"2017-04-12\", \"2017-04-11\", \"2017-04-10\", \"2017-04-09\", \"2017-04-08\", \"2017-04-07\", \"2017-04-06\", \"2017-04-05\", \"2017-04-04\", \"2017-04-03\", \"2017-04-02\", \"2017-04-01\", \"2017-03-31\", \"2017-03-30\", \"2017-03-29\", \"2017-03-28\", \"2017-03-27\", \"2017-03-26\", \"2017-03-25\", \"2017-03-24\", \"2017-03-23\", \"2017-03-22\", \"2017-03-21\", \"2017-03-20\", \"2017-03-19\", \"2017-03-18\", \"2017-03-17\", \"2017-03-16\", \"2017-03-15\", \"2017-03-14\", \"2017-03-13\", \"2017-03-12\", \"2017-03-11\", \"2017-03-10\", \"2017-03-09\", \"2017-03-08\", \"2017-03-07\", \"2017-03-06\", \"2017-03-05\", \"2017-03-04\", \"2017-03-03\", \"2017-03-02\", \"2017-03-01\", \"2017-02-28\", \"2017-02-27\", \"2017-02-26\", \"2017-02-25\", \"2017-02-24\", \"2017-02-23\", \"2017-02-22\", \"2017-02-21\", \"2017-02-20\", \"2017-02-19\", \"2017-02-18\", \"2017-02-17\", \"2017-02-16\", \"2017-02-15\", \"2017-02-14\", \"2017-02-13\", \"2017-02-12\", \"2017-02-11\", \"2017-02-10\", \"2017-02-09\", \"2017-02-08\", \"2017-02-07\", \"2017-02-06\", \"2017-02-05\", \"2017-02-04\", \"2017-02-03\", \"2017-02-02\", \"2017-02-01\", \"2017-01-31\", \"2017-01-30\", \"2017-01-29\", \"2017-01-28\", \"2017-01-27\", \"2017-01-26\", \"2017-01-25\", \"2017-01-24\", \"2017-01-23\", \"2017-01-22\", \"2017-01-21\", \"2017-01-20\", \"2017-01-19\", \"2017-01-18\", \"2017-01-17\", \"2017-01-16\", \"2017-01-15\", \"2017-01-14\", \"2017-01-13\", \"2017-01-12\", \"2017-01-11\", \"2017-01-10\", \"2017-01-09\", \"2017-01-08\", \"2017-01-07\", \"2017-01-06\", \"2017-01-05\", \"2017-01-04\", \"2017-01-03\", \"2017-01-02\", \"2017-01-01\", \"2016-12-31\", \"2016-12-30\", \"2016-12-29\", \"2016-12-28\", \"2016-12-27\", \"2016-12-26\", \"2016-12-25\", \"2016-12-24\", \"2016-12-23\", \"2016-12-22\", \"2016-12-21\", \"2016-12-20\", \"2016-12-19\", \"2016-12-18\", \"2016-12-17\", \"2016-12-16\", \"2016-12-15\", \"2016-12-14\", \"2016-12-13\", \"2016-12-12\", \"2016-12-11\", \"2016-12-10\", \"2016-12-09\", \"2016-12-08\", \"2016-12-07\", \"2016-12-06\", \"2016-12-05\", \"2016-12-04\", \"2016-12-03\", \"2016-12-02\", \"2016-12-01\", \"2016-11-30\", \"2016-11-29\", \"2016-11-28\", \"2016-11-27\", \"2016-11-26\", \"2016-11-25\", \"2016-11-24\", \"2016-11-23\", \"2016-11-22\", \"2016-11-21\", \"2016-11-20\", \"2016-11-19\", \"2016-11-18\", \"2016-11-17\", \"2016-11-16\", \"2016-11-15\", \"2016-11-14\", \"2016-11-13\", \"2016-11-12\", \"2016-11-11\", \"2016-11-10\", \"2016-11-09\", \"2016-11-08\", \"2016-11-07\", \"2016-11-06\", \"2016-11-05\", \"2016-11-04\", \"2016-11-03\", \"2016-11-02\", \"2016-11-01\", \"2016-10-31\", \"2016-10-30\", \"2016-10-29\", \"2016-10-28\", \"2016-10-27\", \"2016-10-26\", \"2016-10-25\", \"2016-10-24\", \"2016-10-23\", \"2016-10-22\", \"2016-10-21\", \"2016-10-20\", \"2016-10-19\", \"2016-10-18\", \"2016-10-17\", \"2016-10-16\", \"2016-10-15\", \"2016-10-14\", \"2016-10-13\", \"2016-10-12\", \"2016-10-11\", \"2016-10-10\", \"2016-10-09\", \"2016-10-08\", \"2016-10-07\", \"2016-10-06\", \"2016-10-05\", \"2016-10-04\", \"2016-10-03\", \"2016-10-02\", \"2016-10-01\", \"2016-09-30\", \"2016-09-29\", \"2016-09-28\", \"2016-09-27\", \"2016-09-26\", \"2016-09-25\", \"2016-09-24\", \"2016-09-23\", \"2016-09-22\", \"2016-09-21\", \"2016-09-20\", \"2016-09-19\", \"2016-09-18\", \"2016-09-17\", \"2016-09-16\", \"2016-09-15\", \"2016-09-14\", \"2016-09-13\", \"2016-09-12\", \"2016-09-11\", \"2016-09-10\", \"2016-09-09\", \"2016-09-08\", \"2016-09-07\", \"2016-09-06\", \"2016-09-05\", \"2016-09-04\", \"2016-09-03\", \"2016-09-02\", \"2016-09-01\", \"2016-08-31\", \"2016-08-30\", \"2016-08-29\", \"2016-08-28\", \"2016-08-27\", \"2016-08-26\", \"2016-08-25\", \"2016-08-24\", \"2016-08-23\", \"2016-08-22\", \"2016-08-21\", \"2016-08-20\", \"2016-08-19\", \"2016-08-18\", \"2016-08-17\", \"2016-08-16\", \"2016-08-15\", \"2016-08-14\", \"2016-08-13\", \"2016-08-12\", \"2016-08-11\", \"2016-08-10\", \"2016-08-09\", \"2016-08-08\", \"2016-08-07\", \"2016-08-06\", \"2016-08-05\", \"2016-08-04\", \"2016-08-03\", \"2016-08-02\", \"2016-08-01\"], \"y\": [43, 61, 22, 19, 42, 49, 41, 36, 38, 16, 17, 41, 40, 56, 50, 49, 27, 16, 44, 62, 48, 40, 44, 19, 14, 38, 30, 41, 7, 13, 8, 3, 33, 44, 31, 40, 32, 19, 10, 26, 36, 34, 35, 39, 25, 18, 36, 35, 45, 48, 61, 26, 12, 35, 24, 37, 29, 35, 15, 15, 36, 35, 39, 39, 18, 9, 16, 31, 35, 36, 32, 23, 22, 30, 39, 34, 38, 51, 37, 10, 23, 54, 44, 40, 46, 48, 11, 12, 35, 48, 70, 67, 78, 27, 20, 59, 42, 42, 33, 24, 12, 15, 42, 39, 38, 47, 37, 14, 7, 39, 37, 45, 29, 36, 10, 18, 43, 41, 32, 39, 36, 13, 12, 17, 38, 49, 44, 46, 14, 13, 30, 24, 37, 33, 35, 17, 17, 31, 29, 31, 32, 35, 11, 13, 32, 28, 24, 35, 30, 28, 26, 25, 27, 32, 29, 27, 9, 12, 25, 30, 34, 25, 21, 15, 13, 67, 32, 27, 51, 30, 16, 10, 24, 28, 24, 23, 28, 12, 14, 29, 26, 27, 39, 33, 19, 4, 21, 27, 34, 28, 27, 10, 11, 18, 27, 36, 32, 13, 6, 11, 28, 22, 17, 23, 38, 11, 8, 26, 41, 29, 29, 18, 11, 10, 13, 22, 25, 17, 15, 18, 19, 19, 33, 35, 67, 69, 38, 43, 87, 72, 65, 77, 83, 49, 37, 72, 66, 49, 70, 76, 36, 22, 41, 50, 57, 46, 73, 18, 13, 29, 15, 31, 21, 39, 13, 16, 35, 45, 33, 32, 39, 16, 15, 22, 25, 29, 44, 41, 21, 20, 37, 34, 27, 33, 28, 16, 11, 30, 40, 38, 21, 33, 28, 14, 33, 30, 29, 32, 40, 20, 9, 21, 30, 37, 43, 38, 22, 12, 39, 33, 44, 35, 35, 25, 6, 25, 32, 39, 35, 42, 18, 12, 24, 33, 39, 45, 36, 15, 8, 39, 32, 42, 21, 28, 17, 13, 39, 46, 33, 38, 16, 9, 13, 27, 43, 32, 34, 43, 22, 15, 39, 62, 47, 57, 57, 23, 21, 50, 43, 40, 59, 65, 23, 14, 71, 45, 46, 42, 34, 16, 10, 41, 17, 0, 17, 34], \"showlegend\": false, \"marker\": {\"color\": \"blue\"}, \"xaxis\": \"x2\", \"yaxis\": \"y2\"}], {\"xaxis1\": {\"domain\": [0.0, 1.0], \"anchor\": \"y1\"}, \"yaxis1\": {\"domain\": [0.54, 1.0], \"anchor\": \"x1\"}, \"xaxis2\": {\"domain\": [0.0, 1.0], \"anchor\": \"y2\"}, \"yaxis2\": {\"domain\": [0.0, 0.46], \"anchor\": \"x2\"}, \"annotations\": [{\"y\": 1.0, \"xref\": \"paper\", \"x\": 0.5, \"yref\": \"paper\", \"text\": \"Date - Count\", \"showarrow\": false, \"font\": {\"size\": 16}, \"xanchor\": \"center\", \"yanchor\": \"bottom\"}, {\"y\": 0.46, \"xref\": \"paper\", \"x\": 0.5, \"yref\": \"paper\", \"text\": \"Date - Non-zero Revenue count\", \"showarrow\": false, \"font\": {\"size\": 16}, \"xanchor\": \"center\", \"yanchor\": \"bottom\"}], \"height\": 800, \"width\": 800, \"title\": \"Date Plots\"}, {\"showLink\": true, \"linkText\": \"Export to plot.ly\"})});</script>",
            "text/vnd.plotly.v1+html": "<div id=\"d207b4c4-b17c-4d94-b789-3e5ccc55734f\" style=\"height: 800px; width: 800px;\" class=\"plotly-graph-div\"></div><script type=\"text/javascript\">require([\"plotly\"], function(Plotly) { window.PLOTLYENV=window.PLOTLYENV || {};window.PLOTLYENV.BASE_URL=\"https://plot.ly\";Plotly.newPlot(\"d207b4c4-b17c-4d94-b789-3e5ccc55734f\", [{\"type\": \"scatter\", \"x\": [\"2017-08-01\", \"2017-07-31\", \"2017-07-30\", \"2017-07-29\", \"2017-07-28\", \"2017-07-27\", \"2017-07-26\", \"2017-07-25\", \"2017-07-24\", \"2017-07-23\", \"2017-07-22\", \"2017-07-21\", \"2017-07-20\", \"2017-07-19\", \"2017-07-18\", \"2017-07-17\", \"2017-07-16\", \"2017-07-15\", \"2017-07-14\", \"2017-07-13\", \"2017-07-12\", \"2017-07-11\", \"2017-07-10\", \"2017-07-09\", \"2017-07-08\", \"2017-07-07\", \"2017-07-06\", \"2017-07-05\", \"2017-07-04\", \"2017-07-03\", \"2017-07-02\", \"2017-07-01\", \"2017-06-30\", \"2017-06-29\", \"2017-06-28\", \"2017-06-27\", \"2017-06-26\", \"2017-06-25\", \"2017-06-24\", \"2017-06-23\", \"2017-06-22\", \"2017-06-21\", \"2017-06-20\", \"2017-06-19\", \"2017-06-18\", \"2017-06-17\", \"2017-06-16\", \"2017-06-15\", \"2017-06-14\", \"2017-06-13\", \"2017-06-12\", \"2017-06-11\", \"2017-06-10\", \"2017-06-09\", \"2017-06-08\", \"2017-06-07\", \"2017-06-06\", \"2017-06-05\", \"2017-06-04\", \"2017-06-03\", \"2017-06-02\", \"2017-06-01\", \"2017-05-31\", \"2017-05-30\", \"2017-05-29\", \"2017-05-28\", \"2017-05-27\", \"2017-05-26\", \"2017-05-25\", \"2017-05-24\", \"2017-05-23\", \"2017-05-22\", \"2017-05-21\", \"2017-05-20\", \"2017-05-19\", \"2017-05-18\", \"2017-05-17\", \"2017-05-16\", \"2017-05-15\", \"2017-05-14\", \"2017-05-13\", \"2017-05-12\", \"2017-05-11\", \"2017-05-10\", \"2017-05-09\", \"2017-05-08\", \"2017-05-07\", \"2017-05-06\", \"2017-05-05\", \"2017-05-04\", \"2017-05-03\", \"2017-05-02\", \"2017-05-01\", \"2017-04-30\", \"2017-04-29\", \"2017-04-28\", \"2017-04-27\", \"2017-04-26\", \"2017-04-25\", \"2017-04-24\", \"2017-04-23\", \"2017-04-22\", \"2017-04-21\", \"2017-04-20\", \"2017-04-19\", \"2017-04-18\", \"2017-04-17\", \"2017-04-16\", \"2017-04-15\", \"2017-04-14\", \"2017-04-13\", \"2017-04-12\", \"2017-04-11\", \"2017-04-10\", \"2017-04-09\", \"2017-04-08\", \"2017-04-07\", \"2017-04-06\", \"2017-04-05\", \"2017-04-04\", \"2017-04-03\", \"2017-04-02\", \"2017-04-01\", \"2017-03-31\", \"2017-03-30\", \"2017-03-29\", \"2017-03-28\", \"2017-03-27\", \"2017-03-26\", \"2017-03-25\", \"2017-03-24\", \"2017-03-23\", \"2017-03-22\", \"2017-03-21\", \"2017-03-20\", \"2017-03-19\", \"2017-03-18\", \"2017-03-17\", \"2017-03-16\", \"2017-03-15\", \"2017-03-14\", \"2017-03-13\", \"2017-03-12\", \"2017-03-11\", \"2017-03-10\", \"2017-03-09\", \"2017-03-08\", \"2017-03-07\", \"2017-03-06\", \"2017-03-05\", \"2017-03-04\", \"2017-03-03\", \"2017-03-02\", \"2017-03-01\", \"2017-02-28\", \"2017-02-27\", \"2017-02-26\", \"2017-02-25\", \"2017-02-24\", \"2017-02-23\", \"2017-02-22\", \"2017-02-21\", \"2017-02-20\", \"2017-02-19\", \"2017-02-18\", \"2017-02-17\", \"2017-02-16\", \"2017-02-15\", \"2017-02-14\", \"2017-02-13\", \"2017-02-12\", \"2017-02-11\", \"2017-02-10\", \"2017-02-09\", \"2017-02-08\", \"2017-02-07\", \"2017-02-06\", \"2017-02-05\", \"2017-02-04\", \"2017-02-03\", \"2017-02-02\", \"2017-02-01\", \"2017-01-31\", \"2017-01-30\", \"2017-01-29\", \"2017-01-28\", \"2017-01-27\", \"2017-01-26\", \"2017-01-25\", \"2017-01-24\", \"2017-01-23\", \"2017-01-22\", \"2017-01-21\", \"2017-01-20\", \"2017-01-19\", \"2017-01-18\", \"2017-01-17\", \"2017-01-16\", \"2017-01-15\", \"2017-01-14\", \"2017-01-13\", \"2017-01-12\", \"2017-01-11\", \"2017-01-10\", \"2017-01-09\", \"2017-01-08\", \"2017-01-07\", \"2017-01-06\", \"2017-01-05\", \"2017-01-04\", \"2017-01-03\", \"2017-01-02\", \"2017-01-01\", \"2016-12-31\", \"2016-12-30\", \"2016-12-29\", \"2016-12-28\", \"2016-12-27\", \"2016-12-26\", \"2016-12-25\", \"2016-12-24\", \"2016-12-23\", \"2016-12-22\", \"2016-12-21\", \"2016-12-20\", \"2016-12-19\", \"2016-12-18\", \"2016-12-17\", \"2016-12-16\", \"2016-12-15\", \"2016-12-14\", \"2016-12-13\", \"2016-12-12\", \"2016-12-11\", \"2016-12-10\", \"2016-12-09\", \"2016-12-08\", \"2016-12-07\", \"2016-12-06\", \"2016-12-05\", \"2016-12-04\", \"2016-12-03\", \"2016-12-02\", \"2016-12-01\", \"2016-11-30\", \"2016-11-29\", \"2016-11-28\", \"2016-11-27\", \"2016-11-26\", \"2016-11-25\", \"2016-11-24\", \"2016-11-23\", \"2016-11-22\", \"2016-11-21\", \"2016-11-20\", \"2016-11-19\", \"2016-11-18\", \"2016-11-17\", \"2016-11-16\", \"2016-11-15\", \"2016-11-14\", \"2016-11-13\", \"2016-11-12\", \"2016-11-11\", \"2016-11-10\", \"2016-11-09\", \"2016-11-08\", \"2016-11-07\", \"2016-11-06\", \"2016-11-05\", \"2016-11-04\", \"2016-11-03\", \"2016-11-02\", \"2016-11-01\", \"2016-10-31\", \"2016-10-30\", \"2016-10-29\", \"2016-10-28\", \"2016-10-27\", \"2016-10-26\", \"2016-10-25\", \"2016-10-24\", \"2016-10-23\", \"2016-10-22\", \"2016-10-21\", \"2016-10-20\", \"2016-10-19\", \"2016-10-18\", \"2016-10-17\", \"2016-10-16\", \"2016-10-15\", \"2016-10-14\", \"2016-10-13\", \"2016-10-12\", \"2016-10-11\", \"2016-10-10\", \"2016-10-09\", \"2016-10-08\", \"2016-10-07\", \"2016-10-06\", \"2016-10-05\", \"2016-10-04\", \"2016-10-03\", \"2016-10-02\", \"2016-10-01\", \"2016-09-30\", \"2016-09-29\", \"2016-09-28\", \"2016-09-27\", \"2016-09-26\", \"2016-09-25\", \"2016-09-24\", \"2016-09-23\", \"2016-09-22\", \"2016-09-21\", \"2016-09-20\", \"2016-09-19\", \"2016-09-18\", \"2016-09-17\", \"2016-09-16\", \"2016-09-15\", \"2016-09-14\", \"2016-09-13\", \"2016-09-12\", \"2016-09-11\", \"2016-09-10\", \"2016-09-09\", \"2016-09-08\", \"2016-09-07\", \"2016-09-06\", \"2016-09-05\", \"2016-09-04\", \"2016-09-03\", \"2016-09-02\", \"2016-09-01\", \"2016-08-31\", \"2016-08-30\", \"2016-08-29\", \"2016-08-28\", \"2016-08-27\", \"2016-08-26\", \"2016-08-25\", \"2016-08-24\", \"2016-08-23\", \"2016-08-22\", \"2016-08-21\", \"2016-08-20\", \"2016-08-19\", \"2016-08-18\", \"2016-08-17\", \"2016-08-16\", \"2016-08-15\", \"2016-08-14\", \"2016-08-13\", \"2016-08-12\", \"2016-08-11\", \"2016-08-10\", \"2016-08-09\", \"2016-08-08\", \"2016-08-07\", \"2016-08-06\", \"2016-08-05\", \"2016-08-04\", \"2016-08-03\", \"2016-08-02\", \"2016-08-01\"], \"y\": [2556, 2620, 1799, 1597, 2433, 2529, 2725, 2631, 2436, 1966, 1724, 2427, 2668, 2514, 2804, 2671, 1766, 1721, 2382, 2741, 2554, 2635, 2769, 1921, 1859, 2450, 2658, 2885, 1938, 2046, 1895, 2048, 2499, 2709, 2687, 2789, 2226, 1597, 1510, 2095, 2258, 2357, 2143, 2142, 1432, 1391, 2028, 2237, 2517, 2181, 2361, 1555, 1545, 1927, 2280, 2279, 2391, 2493, 1534, 1399, 2190, 2826, 2292, 2199, 1745, 1463, 1502, 2009, 2228, 2406, 2129, 2248, 1645, 1855, 2223, 2715, 3117, 3098, 2360, 1290, 1251, 1932, 2218, 2024, 2108, 2025, 1400, 1383, 1960, 2806, 2588, 2564, 2588, 1594, 1566, 2411, 2838, 4224, 2354, 2263, 1548, 1612, 2210, 2374, 2397, 2391, 2279, 1507, 1506, 1834, 2300, 2341, 2464, 2563, 1766, 1829, 2297, 2647, 2619, 2978, 2383, 1861, 2170, 2268, 2731, 2525, 2577, 2525, 1768, 1712, 2374, 2847, 2582, 2611, 2383, 1776, 1610, 2129, 2409, 2486, 2338, 2537, 1781, 1707, 2194, 2231, 2449, 2586, 2396, 1827, 1753, 2162, 2267, 2390, 2347, 2352, 1643, 1638, 2093, 2364, 2477, 2582, 2374, 2187, 1755, 2785, 2539, 2629, 2379, 2266, 1790, 1761, 2199, 2678, 2570, 2476, 2238, 1522, 1549, 2182, 2372, 2445, 2229, 2392, 1814, 1614, 1969, 2209, 2986, 3618, 2262, 1700, 1685, 2074, 2083, 2245, 2443, 1906, 1576, 1526, 1967, 2203, 2185, 2268, 2308, 1637, 1615, 2210, 2193, 2390, 2403, 1620, 1364, 1211, 1232, 1647, 1763, 1855, 1586, 1386, 1231, 1604, 2100, 2594, 3110, 3222, 2128, 2324, 2956, 2937, 3040, 3166, 3433, 2208, 2207, 2830, 3013, 2840, 3021, 4265, 3220, 3044, 3751, 4200, 4435, 4337, 4807, 3356, 3213, 3759, 3770, 3805, 3942, 4143, 3247, 2984, 3654, 4074, 4334, 4685, 4466, 3144, 3119, 3588, 4055, 3752, 3899, 3832, 3232, 3042, 3596, 4014, 3960, 3728, 3827, 3086, 2964, 3791, 4162, 4375, 3842, 4063, 2971, 3029, 3419, 3755, 3544, 3628, 3397, 2649, 2495, 2838, 2964, 2871, 2850, 2911, 2134, 2114, 2892, 3016, 3770, 4322, 2514, 1724, 1589, 2303, 2597, 2535, 2727, 2776, 1877, 1845, 2381, 2581, 2720, 2760, 2689, 1822, 1853, 2603, 2949, 2652, 2396, 2465, 1725, 1671, 2549, 2628, 2562, 2508, 2125, 1692, 1741, 2613, 2687, 3223, 2675, 2454, 1682, 1654, 2359, 2539, 2627, 2754, 2584, 1730, 1664, 2379, 2725, 2799, 2873, 3043, 1801, 1596, 2619, 2667, 2757, 2851, 2815, 1622, 1663, 2702, 3161, 2890, 2140, 1711], \"showlegend\": false, \"marker\": {\"color\": \"red\"}, \"xaxis\": \"x1\", \"yaxis\": \"y1\"}, {\"type\": \"scatter\", \"x\": [\"2017-08-01\", \"2017-07-31\", \"2017-07-30\", \"2017-07-29\", \"2017-07-28\", \"2017-07-27\", \"2017-07-26\", \"2017-07-25\", \"2017-07-24\", \"2017-07-23\", \"2017-07-22\", \"2017-07-21\", \"2017-07-20\", \"2017-07-19\", \"2017-07-18\", \"2017-07-17\", \"2017-07-16\", \"2017-07-15\", \"2017-07-14\", \"2017-07-13\", \"2017-07-12\", \"2017-07-11\", \"2017-07-10\", \"2017-07-09\", \"2017-07-08\", \"2017-07-07\", \"2017-07-06\", \"2017-07-05\", \"2017-07-04\", \"2017-07-03\", \"2017-07-02\", \"2017-07-01\", \"2017-06-30\", \"2017-06-29\", \"2017-06-28\", \"2017-06-27\", \"2017-06-26\", \"2017-06-25\", \"2017-06-24\", \"2017-06-23\", \"2017-06-22\", \"2017-06-21\", \"2017-06-20\", \"2017-06-19\", \"2017-06-18\", \"2017-06-17\", \"2017-06-16\", \"2017-06-15\", \"2017-06-14\", \"2017-06-13\", \"2017-06-12\", \"2017-06-11\", \"2017-06-10\", \"2017-06-09\", \"2017-06-08\", \"2017-06-07\", \"2017-06-06\", \"2017-06-05\", \"2017-06-04\", \"2017-06-03\", \"2017-06-02\", \"2017-06-01\", \"2017-05-31\", \"2017-05-30\", \"2017-05-29\", \"2017-05-28\", \"2017-05-27\", \"2017-05-26\", \"2017-05-25\", \"2017-05-24\", \"2017-05-23\", \"2017-05-22\", \"2017-05-21\", \"2017-05-20\", \"2017-05-19\", \"2017-05-18\", \"2017-05-17\", \"2017-05-16\", \"2017-05-15\", \"2017-05-14\", \"2017-05-13\", \"2017-05-12\", \"2017-05-11\", \"2017-05-10\", \"2017-05-09\", \"2017-05-08\", \"2017-05-07\", \"2017-05-06\", \"2017-05-05\", \"2017-05-04\", \"2017-05-03\", \"2017-05-02\", \"2017-05-01\", \"2017-04-30\", \"2017-04-29\", \"2017-04-28\", \"2017-04-27\", \"2017-04-26\", \"2017-04-25\", \"2017-04-24\", \"2017-04-23\", \"2017-04-22\", \"2017-04-21\", \"2017-04-20\", \"2017-04-19\", \"2017-04-18\", \"2017-04-17\", \"2017-04-16\", \"2017-04-15\", \"2017-04-14\", \"2017-04-13\", \"2017-04-12\", \"2017-04-11\", \"2017-04-10\", \"2017-04-09\", \"2017-04-08\", \"2017-04-07\", \"2017-04-06\", \"2017-04-05\", \"2017-04-04\", \"2017-04-03\", \"2017-04-02\", \"2017-04-01\", \"2017-03-31\", \"2017-03-30\", \"2017-03-29\", \"2017-03-28\", \"2017-03-27\", \"2017-03-26\", \"2017-03-25\", \"2017-03-24\", \"2017-03-23\", \"2017-03-22\", \"2017-03-21\", \"2017-03-20\", \"2017-03-19\", \"2017-03-18\", \"2017-03-17\", \"2017-03-16\", \"2017-03-15\", \"2017-03-14\", \"2017-03-13\", \"2017-03-12\", \"2017-03-11\", \"2017-03-10\", \"2017-03-09\", \"2017-03-08\", \"2017-03-07\", \"2017-03-06\", \"2017-03-05\", \"2017-03-04\", \"2017-03-03\", \"2017-03-02\", \"2017-03-01\", \"2017-02-28\", \"2017-02-27\", \"2017-02-26\", \"2017-02-25\", \"2017-02-24\", \"2017-02-23\", \"2017-02-22\", \"2017-02-21\", \"2017-02-20\", \"2017-02-19\", \"2017-02-18\", \"2017-02-17\", \"2017-02-16\", \"2017-02-15\", \"2017-02-14\", \"2017-02-13\", \"2017-02-12\", \"2017-02-11\", \"2017-02-10\", \"2017-02-09\", \"2017-02-08\", \"2017-02-07\", \"2017-02-06\", \"2017-02-05\", \"2017-02-04\", \"2017-02-03\", \"2017-02-02\", \"2017-02-01\", \"2017-01-31\", \"2017-01-30\", \"2017-01-29\", \"2017-01-28\", \"2017-01-27\", \"2017-01-26\", \"2017-01-25\", \"2017-01-24\", \"2017-01-23\", \"2017-01-22\", \"2017-01-21\", \"2017-01-20\", \"2017-01-19\", \"2017-01-18\", \"2017-01-17\", \"2017-01-16\", \"2017-01-15\", \"2017-01-14\", \"2017-01-13\", \"2017-01-12\", \"2017-01-11\", \"2017-01-10\", \"2017-01-09\", \"2017-01-08\", \"2017-01-07\", \"2017-01-06\", \"2017-01-05\", \"2017-01-04\", \"2017-01-03\", \"2017-01-02\", \"2017-01-01\", \"2016-12-31\", \"2016-12-30\", \"2016-12-29\", \"2016-12-28\", \"2016-12-27\", \"2016-12-26\", \"2016-12-25\", \"2016-12-24\", \"2016-12-23\", \"2016-12-22\", \"2016-12-21\", \"2016-12-20\", \"2016-12-19\", \"2016-12-18\", \"2016-12-17\", \"2016-12-16\", \"2016-12-15\", \"2016-12-14\", \"2016-12-13\", \"2016-12-12\", \"2016-12-11\", \"2016-12-10\", \"2016-12-09\", \"2016-12-08\", \"2016-12-07\", \"2016-12-06\", \"2016-12-05\", \"2016-12-04\", \"2016-12-03\", \"2016-12-02\", \"2016-12-01\", \"2016-11-30\", \"2016-11-29\", \"2016-11-28\", \"2016-11-27\", \"2016-11-26\", \"2016-11-25\", \"2016-11-24\", \"2016-11-23\", \"2016-11-22\", \"2016-11-21\", \"2016-11-20\", \"2016-11-19\", \"2016-11-18\", \"2016-11-17\", \"2016-11-16\", \"2016-11-15\", \"2016-11-14\", \"2016-11-13\", \"2016-11-12\", \"2016-11-11\", \"2016-11-10\", \"2016-11-09\", \"2016-11-08\", \"2016-11-07\", \"2016-11-06\", \"2016-11-05\", \"2016-11-04\", \"2016-11-03\", \"2016-11-02\", \"2016-11-01\", \"2016-10-31\", \"2016-10-30\", \"2016-10-29\", \"2016-10-28\", \"2016-10-27\", \"2016-10-26\", \"2016-10-25\", \"2016-10-24\", \"2016-10-23\", \"2016-10-22\", \"2016-10-21\", \"2016-10-20\", \"2016-10-19\", \"2016-10-18\", \"2016-10-17\", \"2016-10-16\", \"2016-10-15\", \"2016-10-14\", \"2016-10-13\", \"2016-10-12\", \"2016-10-11\", \"2016-10-10\", \"2016-10-09\", \"2016-10-08\", \"2016-10-07\", \"2016-10-06\", \"2016-10-05\", \"2016-10-04\", \"2016-10-03\", \"2016-10-02\", \"2016-10-01\", \"2016-09-30\", \"2016-09-29\", \"2016-09-28\", \"2016-09-27\", \"2016-09-26\", \"2016-09-25\", \"2016-09-24\", \"2016-09-23\", \"2016-09-22\", \"2016-09-21\", \"2016-09-20\", \"2016-09-19\", \"2016-09-18\", \"2016-09-17\", \"2016-09-16\", \"2016-09-15\", \"2016-09-14\", \"2016-09-13\", \"2016-09-12\", \"2016-09-11\", \"2016-09-10\", \"2016-09-09\", \"2016-09-08\", \"2016-09-07\", \"2016-09-06\", \"2016-09-05\", \"2016-09-04\", \"2016-09-03\", \"2016-09-02\", \"2016-09-01\", \"2016-08-31\", \"2016-08-30\", \"2016-08-29\", \"2016-08-28\", \"2016-08-27\", \"2016-08-26\", \"2016-08-25\", \"2016-08-24\", \"2016-08-23\", \"2016-08-22\", \"2016-08-21\", \"2016-08-20\", \"2016-08-19\", \"2016-08-18\", \"2016-08-17\", \"2016-08-16\", \"2016-08-15\", \"2016-08-14\", \"2016-08-13\", \"2016-08-12\", \"2016-08-11\", \"2016-08-10\", \"2016-08-09\", \"2016-08-08\", \"2016-08-07\", \"2016-08-06\", \"2016-08-05\", \"2016-08-04\", \"2016-08-03\", \"2016-08-02\", \"2016-08-01\"], \"y\": [43, 61, 22, 19, 42, 49, 41, 36, 38, 16, 17, 41, 40, 56, 50, 49, 27, 16, 44, 62, 48, 40, 44, 19, 14, 38, 30, 41, 7, 13, 8, 3, 33, 44, 31, 40, 32, 19, 10, 26, 36, 34, 35, 39, 25, 18, 36, 35, 45, 48, 61, 26, 12, 35, 24, 37, 29, 35, 15, 15, 36, 35, 39, 39, 18, 9, 16, 31, 35, 36, 32, 23, 22, 30, 39, 34, 38, 51, 37, 10, 23, 54, 44, 40, 46, 48, 11, 12, 35, 48, 70, 67, 78, 27, 20, 59, 42, 42, 33, 24, 12, 15, 42, 39, 38, 47, 37, 14, 7, 39, 37, 45, 29, 36, 10, 18, 43, 41, 32, 39, 36, 13, 12, 17, 38, 49, 44, 46, 14, 13, 30, 24, 37, 33, 35, 17, 17, 31, 29, 31, 32, 35, 11, 13, 32, 28, 24, 35, 30, 28, 26, 25, 27, 32, 29, 27, 9, 12, 25, 30, 34, 25, 21, 15, 13, 67, 32, 27, 51, 30, 16, 10, 24, 28, 24, 23, 28, 12, 14, 29, 26, 27, 39, 33, 19, 4, 21, 27, 34, 28, 27, 10, 11, 18, 27, 36, 32, 13, 6, 11, 28, 22, 17, 23, 38, 11, 8, 26, 41, 29, 29, 18, 11, 10, 13, 22, 25, 17, 15, 18, 19, 19, 33, 35, 67, 69, 38, 43, 87, 72, 65, 77, 83, 49, 37, 72, 66, 49, 70, 76, 36, 22, 41, 50, 57, 46, 73, 18, 13, 29, 15, 31, 21, 39, 13, 16, 35, 45, 33, 32, 39, 16, 15, 22, 25, 29, 44, 41, 21, 20, 37, 34, 27, 33, 28, 16, 11, 30, 40, 38, 21, 33, 28, 14, 33, 30, 29, 32, 40, 20, 9, 21, 30, 37, 43, 38, 22, 12, 39, 33, 44, 35, 35, 25, 6, 25, 32, 39, 35, 42, 18, 12, 24, 33, 39, 45, 36, 15, 8, 39, 32, 42, 21, 28, 17, 13, 39, 46, 33, 38, 16, 9, 13, 27, 43, 32, 34, 43, 22, 15, 39, 62, 47, 57, 57, 23, 21, 50, 43, 40, 59, 65, 23, 14, 71, 45, 46, 42, 34, 16, 10, 41, 17, 0, 17, 34], \"showlegend\": false, \"marker\": {\"color\": \"blue\"}, \"xaxis\": \"x2\", \"yaxis\": \"y2\"}], {\"xaxis1\": {\"domain\": [0.0, 1.0], \"anchor\": \"y1\"}, \"yaxis1\": {\"domain\": [0.54, 1.0], \"anchor\": \"x1\"}, \"xaxis2\": {\"domain\": [0.0, 1.0], \"anchor\": \"y2\"}, \"yaxis2\": {\"domain\": [0.0, 0.46], \"anchor\": \"x2\"}, \"annotations\": [{\"y\": 1.0, \"xref\": \"paper\", \"x\": 0.5, \"yref\": \"paper\", \"text\": \"Date - Count\", \"showarrow\": false, \"font\": {\"size\": 16}, \"xanchor\": \"center\", \"yanchor\": \"bottom\"}, {\"y\": 0.46, \"xref\": \"paper\", \"x\": 0.5, \"yref\": \"paper\", \"text\": \"Date - Non-zero Revenue count\", \"showarrow\": false, \"font\": {\"size\": 16}, \"xanchor\": \"center\", \"yanchor\": \"bottom\"}], \"height\": 800, \"width\": 800, \"title\": \"Date Plots\"}, {\"showLink\": true, \"linkText\": \"Export to plot.ly\"})});</script>"
          },
          "metadata": {}
        }
      ]
    },
    {
      "metadata": {
        "_uuid": "6563c9b9b1d6a87358526a29159b3baa97e3f9c9"
      },
      "cell_type": "markdown",
      "source": "\nInferences:\n\n* We have data from 1 Aug, 2016 to 31 July, 2017 in our training dataset\n\n* In Nov 2016, though there is an increase in the count of visitors, there is no increase in non-zero revenue counts during that time period. \n\n>Browsing for Christmas gifts?"
    },
    {
      "metadata": {
        "trusted": true,
        "_uuid": "845f8ee7bf45e5a12c88faa1ca1e0489624f1b17"
      },
      "cell_type": "code",
      "source": "#test['date'] = test['date'].apply(lambda x: datetime.date(int(str(x)[:4]), int(str(x)[4:6]), int(str(x)[6:])))\ntemp = test.groupby('date')['fullVisitorId'].size()\n\n\ntrace = scatter_plot(temp, 'red')\n\nlayout = go.Layout(\n    height=400,\n    width=800,\n    #paper_bgcolor='rgb(233,233,233)',\n    title='Dates in Test set'\n)\n\ndata = [trace]\nfig = go.Figure(data=data, layout=layout)\npy.iplot(fig, filename=\"ActivationDate\")",
      "execution_count": 22,
      "outputs": [
        {
          "output_type": "display_data",
          "data": {
            "application/vnd.plotly.v1+json": {
              "data": [
                {
                  "type": "scatter",
                  "x": [
                    "2018-04-30",
                    "2018-04-29",
                    "2018-04-28",
                    "2018-04-27",
                    "2018-04-26",
                    "2018-04-25",
                    "2018-04-24",
                    "2018-04-23",
                    "2018-04-22",
                    "2018-04-21",
                    "2018-04-20",
                    "2018-04-19",
                    "2018-04-18",
                    "2018-04-17",
                    "2018-04-16",
                    "2018-04-15",
                    "2018-04-14",
                    "2018-04-13",
                    "2018-04-12",
                    "2018-04-11",
                    "2018-04-10",
                    "2018-04-09",
                    "2018-04-08",
                    "2018-04-07",
                    "2018-04-06",
                    "2018-04-05",
                    "2018-04-04",
                    "2018-04-03",
                    "2018-04-02",
                    "2018-04-01",
                    "2018-03-31",
                    "2018-03-30",
                    "2018-03-29",
                    "2018-03-28",
                    "2018-03-27",
                    "2018-03-26",
                    "2018-03-25",
                    "2018-03-24",
                    "2018-03-23",
                    "2018-03-22",
                    "2018-03-21",
                    "2018-03-20",
                    "2018-03-19",
                    "2018-03-18",
                    "2018-03-17",
                    "2018-03-16",
                    "2018-03-15",
                    "2018-03-14",
                    "2018-03-13",
                    "2018-03-12",
                    "2018-03-11",
                    "2018-03-10",
                    "2018-03-09",
                    "2018-03-08",
                    "2018-03-07",
                    "2018-03-06",
                    "2018-03-05",
                    "2018-03-04",
                    "2018-03-03",
                    "2018-03-02",
                    "2018-03-01",
                    "2018-02-28",
                    "2018-02-27",
                    "2018-02-26",
                    "2018-02-25",
                    "2018-02-24",
                    "2018-02-23",
                    "2018-02-22",
                    "2018-02-21",
                    "2018-02-20",
                    "2018-02-19",
                    "2018-02-18",
                    "2018-02-17",
                    "2018-02-16",
                    "2018-02-15",
                    "2018-02-14",
                    "2018-02-13",
                    "2018-02-12",
                    "2018-02-11",
                    "2018-02-10",
                    "2018-02-09",
                    "2018-02-08",
                    "2018-02-07",
                    "2018-02-06",
                    "2018-02-05",
                    "2018-02-04",
                    "2018-02-03",
                    "2018-02-02",
                    "2018-02-01",
                    "2018-01-31",
                    "2018-01-30",
                    "2018-01-29",
                    "2018-01-28",
                    "2018-01-27",
                    "2018-01-26",
                    "2018-01-25",
                    "2018-01-24",
                    "2018-01-23",
                    "2018-01-22",
                    "2018-01-21",
                    "2018-01-20",
                    "2018-01-19",
                    "2018-01-18",
                    "2018-01-17",
                    "2018-01-16",
                    "2018-01-15",
                    "2018-01-14",
                    "2018-01-13",
                    "2018-01-12",
                    "2018-01-11",
                    "2018-01-10",
                    "2018-01-09",
                    "2018-01-08",
                    "2018-01-07",
                    "2018-01-06",
                    "2018-01-05",
                    "2018-01-04",
                    "2018-01-03",
                    "2018-01-02",
                    "2018-01-01",
                    "2017-12-31",
                    "2017-12-30",
                    "2017-12-29",
                    "2017-12-28",
                    "2017-12-27",
                    "2017-12-26",
                    "2017-12-25",
                    "2017-12-24",
                    "2017-12-23",
                    "2017-12-22",
                    "2017-12-21",
                    "2017-12-20",
                    "2017-12-19",
                    "2017-12-18",
                    "2017-12-17",
                    "2017-12-16",
                    "2017-12-15",
                    "2017-12-14",
                    "2017-12-13",
                    "2017-12-12",
                    "2017-12-11",
                    "2017-12-10",
                    "2017-12-09",
                    "2017-12-08",
                    "2017-12-07",
                    "2017-12-06",
                    "2017-12-05",
                    "2017-12-04",
                    "2017-12-03",
                    "2017-12-02",
                    "2017-12-01",
                    "2017-11-30",
                    "2017-11-29",
                    "2017-11-28",
                    "2017-11-27",
                    "2017-11-26",
                    "2017-11-25",
                    "2017-11-24",
                    "2017-11-23",
                    "2017-11-22",
                    "2017-11-21",
                    "2017-11-20",
                    "2017-11-19",
                    "2017-11-18",
                    "2017-11-17",
                    "2017-11-16",
                    "2017-11-15",
                    "2017-11-14",
                    "2017-11-13",
                    "2017-11-12",
                    "2017-11-11",
                    "2017-11-10",
                    "2017-11-09",
                    "2017-11-08",
                    "2017-11-07",
                    "2017-11-06",
                    "2017-11-05",
                    "2017-11-04",
                    "2017-11-03",
                    "2017-11-02",
                    "2017-11-01",
                    "2017-10-31",
                    "2017-10-30",
                    "2017-10-29",
                    "2017-10-28",
                    "2017-10-27",
                    "2017-10-26",
                    "2017-10-25",
                    "2017-10-24",
                    "2017-10-23",
                    "2017-10-22",
                    "2017-10-21",
                    "2017-10-20",
                    "2017-10-19",
                    "2017-10-18",
                    "2017-10-17",
                    "2017-10-16",
                    "2017-10-15",
                    "2017-10-14",
                    "2017-10-13",
                    "2017-10-12",
                    "2017-10-11",
                    "2017-10-10",
                    "2017-10-09",
                    "2017-10-08",
                    "2017-10-07",
                    "2017-10-06",
                    "2017-10-05",
                    "2017-10-04",
                    "2017-10-03",
                    "2017-10-02",
                    "2017-10-01",
                    "2017-09-30",
                    "2017-09-29",
                    "2017-09-28",
                    "2017-09-27",
                    "2017-09-26",
                    "2017-09-25",
                    "2017-09-24",
                    "2017-09-23",
                    "2017-09-22",
                    "2017-09-21",
                    "2017-09-20",
                    "2017-09-19",
                    "2017-09-18",
                    "2017-09-17",
                    "2017-09-16",
                    "2017-09-15",
                    "2017-09-14",
                    "2017-09-13",
                    "2017-09-12",
                    "2017-09-11",
                    "2017-09-10",
                    "2017-09-09",
                    "2017-09-08",
                    "2017-09-07",
                    "2017-09-06",
                    "2017-09-05",
                    "2017-09-04",
                    "2017-09-03",
                    "2017-09-02",
                    "2017-09-01",
                    "2017-08-31",
                    "2017-08-30",
                    "2017-08-29",
                    "2017-08-28",
                    "2017-08-27",
                    "2017-08-26",
                    "2017-08-25",
                    "2017-08-24",
                    "2017-08-23",
                    "2017-08-22",
                    "2017-08-21",
                    "2017-08-20",
                    "2017-08-19",
                    "2017-08-18",
                    "2017-08-17",
                    "2017-08-16",
                    "2017-08-15",
                    "2017-08-14",
                    "2017-08-13",
                    "2017-08-12",
                    "2017-08-11",
                    "2017-08-10",
                    "2017-08-09",
                    "2017-08-08",
                    "2017-08-07",
                    "2017-08-06",
                    "2017-08-05",
                    "2017-08-04",
                    "2017-08-03",
                    "2017-08-02"
                  ],
                  "y": [
                    2753,
                    1977,
                    1972,
                    2626,
                    3177,
                    3058,
                    3134,
                    3104,
                    2147,
                    1920,
                    2581,
                    3084,
                    3201,
                    3229,
                    3129,
                    2089,
                    1900,
                    2716,
                    3201,
                    3084,
                    3263,
                    3141,
                    2434,
                    2144,
                    2653,
                    2936,
                    3299,
                    3405,
                    3176,
                    2068,
                    1843,
                    2679,
                    3310,
                    3724,
                    4227,
                    3077,
                    2146,
                    2228,
                    2891,
                    3570,
                    4434,
                    3251,
                    3603,
                    2317,
                    2201,
                    2993,
                    3498,
                    3344,
                    3484,
                    3598,
                    2252,
                    2285,
                    2877,
                    3092,
                    3227,
                    3824,
                    3221,
                    2386,
                    2390,
                    2922,
                    3195,
                    3163,
                    3516,
                    3989,
                    2446,
                    2247,
                    3055,
                    3596,
                    3392,
                    3501,
                    2871,
                    2627,
                    2371,
                    2738,
                    3128,
                    3272,
                    3434,
                    3547,
                    2708,
                    2469,
                    2964,
                    2953,
                    3012,
                    2999,
                    3041,
                    2171,
                    2063,
                    2697,
                    3034,
                    3021,
                    3062,
                    3017,
                    2198,
                    2073,
                    2672,
                    3502,
                    2987,
                    2901,
                    2951,
                    2012,
                    2024,
                    2784,
                    2842,
                    3120,
                    3241,
                    3070,
                    2242,
                    2115,
                    2756,
                    2954,
                    3176,
                    3223,
                    2751,
                    2068,
                    1931,
                    2613,
                    2812,
                    2747,
                    2715,
                    1810,
                    1495,
                    1768,
                    1902,
                    2255,
                    2716,
                    2370,
                    2085,
                    1960,
                    1998,
                    2422,
                    2930,
                    3196,
                    3407,
                    3601,
                    2523,
                    2597,
                    3527,
                    3587,
                    9131,
                    9234,
                    3259,
                    2487,
                    2239,
                    2880,
                    3624,
                    3577,
                    3395,
                    3328,
                    2439,
                    2254,
                    2918,
                    3178,
                    3452,
                    3934,
                    4194,
                    2553,
                    2269,
                    2901,
                    2964,
                    3033,
                    2905,
                    3318,
                    2311,
                    2123,
                    3230,
                    3530,
                    3581,
                    3573,
                    3383,
                    2784,
                    2471,
                    3186,
                    3628,
                    4136,
                    3846,
                    3542,
                    2642,
                    2330,
                    2937,
                    2880,
                    2875,
                    2774,
                    3144,
                    2217,
                    2293,
                    3134,
                    3547,
                    3290,
                    3318,
                    3427,
                    2662,
                    2251,
                    2976,
                    3205,
                    3493,
                    4258,
                    2989,
                    2121,
                    2395,
                    2699,
                    3002,
                    3368,
                    3961,
                    3976,
                    3329,
                    3539,
                    4033,
                    4679,
                    5122,
                    3621,
                    3470,
                    2993,
                    2634,
                    2989,
                    3396,
                    3303,
                    3655,
                    2987,
                    2556,
                    2200,
                    3313,
                    4715,
                    4880,
                    3526,
                    3626,
                    2856,
                    2821,
                    2691,
                    2850,
                    2790,
                    2784,
                    2831,
                    1992,
                    2026,
                    2564,
                    2793,
                    2831,
                    2852,
                    2313,
                    2064,
                    1966,
                    2471,
                    2955,
                    3121,
                    3263,
                    2748,
                    2162,
                    2177,
                    2422,
                    3716,
                    3267,
                    3143,
                    2860,
                    1985,
                    2018,
                    2861,
                    3203,
                    2862,
                    3109,
                    3487,
                    1996,
                    2012,
                    2769,
                    2852,
                    2855,
                    3059,
                    2846,
                    2340,
                    1796,
                    2843,
                    2691,
                    2828
                  ],
                  "showlegend": false,
                  "marker": {
                    "color": "red"
                  }
                }
              ],
              "layout": {
                "height": 400,
                "width": 800,
                "title": "Dates in Test set"
              }
            },
            "text/html": "<div id=\"61362687-131e-44ad-b41d-b2ce15a41975\" style=\"height: 400px; width: 800px;\" class=\"plotly-graph-div\"></div><script type=\"text/javascript\">require([\"plotly\"], function(Plotly) { window.PLOTLYENV=window.PLOTLYENV || {};window.PLOTLYENV.BASE_URL=\"https://plot.ly\";Plotly.newPlot(\"61362687-131e-44ad-b41d-b2ce15a41975\", [{\"type\": \"scatter\", \"x\": [\"2018-04-30\", \"2018-04-29\", \"2018-04-28\", \"2018-04-27\", \"2018-04-26\", \"2018-04-25\", \"2018-04-24\", \"2018-04-23\", \"2018-04-22\", \"2018-04-21\", \"2018-04-20\", \"2018-04-19\", \"2018-04-18\", \"2018-04-17\", \"2018-04-16\", \"2018-04-15\", \"2018-04-14\", \"2018-04-13\", \"2018-04-12\", \"2018-04-11\", \"2018-04-10\", \"2018-04-09\", \"2018-04-08\", \"2018-04-07\", \"2018-04-06\", \"2018-04-05\", \"2018-04-04\", \"2018-04-03\", \"2018-04-02\", \"2018-04-01\", \"2018-03-31\", \"2018-03-30\", \"2018-03-29\", \"2018-03-28\", \"2018-03-27\", \"2018-03-26\", \"2018-03-25\", \"2018-03-24\", \"2018-03-23\", \"2018-03-22\", \"2018-03-21\", \"2018-03-20\", \"2018-03-19\", \"2018-03-18\", \"2018-03-17\", \"2018-03-16\", \"2018-03-15\", \"2018-03-14\", \"2018-03-13\", \"2018-03-12\", \"2018-03-11\", \"2018-03-10\", \"2018-03-09\", \"2018-03-08\", \"2018-03-07\", \"2018-03-06\", \"2018-03-05\", \"2018-03-04\", \"2018-03-03\", \"2018-03-02\", \"2018-03-01\", \"2018-02-28\", \"2018-02-27\", \"2018-02-26\", \"2018-02-25\", \"2018-02-24\", \"2018-02-23\", \"2018-02-22\", \"2018-02-21\", \"2018-02-20\", \"2018-02-19\", \"2018-02-18\", \"2018-02-17\", \"2018-02-16\", \"2018-02-15\", \"2018-02-14\", \"2018-02-13\", \"2018-02-12\", \"2018-02-11\", \"2018-02-10\", \"2018-02-09\", \"2018-02-08\", \"2018-02-07\", \"2018-02-06\", \"2018-02-05\", \"2018-02-04\", \"2018-02-03\", \"2018-02-02\", \"2018-02-01\", \"2018-01-31\", \"2018-01-30\", \"2018-01-29\", \"2018-01-28\", \"2018-01-27\", \"2018-01-26\", \"2018-01-25\", \"2018-01-24\", \"2018-01-23\", \"2018-01-22\", \"2018-01-21\", \"2018-01-20\", \"2018-01-19\", \"2018-01-18\", \"2018-01-17\", \"2018-01-16\", \"2018-01-15\", \"2018-01-14\", \"2018-01-13\", \"2018-01-12\", \"2018-01-11\", \"2018-01-10\", \"2018-01-09\", \"2018-01-08\", \"2018-01-07\", \"2018-01-06\", \"2018-01-05\", \"2018-01-04\", \"2018-01-03\", \"2018-01-02\", \"2018-01-01\", \"2017-12-31\", \"2017-12-30\", \"2017-12-29\", \"2017-12-28\", \"2017-12-27\", \"2017-12-26\", \"2017-12-25\", \"2017-12-24\", \"2017-12-23\", \"2017-12-22\", \"2017-12-21\", \"2017-12-20\", \"2017-12-19\", \"2017-12-18\", \"2017-12-17\", \"2017-12-16\", \"2017-12-15\", \"2017-12-14\", \"2017-12-13\", \"2017-12-12\", \"2017-12-11\", \"2017-12-10\", \"2017-12-09\", \"2017-12-08\", \"2017-12-07\", \"2017-12-06\", \"2017-12-05\", \"2017-12-04\", \"2017-12-03\", \"2017-12-02\", \"2017-12-01\", \"2017-11-30\", \"2017-11-29\", \"2017-11-28\", \"2017-11-27\", \"2017-11-26\", \"2017-11-25\", \"2017-11-24\", \"2017-11-23\", \"2017-11-22\", \"2017-11-21\", \"2017-11-20\", \"2017-11-19\", \"2017-11-18\", \"2017-11-17\", \"2017-11-16\", \"2017-11-15\", \"2017-11-14\", \"2017-11-13\", \"2017-11-12\", \"2017-11-11\", \"2017-11-10\", \"2017-11-09\", \"2017-11-08\", \"2017-11-07\", \"2017-11-06\", \"2017-11-05\", \"2017-11-04\", \"2017-11-03\", \"2017-11-02\", \"2017-11-01\", \"2017-10-31\", \"2017-10-30\", \"2017-10-29\", \"2017-10-28\", \"2017-10-27\", \"2017-10-26\", \"2017-10-25\", \"2017-10-24\", \"2017-10-23\", \"2017-10-22\", \"2017-10-21\", \"2017-10-20\", \"2017-10-19\", \"2017-10-18\", \"2017-10-17\", \"2017-10-16\", \"2017-10-15\", \"2017-10-14\", \"2017-10-13\", \"2017-10-12\", \"2017-10-11\", \"2017-10-10\", \"2017-10-09\", \"2017-10-08\", \"2017-10-07\", \"2017-10-06\", \"2017-10-05\", \"2017-10-04\", \"2017-10-03\", \"2017-10-02\", \"2017-10-01\", \"2017-09-30\", \"2017-09-29\", \"2017-09-28\", \"2017-09-27\", \"2017-09-26\", \"2017-09-25\", \"2017-09-24\", \"2017-09-23\", \"2017-09-22\", \"2017-09-21\", \"2017-09-20\", \"2017-09-19\", \"2017-09-18\", \"2017-09-17\", \"2017-09-16\", \"2017-09-15\", \"2017-09-14\", \"2017-09-13\", \"2017-09-12\", \"2017-09-11\", \"2017-09-10\", \"2017-09-09\", \"2017-09-08\", \"2017-09-07\", \"2017-09-06\", \"2017-09-05\", \"2017-09-04\", \"2017-09-03\", \"2017-09-02\", \"2017-09-01\", \"2017-08-31\", \"2017-08-30\", \"2017-08-29\", \"2017-08-28\", \"2017-08-27\", \"2017-08-26\", \"2017-08-25\", \"2017-08-24\", \"2017-08-23\", \"2017-08-22\", \"2017-08-21\", \"2017-08-20\", \"2017-08-19\", \"2017-08-18\", \"2017-08-17\", \"2017-08-16\", \"2017-08-15\", \"2017-08-14\", \"2017-08-13\", \"2017-08-12\", \"2017-08-11\", \"2017-08-10\", \"2017-08-09\", \"2017-08-08\", \"2017-08-07\", \"2017-08-06\", \"2017-08-05\", \"2017-08-04\", \"2017-08-03\", \"2017-08-02\"], \"y\": [2753, 1977, 1972, 2626, 3177, 3058, 3134, 3104, 2147, 1920, 2581, 3084, 3201, 3229, 3129, 2089, 1900, 2716, 3201, 3084, 3263, 3141, 2434, 2144, 2653, 2936, 3299, 3405, 3176, 2068, 1843, 2679, 3310, 3724, 4227, 3077, 2146, 2228, 2891, 3570, 4434, 3251, 3603, 2317, 2201, 2993, 3498, 3344, 3484, 3598, 2252, 2285, 2877, 3092, 3227, 3824, 3221, 2386, 2390, 2922, 3195, 3163, 3516, 3989, 2446, 2247, 3055, 3596, 3392, 3501, 2871, 2627, 2371, 2738, 3128, 3272, 3434, 3547, 2708, 2469, 2964, 2953, 3012, 2999, 3041, 2171, 2063, 2697, 3034, 3021, 3062, 3017, 2198, 2073, 2672, 3502, 2987, 2901, 2951, 2012, 2024, 2784, 2842, 3120, 3241, 3070, 2242, 2115, 2756, 2954, 3176, 3223, 2751, 2068, 1931, 2613, 2812, 2747, 2715, 1810, 1495, 1768, 1902, 2255, 2716, 2370, 2085, 1960, 1998, 2422, 2930, 3196, 3407, 3601, 2523, 2597, 3527, 3587, 9131, 9234, 3259, 2487, 2239, 2880, 3624, 3577, 3395, 3328, 2439, 2254, 2918, 3178, 3452, 3934, 4194, 2553, 2269, 2901, 2964, 3033, 2905, 3318, 2311, 2123, 3230, 3530, 3581, 3573, 3383, 2784, 2471, 3186, 3628, 4136, 3846, 3542, 2642, 2330, 2937, 2880, 2875, 2774, 3144, 2217, 2293, 3134, 3547, 3290, 3318, 3427, 2662, 2251, 2976, 3205, 3493, 4258, 2989, 2121, 2395, 2699, 3002, 3368, 3961, 3976, 3329, 3539, 4033, 4679, 5122, 3621, 3470, 2993, 2634, 2989, 3396, 3303, 3655, 2987, 2556, 2200, 3313, 4715, 4880, 3526, 3626, 2856, 2821, 2691, 2850, 2790, 2784, 2831, 1992, 2026, 2564, 2793, 2831, 2852, 2313, 2064, 1966, 2471, 2955, 3121, 3263, 2748, 2162, 2177, 2422, 3716, 3267, 3143, 2860, 1985, 2018, 2861, 3203, 2862, 3109, 3487, 1996, 2012, 2769, 2852, 2855, 3059, 2846, 2340, 1796, 2843, 2691, 2828], \"showlegend\": false, \"marker\": {\"color\": \"red\"}}], {\"height\": 400, \"width\": 800, \"title\": \"Dates in Test set\"}, {\"showLink\": true, \"linkText\": \"Export to plot.ly\"})});</script>",
            "text/vnd.plotly.v1+html": "<div id=\"61362687-131e-44ad-b41d-b2ce15a41975\" style=\"height: 400px; width: 800px;\" class=\"plotly-graph-div\"></div><script type=\"text/javascript\">require([\"plotly\"], function(Plotly) { window.PLOTLYENV=window.PLOTLYENV || {};window.PLOTLYENV.BASE_URL=\"https://plot.ly\";Plotly.newPlot(\"61362687-131e-44ad-b41d-b2ce15a41975\", [{\"type\": \"scatter\", \"x\": [\"2018-04-30\", \"2018-04-29\", \"2018-04-28\", \"2018-04-27\", \"2018-04-26\", \"2018-04-25\", \"2018-04-24\", \"2018-04-23\", \"2018-04-22\", \"2018-04-21\", \"2018-04-20\", \"2018-04-19\", \"2018-04-18\", \"2018-04-17\", \"2018-04-16\", \"2018-04-15\", \"2018-04-14\", \"2018-04-13\", \"2018-04-12\", \"2018-04-11\", \"2018-04-10\", \"2018-04-09\", \"2018-04-08\", \"2018-04-07\", \"2018-04-06\", \"2018-04-05\", \"2018-04-04\", \"2018-04-03\", \"2018-04-02\", \"2018-04-01\", \"2018-03-31\", \"2018-03-30\", \"2018-03-29\", \"2018-03-28\", \"2018-03-27\", \"2018-03-26\", \"2018-03-25\", \"2018-03-24\", \"2018-03-23\", \"2018-03-22\", \"2018-03-21\", \"2018-03-20\", \"2018-03-19\", \"2018-03-18\", \"2018-03-17\", \"2018-03-16\", \"2018-03-15\", \"2018-03-14\", \"2018-03-13\", \"2018-03-12\", \"2018-03-11\", \"2018-03-10\", \"2018-03-09\", \"2018-03-08\", \"2018-03-07\", \"2018-03-06\", \"2018-03-05\", \"2018-03-04\", \"2018-03-03\", \"2018-03-02\", \"2018-03-01\", \"2018-02-28\", \"2018-02-27\", \"2018-02-26\", \"2018-02-25\", \"2018-02-24\", \"2018-02-23\", \"2018-02-22\", \"2018-02-21\", \"2018-02-20\", \"2018-02-19\", \"2018-02-18\", \"2018-02-17\", \"2018-02-16\", \"2018-02-15\", \"2018-02-14\", \"2018-02-13\", \"2018-02-12\", \"2018-02-11\", \"2018-02-10\", \"2018-02-09\", \"2018-02-08\", \"2018-02-07\", \"2018-02-06\", \"2018-02-05\", \"2018-02-04\", \"2018-02-03\", \"2018-02-02\", \"2018-02-01\", \"2018-01-31\", \"2018-01-30\", \"2018-01-29\", \"2018-01-28\", \"2018-01-27\", \"2018-01-26\", \"2018-01-25\", \"2018-01-24\", \"2018-01-23\", \"2018-01-22\", \"2018-01-21\", \"2018-01-20\", \"2018-01-19\", \"2018-01-18\", \"2018-01-17\", \"2018-01-16\", \"2018-01-15\", \"2018-01-14\", \"2018-01-13\", \"2018-01-12\", \"2018-01-11\", \"2018-01-10\", \"2018-01-09\", \"2018-01-08\", \"2018-01-07\", \"2018-01-06\", \"2018-01-05\", \"2018-01-04\", \"2018-01-03\", \"2018-01-02\", \"2018-01-01\", \"2017-12-31\", \"2017-12-30\", \"2017-12-29\", \"2017-12-28\", \"2017-12-27\", \"2017-12-26\", \"2017-12-25\", \"2017-12-24\", \"2017-12-23\", \"2017-12-22\", \"2017-12-21\", \"2017-12-20\", \"2017-12-19\", \"2017-12-18\", \"2017-12-17\", \"2017-12-16\", \"2017-12-15\", \"2017-12-14\", \"2017-12-13\", \"2017-12-12\", \"2017-12-11\", \"2017-12-10\", \"2017-12-09\", \"2017-12-08\", \"2017-12-07\", \"2017-12-06\", \"2017-12-05\", \"2017-12-04\", \"2017-12-03\", \"2017-12-02\", \"2017-12-01\", \"2017-11-30\", \"2017-11-29\", \"2017-11-28\", \"2017-11-27\", \"2017-11-26\", \"2017-11-25\", \"2017-11-24\", \"2017-11-23\", \"2017-11-22\", \"2017-11-21\", \"2017-11-20\", \"2017-11-19\", \"2017-11-18\", \"2017-11-17\", \"2017-11-16\", \"2017-11-15\", \"2017-11-14\", \"2017-11-13\", \"2017-11-12\", \"2017-11-11\", \"2017-11-10\", \"2017-11-09\", \"2017-11-08\", \"2017-11-07\", \"2017-11-06\", \"2017-11-05\", \"2017-11-04\", \"2017-11-03\", \"2017-11-02\", \"2017-11-01\", \"2017-10-31\", \"2017-10-30\", \"2017-10-29\", \"2017-10-28\", \"2017-10-27\", \"2017-10-26\", \"2017-10-25\", \"2017-10-24\", \"2017-10-23\", \"2017-10-22\", \"2017-10-21\", \"2017-10-20\", \"2017-10-19\", \"2017-10-18\", \"2017-10-17\", \"2017-10-16\", \"2017-10-15\", \"2017-10-14\", \"2017-10-13\", \"2017-10-12\", \"2017-10-11\", \"2017-10-10\", \"2017-10-09\", \"2017-10-08\", \"2017-10-07\", \"2017-10-06\", \"2017-10-05\", \"2017-10-04\", \"2017-10-03\", \"2017-10-02\", \"2017-10-01\", \"2017-09-30\", \"2017-09-29\", \"2017-09-28\", \"2017-09-27\", \"2017-09-26\", \"2017-09-25\", \"2017-09-24\", \"2017-09-23\", \"2017-09-22\", \"2017-09-21\", \"2017-09-20\", \"2017-09-19\", \"2017-09-18\", \"2017-09-17\", \"2017-09-16\", \"2017-09-15\", \"2017-09-14\", \"2017-09-13\", \"2017-09-12\", \"2017-09-11\", \"2017-09-10\", \"2017-09-09\", \"2017-09-08\", \"2017-09-07\", \"2017-09-06\", \"2017-09-05\", \"2017-09-04\", \"2017-09-03\", \"2017-09-02\", \"2017-09-01\", \"2017-08-31\", \"2017-08-30\", \"2017-08-29\", \"2017-08-28\", \"2017-08-27\", \"2017-08-26\", \"2017-08-25\", \"2017-08-24\", \"2017-08-23\", \"2017-08-22\", \"2017-08-21\", \"2017-08-20\", \"2017-08-19\", \"2017-08-18\", \"2017-08-17\", \"2017-08-16\", \"2017-08-15\", \"2017-08-14\", \"2017-08-13\", \"2017-08-12\", \"2017-08-11\", \"2017-08-10\", \"2017-08-09\", \"2017-08-08\", \"2017-08-07\", \"2017-08-06\", \"2017-08-05\", \"2017-08-04\", \"2017-08-03\", \"2017-08-02\"], \"y\": [2753, 1977, 1972, 2626, 3177, 3058, 3134, 3104, 2147, 1920, 2581, 3084, 3201, 3229, 3129, 2089, 1900, 2716, 3201, 3084, 3263, 3141, 2434, 2144, 2653, 2936, 3299, 3405, 3176, 2068, 1843, 2679, 3310, 3724, 4227, 3077, 2146, 2228, 2891, 3570, 4434, 3251, 3603, 2317, 2201, 2993, 3498, 3344, 3484, 3598, 2252, 2285, 2877, 3092, 3227, 3824, 3221, 2386, 2390, 2922, 3195, 3163, 3516, 3989, 2446, 2247, 3055, 3596, 3392, 3501, 2871, 2627, 2371, 2738, 3128, 3272, 3434, 3547, 2708, 2469, 2964, 2953, 3012, 2999, 3041, 2171, 2063, 2697, 3034, 3021, 3062, 3017, 2198, 2073, 2672, 3502, 2987, 2901, 2951, 2012, 2024, 2784, 2842, 3120, 3241, 3070, 2242, 2115, 2756, 2954, 3176, 3223, 2751, 2068, 1931, 2613, 2812, 2747, 2715, 1810, 1495, 1768, 1902, 2255, 2716, 2370, 2085, 1960, 1998, 2422, 2930, 3196, 3407, 3601, 2523, 2597, 3527, 3587, 9131, 9234, 3259, 2487, 2239, 2880, 3624, 3577, 3395, 3328, 2439, 2254, 2918, 3178, 3452, 3934, 4194, 2553, 2269, 2901, 2964, 3033, 2905, 3318, 2311, 2123, 3230, 3530, 3581, 3573, 3383, 2784, 2471, 3186, 3628, 4136, 3846, 3542, 2642, 2330, 2937, 2880, 2875, 2774, 3144, 2217, 2293, 3134, 3547, 3290, 3318, 3427, 2662, 2251, 2976, 3205, 3493, 4258, 2989, 2121, 2395, 2699, 3002, 3368, 3961, 3976, 3329, 3539, 4033, 4679, 5122, 3621, 3470, 2993, 2634, 2989, 3396, 3303, 3655, 2987, 2556, 2200, 3313, 4715, 4880, 3526, 3626, 2856, 2821, 2691, 2850, 2790, 2784, 2831, 1992, 2026, 2564, 2793, 2831, 2852, 2313, 2064, 1966, 2471, 2955, 3121, 3263, 2748, 2162, 2177, 2422, 3716, 3267, 3143, 2860, 1985, 2018, 2861, 3203, 2862, 3109, 3487, 1996, 2012, 2769, 2852, 2855, 3059, 2846, 2340, 1796, 2843, 2691, 2828], \"showlegend\": false, \"marker\": {\"color\": \"red\"}}], {\"height\": 400, \"width\": 800, \"title\": \"Dates in Test set\"}, {\"showLink\": true, \"linkText\": \"Export to plot.ly\"})});</script>"
          },
          "metadata": {}
        }
      ]
    },
    {
      "metadata": {
        "_uuid": "78b7c1802a9d7daa5772357e2ab25a6b8349833d"
      },
      "cell_type": "markdown",
      "source": "\nIn the test set, we have dates from 2 Aug, 2017 to 30 Apr, 2018. \n# So there are no common dates between train and test set. So it might be a good idea to do time based validation for this dataset."
    },
    {
      "metadata": {
        "_uuid": "0c78cbd3a0b6ca47dbbb6262579371dc57850f41"
      },
      "cell_type": "markdown",
      "source": "### Explore geographic variables:"
    },
    {
      "metadata": {
        "trusted": true,
        "_uuid": "7e2b46a17fc64924da7d2d0119fa329b249115a7",
        "collapsed": true
      },
      "cell_type": "code",
      "source": "# Continent\ntemp = train.groupby('geoNetwork.continent')['totals.transactionRevenue'].agg(['size', 'count'])\ntemp.columns = [\"count\", \"count of non-zero revenue\"]\ntemp = temp.sort_values(by=\"count\", ascending=False)\ntrace1 = horizontal_bar_chart(temp[\"count\"].head(10), 'rgba(58, 71, 80, 0.6)')\ntrace2 = horizontal_bar_chart(temp[\"count of non-zero revenue\"].head(10), 'rgba(58, 71, 80, 0.6)')",
      "execution_count": 23,
      "outputs": []
    },
    {
      "metadata": {
        "trusted": true,
        "_uuid": "a05a252387dd7a55945bee8b21accae193777104"
      },
      "cell_type": "code",
      "source": "temp",
      "execution_count": 24,
      "outputs": [
        {
          "output_type": "execute_result",
          "execution_count": 24,
          "data": {
            "text/plain": "                       count  count of non-zero revenue\ngeoNetwork.continent                                   \nAmericas              450377                      11283\nAsia                  223698                        125\nEurope                198311                         79\nOceania                15054                         14\nAfrica                 14745                          8\n(not set)               1468                          6",
            "text/html": "<div>\n<style scoped>\n    .dataframe tbody tr th:only-of-type {\n        vertical-align: middle;\n    }\n\n    .dataframe tbody tr th {\n        vertical-align: top;\n    }\n\n    .dataframe thead th {\n        text-align: right;\n    }\n</style>\n<table border=\"1\" class=\"dataframe\">\n  <thead>\n    <tr style=\"text-align: right;\">\n      <th></th>\n      <th>count</th>\n      <th>count of non-zero revenue</th>\n    </tr>\n    <tr>\n      <th>geoNetwork.continent</th>\n      <th></th>\n      <th></th>\n    </tr>\n  </thead>\n  <tbody>\n    <tr>\n      <th>Americas</th>\n      <td>450377</td>\n      <td>11283</td>\n    </tr>\n    <tr>\n      <th>Asia</th>\n      <td>223698</td>\n      <td>125</td>\n    </tr>\n    <tr>\n      <th>Europe</th>\n      <td>198311</td>\n      <td>79</td>\n    </tr>\n    <tr>\n      <th>Oceania</th>\n      <td>15054</td>\n      <td>14</td>\n    </tr>\n    <tr>\n      <th>Africa</th>\n      <td>14745</td>\n      <td>8</td>\n    </tr>\n    <tr>\n      <th>(not set)</th>\n      <td>1468</td>\n      <td>6</td>\n    </tr>\n  </tbody>\n</table>\n</div>"
          },
          "metadata": {}
        }
      ]
    },
    {
      "metadata": {
        "trusted": true,
        "scrolled": false,
        "_uuid": "c7f5d9393c12be1456de71ec33ff439f821fe64a"
      },
      "cell_type": "code",
      "source": "# Sub-continent\ntemp = train.groupby('geoNetwork.subContinent')['totals.transactionRevenue'].agg(['size', 'count'])\ntemp.columns = [\"count\", \"count of non-zero revenue\"]\ntemp = temp.sort_values(by=\"count\", ascending=False)\ntrace3 = horizontal_bar_chart(temp[\"count\"], 'orange')\ntrace4 = horizontal_bar_chart(temp[\"count of non-zero revenue\"], 'orange')\n\n# Network domain\ntemp = train.groupby('geoNetwork.networkDomain')['totals.transactionRevenue'].agg(['size', 'count'])\ntemp.columns = [\"count\", \"count of non-zero revenue\"]\ntemp = temp.sort_values(by=\"count\", ascending=False)\ntrace5 = horizontal_bar_chart(temp[\"count\"].head(10), 'blue')\ntrace6 = horizontal_bar_chart(temp[\"count of non-zero revenue\"].head(10), 'blue')\n\n# Creating two subplots\nfig = tools.make_subplots(rows=3, cols=2, vertical_spacing=0.08, horizontal_spacing=0.15, \n                          subplot_titles=[\"Continent - Count\", \"Continent - Non-zero Revenue Count\",\n                                          \"Sub Continent - Count\",  \"Sub Continent - Non-zero Revenue Count\",\n                                          \"Network Domain - Count\", \"Network Domain - Non-zero Revenue Count\"])\n\nfig.append_trace(trace1, 1, 1)\nfig.append_trace(trace2, 1, 2)\nfig.append_trace(trace3, 2, 1)\nfig.append_trace(trace4, 2, 2)\nfig.append_trace(trace5, 3, 1)\nfig.append_trace(trace6, 3, 2)\n\nfig['layout'].update(height=1200, width=800, \n                     #paper_bgcolor='rgb(233,233,233)', \n                     title=\"Geography Plots\")\npy.iplot(fig, filename='geo-plots')",
      "execution_count": 25,
      "outputs": [
        {
          "output_type": "stream",
          "text": "This is the format of your plot grid:\n[ (1,1) x1,y1 ]  [ (1,2) x2,y2 ]\n[ (2,1) x3,y3 ]  [ (2,2) x4,y4 ]\n[ (3,1) x5,y5 ]  [ (3,2) x6,y6 ]\n\n",
          "name": "stdout"
        },
        {
          "output_type": "display_data",
          "data": {
            "application/vnd.plotly.v1+json": {
              "data": [
                {
                  "type": "bar",
                  "y": [
                    "(not set)",
                    "Africa",
                    "Oceania",
                    "Europe",
                    "Asia",
                    "Americas"
                  ],
                  "x": [
                    1468,
                    14745,
                    15054,
                    198311,
                    223698,
                    450377
                  ],
                  "showlegend": false,
                  "orientation": "h",
                  "marker": {
                    "color": "rgba(58, 71, 80, 0.6)"
                  },
                  "xaxis": "x1",
                  "yaxis": "y1"
                },
                {
                  "type": "bar",
                  "y": [
                    "(not set)",
                    "Africa",
                    "Oceania",
                    "Europe",
                    "Asia",
                    "Americas"
                  ],
                  "x": [
                    6,
                    8,
                    14,
                    79,
                    125,
                    11283
                  ],
                  "showlegend": false,
                  "orientation": "h",
                  "marker": {
                    "color": "rgba(58, 71, 80, 0.6)"
                  },
                  "xaxis": "x2",
                  "yaxis": "y2"
                },
                {
                  "type": "bar",
                  "y": [
                    "Polynesia",
                    "Micronesian Region",
                    "Melanesia",
                    "Middle Africa",
                    "Central Asia",
                    "(not set)",
                    "Eastern Africa",
                    "Southern Africa",
                    "Caribbean",
                    "Western Africa",
                    "Northern Africa",
                    "Australasia",
                    "Central America",
                    "Southern Europe",
                    "Western Asia",
                    "South America",
                    "Eastern Europe",
                    "Eastern Asia",
                    "Northern Europe",
                    "Western Europe",
                    "Southern Asia",
                    "Southeast Asia",
                    "Northern America"
                  ],
                  "x": [
                    25,
                    55,
                    81,
                    393,
                    1215,
                    1468,
                    1927,
                    2169,
                    2406,
                    2573,
                    7683,
                    14893,
                    15583,
                    35780,
                    38443,
                    41731,
                    45249,
                    46919,
                    58168,
                    59114,
                    59321,
                    77800,
                    390657
                  ],
                  "showlegend": false,
                  "orientation": "h",
                  "marker": {
                    "color": "orange"
                  },
                  "xaxis": "x3",
                  "yaxis": "y3"
                },
                {
                  "type": "bar",
                  "y": [
                    "Polynesia",
                    "Micronesian Region",
                    "Melanesia",
                    "Middle Africa",
                    "Central Asia",
                    "(not set)",
                    "Eastern Africa",
                    "Southern Africa",
                    "Caribbean",
                    "Western Africa",
                    "Northern Africa",
                    "Australasia",
                    "Central America",
                    "Southern Europe",
                    "Western Asia",
                    "South America",
                    "Eastern Europe",
                    "Eastern Asia",
                    "Northern Europe",
                    "Western Europe",
                    "Southern Asia",
                    "Southeast Asia",
                    "Northern America"
                  ],
                  "x": [
                    0,
                    0,
                    0,
                    0,
                    2,
                    6,
                    3,
                    2,
                    16,
                    2,
                    1,
                    14,
                    26,
                    8,
                    21,
                    98,
                    14,
                    59,
                    27,
                    30,
                    11,
                    32,
                    11143
                  ],
                  "showlegend": false,
                  "orientation": "h",
                  "marker": {
                    "color": "orange"
                  },
                  "xaxis": "x4",
                  "yaxis": "y4"
                },
                {
                  "type": "bar",
                  "y": [
                    "3bb.co.th",
                    "virginm.net",
                    "hinet.net",
                    "comcastbusiness.net",
                    "ttnet.com.tr",
                    "verizon.net",
                    "rr.com",
                    "comcast.net",
                    "unknown.unknown",
                    "(not set)"
                  ],
                  "x": [
                    6046,
                    6414,
                    7919,
                    9985,
                    13228,
                    13637,
                    14827,
                    28743,
                    146034,
                    244881
                  ],
                  "showlegend": false,
                  "orientation": "h",
                  "marker": {
                    "color": "blue"
                  },
                  "xaxis": "x5",
                  "yaxis": "y5"
                },
                {
                  "type": "bar",
                  "y": [
                    "3bb.co.th",
                    "virginm.net",
                    "hinet.net",
                    "comcastbusiness.net",
                    "ttnet.com.tr",
                    "verizon.net",
                    "rr.com",
                    "comcast.net",
                    "unknown.unknown",
                    "(not set)"
                  ],
                  "x": [
                    1,
                    1,
                    11,
                    294,
                    1,
                    469,
                    364,
                    934,
                    400,
                    6645
                  ],
                  "showlegend": false,
                  "orientation": "h",
                  "marker": {
                    "color": "blue"
                  },
                  "xaxis": "x6",
                  "yaxis": "y6"
                }
              ],
              "layout": {
                "xaxis1": {
                  "domain": [
                    0,
                    0.425
                  ],
                  "anchor": "y1"
                },
                "yaxis1": {
                  "domain": [
                    0.72,
                    1
                  ],
                  "anchor": "x1"
                },
                "xaxis2": {
                  "domain": [
                    0.575,
                    1
                  ],
                  "anchor": "y2"
                },
                "yaxis2": {
                  "domain": [
                    0.72,
                    1
                  ],
                  "anchor": "x2"
                },
                "xaxis3": {
                  "domain": [
                    0,
                    0.425
                  ],
                  "anchor": "y3"
                },
                "yaxis3": {
                  "domain": [
                    0.36,
                    0.6399999999999999
                  ],
                  "anchor": "x3"
                },
                "xaxis4": {
                  "domain": [
                    0.575,
                    1
                  ],
                  "anchor": "y4"
                },
                "yaxis4": {
                  "domain": [
                    0.36,
                    0.6399999999999999
                  ],
                  "anchor": "x4"
                },
                "xaxis5": {
                  "domain": [
                    0,
                    0.425
                  ],
                  "anchor": "y5"
                },
                "yaxis5": {
                  "domain": [
                    0,
                    0.27999999999999997
                  ],
                  "anchor": "x5"
                },
                "xaxis6": {
                  "domain": [
                    0.575,
                    1
                  ],
                  "anchor": "y6"
                },
                "yaxis6": {
                  "domain": [
                    0,
                    0.27999999999999997
                  ],
                  "anchor": "x6"
                },
                "annotations": [
                  {
                    "y": 1,
                    "xref": "paper",
                    "x": 0.2125,
                    "yref": "paper",
                    "text": "Continent - Count",
                    "showarrow": false,
                    "font": {
                      "size": 16
                    },
                    "xanchor": "center",
                    "yanchor": "bottom"
                  },
                  {
                    "y": 1,
                    "xref": "paper",
                    "x": 0.7875,
                    "yref": "paper",
                    "text": "Continent - Non-zero Revenue Count",
                    "showarrow": false,
                    "font": {
                      "size": 16
                    },
                    "xanchor": "center",
                    "yanchor": "bottom"
                  },
                  {
                    "y": 0.6399999999999999,
                    "xref": "paper",
                    "x": 0.2125,
                    "yref": "paper",
                    "text": "Sub Continent - Count",
                    "showarrow": false,
                    "font": {
                      "size": 16
                    },
                    "xanchor": "center",
                    "yanchor": "bottom"
                  },
                  {
                    "y": 0.6399999999999999,
                    "xref": "paper",
                    "x": 0.7875,
                    "yref": "paper",
                    "text": "Sub Continent - Non-zero Revenue Count",
                    "showarrow": false,
                    "font": {
                      "size": 16
                    },
                    "xanchor": "center",
                    "yanchor": "bottom"
                  },
                  {
                    "y": 0.27999999999999997,
                    "xref": "paper",
                    "x": 0.2125,
                    "yref": "paper",
                    "text": "Network Domain - Count",
                    "showarrow": false,
                    "font": {
                      "size": 16
                    },
                    "xanchor": "center",
                    "yanchor": "bottom"
                  },
                  {
                    "y": 0.27999999999999997,
                    "xref": "paper",
                    "x": 0.7875,
                    "yref": "paper",
                    "text": "Network Domain - Non-zero Revenue Count",
                    "showarrow": false,
                    "font": {
                      "size": 16
                    },
                    "xanchor": "center",
                    "yanchor": "bottom"
                  }
                ],
                "height": 1200,
                "width": 800,
                "title": "Geography Plots"
              }
            },
            "text/html": "<div id=\"fb9afe8f-e2e2-4a4f-8ac3-53fa1126bd58\" style=\"height: 1200px; width: 800px;\" class=\"plotly-graph-div\"></div><script type=\"text/javascript\">require([\"plotly\"], function(Plotly) { window.PLOTLYENV=window.PLOTLYENV || {};window.PLOTLYENV.BASE_URL=\"https://plot.ly\";Plotly.newPlot(\"fb9afe8f-e2e2-4a4f-8ac3-53fa1126bd58\", [{\"type\": \"bar\", \"y\": [\"(not set)\", \"Africa\", \"Oceania\", \"Europe\", \"Asia\", \"Americas\"], \"x\": [1468, 14745, 15054, 198311, 223698, 450377], \"showlegend\": false, \"orientation\": \"h\", \"marker\": {\"color\": \"rgba(58, 71, 80, 0.6)\"}, \"xaxis\": \"x1\", \"yaxis\": \"y1\"}, {\"type\": \"bar\", \"y\": [\"(not set)\", \"Africa\", \"Oceania\", \"Europe\", \"Asia\", \"Americas\"], \"x\": [6, 8, 14, 79, 125, 11283], \"showlegend\": false, \"orientation\": \"h\", \"marker\": {\"color\": \"rgba(58, 71, 80, 0.6)\"}, \"xaxis\": \"x2\", \"yaxis\": \"y2\"}, {\"type\": \"bar\", \"y\": [\"Polynesia\", \"Micronesian Region\", \"Melanesia\", \"Middle Africa\", \"Central Asia\", \"(not set)\", \"Eastern Africa\", \"Southern Africa\", \"Caribbean\", \"Western Africa\", \"Northern Africa\", \"Australasia\", \"Central America\", \"Southern Europe\", \"Western Asia\", \"South America\", \"Eastern Europe\", \"Eastern Asia\", \"Northern Europe\", \"Western Europe\", \"Southern Asia\", \"Southeast Asia\", \"Northern America\"], \"x\": [25, 55, 81, 393, 1215, 1468, 1927, 2169, 2406, 2573, 7683, 14893, 15583, 35780, 38443, 41731, 45249, 46919, 58168, 59114, 59321, 77800, 390657], \"showlegend\": false, \"orientation\": \"h\", \"marker\": {\"color\": \"orange\"}, \"xaxis\": \"x3\", \"yaxis\": \"y3\"}, {\"type\": \"bar\", \"y\": [\"Polynesia\", \"Micronesian Region\", \"Melanesia\", \"Middle Africa\", \"Central Asia\", \"(not set)\", \"Eastern Africa\", \"Southern Africa\", \"Caribbean\", \"Western Africa\", \"Northern Africa\", \"Australasia\", \"Central America\", \"Southern Europe\", \"Western Asia\", \"South America\", \"Eastern Europe\", \"Eastern Asia\", \"Northern Europe\", \"Western Europe\", \"Southern Asia\", \"Southeast Asia\", \"Northern America\"], \"x\": [0, 0, 0, 0, 2, 6, 3, 2, 16, 2, 1, 14, 26, 8, 21, 98, 14, 59, 27, 30, 11, 32, 11143], \"showlegend\": false, \"orientation\": \"h\", \"marker\": {\"color\": \"orange\"}, \"xaxis\": \"x4\", \"yaxis\": \"y4\"}, {\"type\": \"bar\", \"y\": [\"3bb.co.th\", \"virginm.net\", \"hinet.net\", \"comcastbusiness.net\", \"ttnet.com.tr\", \"verizon.net\", \"rr.com\", \"comcast.net\", \"unknown.unknown\", \"(not set)\"], \"x\": [6046, 6414, 7919, 9985, 13228, 13637, 14827, 28743, 146034, 244881], \"showlegend\": false, \"orientation\": \"h\", \"marker\": {\"color\": \"blue\"}, \"xaxis\": \"x5\", \"yaxis\": \"y5\"}, {\"type\": \"bar\", \"y\": [\"3bb.co.th\", \"virginm.net\", \"hinet.net\", \"comcastbusiness.net\", \"ttnet.com.tr\", \"verizon.net\", \"rr.com\", \"comcast.net\", \"unknown.unknown\", \"(not set)\"], \"x\": [1, 1, 11, 294, 1, 469, 364, 934, 400, 6645], \"showlegend\": false, \"orientation\": \"h\", \"marker\": {\"color\": \"blue\"}, \"xaxis\": \"x6\", \"yaxis\": \"y6\"}], {\"xaxis1\": {\"domain\": [0.0, 0.425], \"anchor\": \"y1\"}, \"yaxis1\": {\"domain\": [0.72, 1.0], \"anchor\": \"x1\"}, \"xaxis2\": {\"domain\": [0.575, 1.0], \"anchor\": \"y2\"}, \"yaxis2\": {\"domain\": [0.72, 1.0], \"anchor\": \"x2\"}, \"xaxis3\": {\"domain\": [0.0, 0.425], \"anchor\": \"y3\"}, \"yaxis3\": {\"domain\": [0.36, 0.6399999999999999], \"anchor\": \"x3\"}, \"xaxis4\": {\"domain\": [0.575, 1.0], \"anchor\": \"y4\"}, \"yaxis4\": {\"domain\": [0.36, 0.6399999999999999], \"anchor\": \"x4\"}, \"xaxis5\": {\"domain\": [0.0, 0.425], \"anchor\": \"y5\"}, \"yaxis5\": {\"domain\": [0.0, 0.27999999999999997], \"anchor\": \"x5\"}, \"xaxis6\": {\"domain\": [0.575, 1.0], \"anchor\": \"y6\"}, \"yaxis6\": {\"domain\": [0.0, 0.27999999999999997], \"anchor\": \"x6\"}, \"annotations\": [{\"y\": 1.0, \"xref\": \"paper\", \"x\": 0.2125, \"yref\": \"paper\", \"text\": \"Continent - Count\", \"showarrow\": false, \"font\": {\"size\": 16}, \"xanchor\": \"center\", \"yanchor\": \"bottom\"}, {\"y\": 1.0, \"xref\": \"paper\", \"x\": 0.7875, \"yref\": \"paper\", \"text\": \"Continent - Non-zero Revenue Count\", \"showarrow\": false, \"font\": {\"size\": 16}, \"xanchor\": \"center\", \"yanchor\": \"bottom\"}, {\"y\": 0.6399999999999999, \"xref\": \"paper\", \"x\": 0.2125, \"yref\": \"paper\", \"text\": \"Sub Continent - Count\", \"showarrow\": false, \"font\": {\"size\": 16}, \"xanchor\": \"center\", \"yanchor\": \"bottom\"}, {\"y\": 0.6399999999999999, \"xref\": \"paper\", \"x\": 0.7875, \"yref\": \"paper\", \"text\": \"Sub Continent - Non-zero Revenue Count\", \"showarrow\": false, \"font\": {\"size\": 16}, \"xanchor\": \"center\", \"yanchor\": \"bottom\"}, {\"y\": 0.27999999999999997, \"xref\": \"paper\", \"x\": 0.2125, \"yref\": \"paper\", \"text\": \"Network Domain - Count\", \"showarrow\": false, \"font\": {\"size\": 16}, \"xanchor\": \"center\", \"yanchor\": \"bottom\"}, {\"y\": 0.27999999999999997, \"xref\": \"paper\", \"x\": 0.7875, \"yref\": \"paper\", \"text\": \"Network Domain - Non-zero Revenue Count\", \"showarrow\": false, \"font\": {\"size\": 16}, \"xanchor\": \"center\", \"yanchor\": \"bottom\"}], \"height\": 1200, \"width\": 800, \"title\": \"Geography Plots\"}, {\"showLink\": true, \"linkText\": \"Export to plot.ly\"})});</script>",
            "text/vnd.plotly.v1+html": "<div id=\"fb9afe8f-e2e2-4a4f-8ac3-53fa1126bd58\" style=\"height: 1200px; width: 800px;\" class=\"plotly-graph-div\"></div><script type=\"text/javascript\">require([\"plotly\"], function(Plotly) { window.PLOTLYENV=window.PLOTLYENV || {};window.PLOTLYENV.BASE_URL=\"https://plot.ly\";Plotly.newPlot(\"fb9afe8f-e2e2-4a4f-8ac3-53fa1126bd58\", [{\"type\": \"bar\", \"y\": [\"(not set)\", \"Africa\", \"Oceania\", \"Europe\", \"Asia\", \"Americas\"], \"x\": [1468, 14745, 15054, 198311, 223698, 450377], \"showlegend\": false, \"orientation\": \"h\", \"marker\": {\"color\": \"rgba(58, 71, 80, 0.6)\"}, \"xaxis\": \"x1\", \"yaxis\": \"y1\"}, {\"type\": \"bar\", \"y\": [\"(not set)\", \"Africa\", \"Oceania\", \"Europe\", \"Asia\", \"Americas\"], \"x\": [6, 8, 14, 79, 125, 11283], \"showlegend\": false, \"orientation\": \"h\", \"marker\": {\"color\": \"rgba(58, 71, 80, 0.6)\"}, \"xaxis\": \"x2\", \"yaxis\": \"y2\"}, {\"type\": \"bar\", \"y\": [\"Polynesia\", \"Micronesian Region\", \"Melanesia\", \"Middle Africa\", \"Central Asia\", \"(not set)\", \"Eastern Africa\", \"Southern Africa\", \"Caribbean\", \"Western Africa\", \"Northern Africa\", \"Australasia\", \"Central America\", \"Southern Europe\", \"Western Asia\", \"South America\", \"Eastern Europe\", \"Eastern Asia\", \"Northern Europe\", \"Western Europe\", \"Southern Asia\", \"Southeast Asia\", \"Northern America\"], \"x\": [25, 55, 81, 393, 1215, 1468, 1927, 2169, 2406, 2573, 7683, 14893, 15583, 35780, 38443, 41731, 45249, 46919, 58168, 59114, 59321, 77800, 390657], \"showlegend\": false, \"orientation\": \"h\", \"marker\": {\"color\": \"orange\"}, \"xaxis\": \"x3\", \"yaxis\": \"y3\"}, {\"type\": \"bar\", \"y\": [\"Polynesia\", \"Micronesian Region\", \"Melanesia\", \"Middle Africa\", \"Central Asia\", \"(not set)\", \"Eastern Africa\", \"Southern Africa\", \"Caribbean\", \"Western Africa\", \"Northern Africa\", \"Australasia\", \"Central America\", \"Southern Europe\", \"Western Asia\", \"South America\", \"Eastern Europe\", \"Eastern Asia\", \"Northern Europe\", \"Western Europe\", \"Southern Asia\", \"Southeast Asia\", \"Northern America\"], \"x\": [0, 0, 0, 0, 2, 6, 3, 2, 16, 2, 1, 14, 26, 8, 21, 98, 14, 59, 27, 30, 11, 32, 11143], \"showlegend\": false, \"orientation\": \"h\", \"marker\": {\"color\": \"orange\"}, \"xaxis\": \"x4\", \"yaxis\": \"y4\"}, {\"type\": \"bar\", \"y\": [\"3bb.co.th\", \"virginm.net\", \"hinet.net\", \"comcastbusiness.net\", \"ttnet.com.tr\", \"verizon.net\", \"rr.com\", \"comcast.net\", \"unknown.unknown\", \"(not set)\"], \"x\": [6046, 6414, 7919, 9985, 13228, 13637, 14827, 28743, 146034, 244881], \"showlegend\": false, \"orientation\": \"h\", \"marker\": {\"color\": \"blue\"}, \"xaxis\": \"x5\", \"yaxis\": \"y5\"}, {\"type\": \"bar\", \"y\": [\"3bb.co.th\", \"virginm.net\", \"hinet.net\", \"comcastbusiness.net\", \"ttnet.com.tr\", \"verizon.net\", \"rr.com\", \"comcast.net\", \"unknown.unknown\", \"(not set)\"], \"x\": [1, 1, 11, 294, 1, 469, 364, 934, 400, 6645], \"showlegend\": false, \"orientation\": \"h\", \"marker\": {\"color\": \"blue\"}, \"xaxis\": \"x6\", \"yaxis\": \"y6\"}], {\"xaxis1\": {\"domain\": [0.0, 0.425], \"anchor\": \"y1\"}, \"yaxis1\": {\"domain\": [0.72, 1.0], \"anchor\": \"x1\"}, \"xaxis2\": {\"domain\": [0.575, 1.0], \"anchor\": \"y2\"}, \"yaxis2\": {\"domain\": [0.72, 1.0], \"anchor\": \"x2\"}, \"xaxis3\": {\"domain\": [0.0, 0.425], \"anchor\": \"y3\"}, \"yaxis3\": {\"domain\": [0.36, 0.6399999999999999], \"anchor\": \"x3\"}, \"xaxis4\": {\"domain\": [0.575, 1.0], \"anchor\": \"y4\"}, \"yaxis4\": {\"domain\": [0.36, 0.6399999999999999], \"anchor\": \"x4\"}, \"xaxis5\": {\"domain\": [0.0, 0.425], \"anchor\": \"y5\"}, \"yaxis5\": {\"domain\": [0.0, 0.27999999999999997], \"anchor\": \"x5\"}, \"xaxis6\": {\"domain\": [0.575, 1.0], \"anchor\": \"y6\"}, \"yaxis6\": {\"domain\": [0.0, 0.27999999999999997], \"anchor\": \"x6\"}, \"annotations\": [{\"y\": 1.0, \"xref\": \"paper\", \"x\": 0.2125, \"yref\": \"paper\", \"text\": \"Continent - Count\", \"showarrow\": false, \"font\": {\"size\": 16}, \"xanchor\": \"center\", \"yanchor\": \"bottom\"}, {\"y\": 1.0, \"xref\": \"paper\", \"x\": 0.7875, \"yref\": \"paper\", \"text\": \"Continent - Non-zero Revenue Count\", \"showarrow\": false, \"font\": {\"size\": 16}, \"xanchor\": \"center\", \"yanchor\": \"bottom\"}, {\"y\": 0.6399999999999999, \"xref\": \"paper\", \"x\": 0.2125, \"yref\": \"paper\", \"text\": \"Sub Continent - Count\", \"showarrow\": false, \"font\": {\"size\": 16}, \"xanchor\": \"center\", \"yanchor\": \"bottom\"}, {\"y\": 0.6399999999999999, \"xref\": \"paper\", \"x\": 0.7875, \"yref\": \"paper\", \"text\": \"Sub Continent - Non-zero Revenue Count\", \"showarrow\": false, \"font\": {\"size\": 16}, \"xanchor\": \"center\", \"yanchor\": \"bottom\"}, {\"y\": 0.27999999999999997, \"xref\": \"paper\", \"x\": 0.2125, \"yref\": \"paper\", \"text\": \"Network Domain - Count\", \"showarrow\": false, \"font\": {\"size\": 16}, \"xanchor\": \"center\", \"yanchor\": \"bottom\"}, {\"y\": 0.27999999999999997, \"xref\": \"paper\", \"x\": 0.7875, \"yref\": \"paper\", \"text\": \"Network Domain - Non-zero Revenue Count\", \"showarrow\": false, \"font\": {\"size\": 16}, \"xanchor\": \"center\", \"yanchor\": \"bottom\"}], \"height\": 1200, \"width\": 800, \"title\": \"Geography Plots\"}, {\"showLink\": true, \"linkText\": \"Export to plot.ly\"})});</script>"
          },
          "metadata": {}
        }
      ]
    },
    {
      "metadata": {
        "trusted": true,
        "_uuid": "cdc88d52d73e4b0c0e42c69f202d0dceab25d483"
      },
      "cell_type": "code",
      "source": "train.head()",
      "execution_count": 26,
      "outputs": [
        {
          "output_type": "execute_result",
          "execution_count": 26,
          "data": {
            "text/plain": "  channelGrouping        date        fullVisitorId  \\\n0  Organic Search  2016-09-02  1131660440785968503   \n1  Organic Search  2016-09-02   377306020877927890   \n2  Organic Search  2016-09-02  3895546263509774583   \n3  Organic Search  2016-09-02  4763447161404445595   \n4  Organic Search  2016-09-02    27294437909732085   \n\n                        sessionId  socialEngagementType     visitId  \\\n0  1131660440785968503_1472830385  Not Socially Engaged  1472830385   \n1   377306020877927890_1472880147  Not Socially Engaged  1472880147   \n2  3895546263509774583_1472865386  Not Socially Engaged  1472865386   \n3  4763447161404445595_1472881213  Not Socially Engaged  1472881213   \n4    27294437909732085_1472822600  Not Socially Engaged  1472822600   \n\n   visitNumber  visitStartTime device.browser             device.browserSize  \\\n0            1      1472830385         Chrome  not available in demo dataset   \n1            1      1472880147        Firefox  not available in demo dataset   \n2            1      1472865386         Chrome  not available in demo dataset   \n3            1      1472881213     UC Browser  not available in demo dataset   \n4            2      1472822600         Chrome  not available in demo dataset   \n\n           device.browserVersion device.deviceCategory  \\\n0  not available in demo dataset               desktop   \n1  not available in demo dataset               desktop   \n2  not available in demo dataset               desktop   \n3  not available in demo dataset               desktop   \n4  not available in demo dataset                mobile   \n\n             device.flashVersion  device.isMobile  \\\n0  not available in demo dataset            False   \n1  not available in demo dataset            False   \n2  not available in demo dataset            False   \n3  not available in demo dataset            False   \n4  not available in demo dataset             True   \n\n                 device.language    device.mobileDeviceBranding  \\\n0  not available in demo dataset  not available in demo dataset   \n1  not available in demo dataset  not available in demo dataset   \n2  not available in demo dataset  not available in demo dataset   \n3  not available in demo dataset  not available in demo dataset   \n4  not available in demo dataset  not available in demo dataset   \n\n         device.mobileDeviceInfo device.mobileDeviceMarketingName  \\\n0  not available in demo dataset    not available in demo dataset   \n1  not available in demo dataset    not available in demo dataset   \n2  not available in demo dataset    not available in demo dataset   \n3  not available in demo dataset    not available in demo dataset   \n4  not available in demo dataset    not available in demo dataset   \n\n        device.mobileDeviceModel     device.mobileInputSelector  \\\n0  not available in demo dataset  not available in demo dataset   \n1  not available in demo dataset  not available in demo dataset   \n2  not available in demo dataset  not available in demo dataset   \n3  not available in demo dataset  not available in demo dataset   \n4  not available in demo dataset  not available in demo dataset   \n\n  device.operatingSystem  device.operatingSystemVersion  \\\n0                Windows  not available in demo dataset   \n1              Macintosh  not available in demo dataset   \n2                Windows  not available in demo dataset   \n3                  Linux  not available in demo dataset   \n4                Android  not available in demo dataset   \n\n             device.screenColors        device.screenResolution  \\\n0  not available in demo dataset  not available in demo dataset   \n1  not available in demo dataset  not available in demo dataset   \n2  not available in demo dataset  not available in demo dataset   \n3  not available in demo dataset  not available in demo dataset   \n4  not available in demo dataset  not available in demo dataset   \n\n                 geoNetwork.city              geoNetwork.cityId  \\\n0                          Izmir  not available in demo dataset   \n1  not available in demo dataset  not available in demo dataset   \n2                         Madrid  not available in demo dataset   \n3  not available in demo dataset  not available in demo dataset   \n4  not available in demo dataset  not available in demo dataset   \n\n  geoNetwork.continent geoNetwork.country            geoNetwork.latitude  \\\n0                 Asia             Turkey  not available in demo dataset   \n1              Oceania          Australia  not available in demo dataset   \n2               Europe              Spain  not available in demo dataset   \n3                 Asia          Indonesia  not available in demo dataset   \n4               Europe     United Kingdom  not available in demo dataset   \n\n            geoNetwork.longitude               geoNetwork.metro  \\\n0  not available in demo dataset                      (not set)   \n1  not available in demo dataset  not available in demo dataset   \n2  not available in demo dataset                      (not set)   \n3  not available in demo dataset  not available in demo dataset   \n4  not available in demo dataset  not available in demo dataset   \n\n  geoNetwork.networkDomain     geoNetwork.networkLocation  \\\n0             ttnet.com.tr  not available in demo dataset   \n1              dodo.net.au  not available in demo dataset   \n2          unknown.unknown  not available in demo dataset   \n3          unknown.unknown  not available in demo dataset   \n4          unknown.unknown  not available in demo dataset   \n\n               geoNetwork.region geoNetwork.subContinent  totals.bounces  \\\n0                          Izmir            Western Asia             1.0   \n1  not available in demo dataset             Australasia             1.0   \n2            Community of Madrid         Southern Europe             1.0   \n3  not available in demo dataset          Southeast Asia             1.0   \n4  not available in demo dataset         Northern Europe             1.0   \n\n   totals.hits  totals.newVisits  totals.pageviews  totals.transactionRevenue  \\\n0            1               1.0               1.0                        NaN   \n1            1               1.0               1.0                        NaN   \n2            1               1.0               1.0                        NaN   \n3            1               1.0               1.0                        NaN   \n4            1               NaN               1.0                        NaN   \n\n   totals.visits trafficSource.adContent  \\\n0              1                     NaN   \n1              1                     NaN   \n2              1                     NaN   \n3              1                     NaN   \n4              1                     NaN   \n\n  trafficSource.adwordsClickInfo.adNetworkType  \\\n0                                          NaN   \n1                                          NaN   \n2                                          NaN   \n3                                          NaN   \n4                                          NaN   \n\n  trafficSource.adwordsClickInfo.criteriaParameters  \\\n0                     not available in demo dataset   \n1                     not available in demo dataset   \n2                     not available in demo dataset   \n3                     not available in demo dataset   \n4                     not available in demo dataset   \n\n  trafficSource.adwordsClickInfo.gclId  \\\n0                                  NaN   \n1                                  NaN   \n2                                  NaN   \n3                                  NaN   \n4                                  NaN   \n\n  trafficSource.adwordsClickInfo.isVideoAd  \\\n0                                      NaN   \n1                                      NaN   \n2                                      NaN   \n3                                      NaN   \n4                                      NaN   \n\n   trafficSource.adwordsClickInfo.page trafficSource.adwordsClickInfo.slot  \\\n0                                  NaN                                 NaN   \n1                                  NaN                                 NaN   \n2                                  NaN                                 NaN   \n3                                  NaN                                 NaN   \n4                                  NaN                                 NaN   \n\n  trafficSource.campaign trafficSource.campaignCode  \\\n0              (not set)                        NaN   \n1              (not set)                        NaN   \n2              (not set)                        NaN   \n3              (not set)                        NaN   \n4              (not set)                        NaN   \n\n  trafficSource.isTrueDirect trafficSource.keyword trafficSource.medium  \\\n0                        NaN        (not provided)              organic   \n1                        NaN        (not provided)              organic   \n2                        NaN        (not provided)              organic   \n3                        NaN       google + online              organic   \n4                       True        (not provided)              organic   \n\n  trafficSource.referralPath trafficSource.source  \n0                        NaN               google  \n1                        NaN               google  \n2                        NaN               google  \n3                        NaN               google  \n4                        NaN               google  ",
            "text/html": "<div>\n<style scoped>\n    .dataframe tbody tr th:only-of-type {\n        vertical-align: middle;\n    }\n\n    .dataframe tbody tr th {\n        vertical-align: top;\n    }\n\n    .dataframe thead th {\n        text-align: right;\n    }\n</style>\n<table border=\"1\" class=\"dataframe\">\n  <thead>\n    <tr style=\"text-align: right;\">\n      <th></th>\n      <th>channelGrouping</th>\n      <th>date</th>\n      <th>fullVisitorId</th>\n      <th>sessionId</th>\n      <th>socialEngagementType</th>\n      <th>visitId</th>\n      <th>visitNumber</th>\n      <th>visitStartTime</th>\n      <th>device.browser</th>\n      <th>device.browserSize</th>\n      <th>device.browserVersion</th>\n      <th>device.deviceCategory</th>\n      <th>device.flashVersion</th>\n      <th>device.isMobile</th>\n      <th>device.language</th>\n      <th>device.mobileDeviceBranding</th>\n      <th>device.mobileDeviceInfo</th>\n      <th>device.mobileDeviceMarketingName</th>\n      <th>device.mobileDeviceModel</th>\n      <th>device.mobileInputSelector</th>\n      <th>device.operatingSystem</th>\n      <th>device.operatingSystemVersion</th>\n      <th>device.screenColors</th>\n      <th>device.screenResolution</th>\n      <th>geoNetwork.city</th>\n      <th>geoNetwork.cityId</th>\n      <th>geoNetwork.continent</th>\n      <th>geoNetwork.country</th>\n      <th>geoNetwork.latitude</th>\n      <th>geoNetwork.longitude</th>\n      <th>geoNetwork.metro</th>\n      <th>geoNetwork.networkDomain</th>\n      <th>geoNetwork.networkLocation</th>\n      <th>geoNetwork.region</th>\n      <th>geoNetwork.subContinent</th>\n      <th>totals.bounces</th>\n      <th>totals.hits</th>\n      <th>totals.newVisits</th>\n      <th>totals.pageviews</th>\n      <th>totals.transactionRevenue</th>\n      <th>totals.visits</th>\n      <th>trafficSource.adContent</th>\n      <th>trafficSource.adwordsClickInfo.adNetworkType</th>\n      <th>trafficSource.adwordsClickInfo.criteriaParameters</th>\n      <th>trafficSource.adwordsClickInfo.gclId</th>\n      <th>trafficSource.adwordsClickInfo.isVideoAd</th>\n      <th>trafficSource.adwordsClickInfo.page</th>\n      <th>trafficSource.adwordsClickInfo.slot</th>\n      <th>trafficSource.campaign</th>\n      <th>trafficSource.campaignCode</th>\n      <th>trafficSource.isTrueDirect</th>\n      <th>trafficSource.keyword</th>\n      <th>trafficSource.medium</th>\n      <th>trafficSource.referralPath</th>\n      <th>trafficSource.source</th>\n    </tr>\n  </thead>\n  <tbody>\n    <tr>\n      <th>0</th>\n      <td>Organic Search</td>\n      <td>2016-09-02</td>\n      <td>1131660440785968503</td>\n      <td>1131660440785968503_1472830385</td>\n      <td>Not Socially Engaged</td>\n      <td>1472830385</td>\n      <td>1</td>\n      <td>1472830385</td>\n      <td>Chrome</td>\n      <td>not available in demo dataset</td>\n      <td>not available in demo dataset</td>\n      <td>desktop</td>\n      <td>not available in demo dataset</td>\n      <td>False</td>\n      <td>not available in demo dataset</td>\n      <td>not available in demo dataset</td>\n      <td>not available in demo dataset</td>\n      <td>not available in demo dataset</td>\n      <td>not available in demo dataset</td>\n      <td>not available in demo dataset</td>\n      <td>Windows</td>\n      <td>not available in demo dataset</td>\n      <td>not available in demo dataset</td>\n      <td>not available in demo dataset</td>\n      <td>Izmir</td>\n      <td>not available in demo dataset</td>\n      <td>Asia</td>\n      <td>Turkey</td>\n      <td>not available in demo dataset</td>\n      <td>not available in demo dataset</td>\n      <td>(not set)</td>\n      <td>ttnet.com.tr</td>\n      <td>not available in demo dataset</td>\n      <td>Izmir</td>\n      <td>Western Asia</td>\n      <td>1.0</td>\n      <td>1</td>\n      <td>1.0</td>\n      <td>1.0</td>\n      <td>NaN</td>\n      <td>1</td>\n      <td>NaN</td>\n      <td>NaN</td>\n      <td>not available in demo dataset</td>\n      <td>NaN</td>\n      <td>NaN</td>\n      <td>NaN</td>\n      <td>NaN</td>\n      <td>(not set)</td>\n      <td>NaN</td>\n      <td>NaN</td>\n      <td>(not provided)</td>\n      <td>organic</td>\n      <td>NaN</td>\n      <td>google</td>\n    </tr>\n    <tr>\n      <th>1</th>\n      <td>Organic Search</td>\n      <td>2016-09-02</td>\n      <td>377306020877927890</td>\n      <td>377306020877927890_1472880147</td>\n      <td>Not Socially Engaged</td>\n      <td>1472880147</td>\n      <td>1</td>\n      <td>1472880147</td>\n      <td>Firefox</td>\n      <td>not available in demo dataset</td>\n      <td>not available in demo dataset</td>\n      <td>desktop</td>\n      <td>not available in demo dataset</td>\n      <td>False</td>\n      <td>not available in demo dataset</td>\n      <td>not available in demo dataset</td>\n      <td>not available in demo dataset</td>\n      <td>not available in demo dataset</td>\n      <td>not available in demo dataset</td>\n      <td>not available in demo dataset</td>\n      <td>Macintosh</td>\n      <td>not available in demo dataset</td>\n      <td>not available in demo dataset</td>\n      <td>not available in demo dataset</td>\n      <td>not available in demo dataset</td>\n      <td>not available in demo dataset</td>\n      <td>Oceania</td>\n      <td>Australia</td>\n      <td>not available in demo dataset</td>\n      <td>not available in demo dataset</td>\n      <td>not available in demo dataset</td>\n      <td>dodo.net.au</td>\n      <td>not available in demo dataset</td>\n      <td>not available in demo dataset</td>\n      <td>Australasia</td>\n      <td>1.0</td>\n      <td>1</td>\n      <td>1.0</td>\n      <td>1.0</td>\n      <td>NaN</td>\n      <td>1</td>\n      <td>NaN</td>\n      <td>NaN</td>\n      <td>not available in demo dataset</td>\n      <td>NaN</td>\n      <td>NaN</td>\n      <td>NaN</td>\n      <td>NaN</td>\n      <td>(not set)</td>\n      <td>NaN</td>\n      <td>NaN</td>\n      <td>(not provided)</td>\n      <td>organic</td>\n      <td>NaN</td>\n      <td>google</td>\n    </tr>\n    <tr>\n      <th>2</th>\n      <td>Organic Search</td>\n      <td>2016-09-02</td>\n      <td>3895546263509774583</td>\n      <td>3895546263509774583_1472865386</td>\n      <td>Not Socially Engaged</td>\n      <td>1472865386</td>\n      <td>1</td>\n      <td>1472865386</td>\n      <td>Chrome</td>\n      <td>not available in demo dataset</td>\n      <td>not available in demo dataset</td>\n      <td>desktop</td>\n      <td>not available in demo dataset</td>\n      <td>False</td>\n      <td>not available in demo dataset</td>\n      <td>not available in demo dataset</td>\n      <td>not available in demo dataset</td>\n      <td>not available in demo dataset</td>\n      <td>not available in demo dataset</td>\n      <td>not available in demo dataset</td>\n      <td>Windows</td>\n      <td>not available in demo dataset</td>\n      <td>not available in demo dataset</td>\n      <td>not available in demo dataset</td>\n      <td>Madrid</td>\n      <td>not available in demo dataset</td>\n      <td>Europe</td>\n      <td>Spain</td>\n      <td>not available in demo dataset</td>\n      <td>not available in demo dataset</td>\n      <td>(not set)</td>\n      <td>unknown.unknown</td>\n      <td>not available in demo dataset</td>\n      <td>Community of Madrid</td>\n      <td>Southern Europe</td>\n      <td>1.0</td>\n      <td>1</td>\n      <td>1.0</td>\n      <td>1.0</td>\n      <td>NaN</td>\n      <td>1</td>\n      <td>NaN</td>\n      <td>NaN</td>\n      <td>not available in demo dataset</td>\n      <td>NaN</td>\n      <td>NaN</td>\n      <td>NaN</td>\n      <td>NaN</td>\n      <td>(not set)</td>\n      <td>NaN</td>\n      <td>NaN</td>\n      <td>(not provided)</td>\n      <td>organic</td>\n      <td>NaN</td>\n      <td>google</td>\n    </tr>\n    <tr>\n      <th>3</th>\n      <td>Organic Search</td>\n      <td>2016-09-02</td>\n      <td>4763447161404445595</td>\n      <td>4763447161404445595_1472881213</td>\n      <td>Not Socially Engaged</td>\n      <td>1472881213</td>\n      <td>1</td>\n      <td>1472881213</td>\n      <td>UC Browser</td>\n      <td>not available in demo dataset</td>\n      <td>not available in demo dataset</td>\n      <td>desktop</td>\n      <td>not available in demo dataset</td>\n      <td>False</td>\n      <td>not available in demo dataset</td>\n      <td>not available in demo dataset</td>\n      <td>not available in demo dataset</td>\n      <td>not available in demo dataset</td>\n      <td>not available in demo dataset</td>\n      <td>not available in demo dataset</td>\n      <td>Linux</td>\n      <td>not available in demo dataset</td>\n      <td>not available in demo dataset</td>\n      <td>not available in demo dataset</td>\n      <td>not available in demo dataset</td>\n      <td>not available in demo dataset</td>\n      <td>Asia</td>\n      <td>Indonesia</td>\n      <td>not available in demo dataset</td>\n      <td>not available in demo dataset</td>\n      <td>not available in demo dataset</td>\n      <td>unknown.unknown</td>\n      <td>not available in demo dataset</td>\n      <td>not available in demo dataset</td>\n      <td>Southeast Asia</td>\n      <td>1.0</td>\n      <td>1</td>\n      <td>1.0</td>\n      <td>1.0</td>\n      <td>NaN</td>\n      <td>1</td>\n      <td>NaN</td>\n      <td>NaN</td>\n      <td>not available in demo dataset</td>\n      <td>NaN</td>\n      <td>NaN</td>\n      <td>NaN</td>\n      <td>NaN</td>\n      <td>(not set)</td>\n      <td>NaN</td>\n      <td>NaN</td>\n      <td>google + online</td>\n      <td>organic</td>\n      <td>NaN</td>\n      <td>google</td>\n    </tr>\n    <tr>\n      <th>4</th>\n      <td>Organic Search</td>\n      <td>2016-09-02</td>\n      <td>27294437909732085</td>\n      <td>27294437909732085_1472822600</td>\n      <td>Not Socially Engaged</td>\n      <td>1472822600</td>\n      <td>2</td>\n      <td>1472822600</td>\n      <td>Chrome</td>\n      <td>not available in demo dataset</td>\n      <td>not available in demo dataset</td>\n      <td>mobile</td>\n      <td>not available in demo dataset</td>\n      <td>True</td>\n      <td>not available in demo dataset</td>\n      <td>not available in demo dataset</td>\n      <td>not available in demo dataset</td>\n      <td>not available in demo dataset</td>\n      <td>not available in demo dataset</td>\n      <td>not available in demo dataset</td>\n      <td>Android</td>\n      <td>not available in demo dataset</td>\n      <td>not available in demo dataset</td>\n      <td>not available in demo dataset</td>\n      <td>not available in demo dataset</td>\n      <td>not available in demo dataset</td>\n      <td>Europe</td>\n      <td>United Kingdom</td>\n      <td>not available in demo dataset</td>\n      <td>not available in demo dataset</td>\n      <td>not available in demo dataset</td>\n      <td>unknown.unknown</td>\n      <td>not available in demo dataset</td>\n      <td>not available in demo dataset</td>\n      <td>Northern Europe</td>\n      <td>1.0</td>\n      <td>1</td>\n      <td>NaN</td>\n      <td>1.0</td>\n      <td>NaN</td>\n      <td>1</td>\n      <td>NaN</td>\n      <td>NaN</td>\n      <td>not available in demo dataset</td>\n      <td>NaN</td>\n      <td>NaN</td>\n      <td>NaN</td>\n      <td>NaN</td>\n      <td>(not set)</td>\n      <td>NaN</td>\n      <td>True</td>\n      <td>(not provided)</td>\n      <td>organic</td>\n      <td>NaN</td>\n      <td>google</td>\n    </tr>\n  </tbody>\n</table>\n</div>"
          },
          "metadata": {}
        }
      ]
    },
    {
      "metadata": {
        "trusted": true,
        "_uuid": "a3de054d7af310f8e6e83dfe07e5ab3cfac1ee81",
        "collapsed": true
      },
      "cell_type": "code",
      "source": "\ndata = [ dict(\n        type = 'choropleth',\n        locationmode = 'country names',\n        locations = train['geoNetwork.country'],\n        z = train['totals.transactionRevenue'],\n        text = train['geoNetwork.country'],\n        colorscale = [[0,\"rgb(5, 10, 172)\"],[0.35,\"rgb(40, 60, 190)\"],[0.5,\"rgb(70, 100, 245)\"],\\\n            [0.6,\"rgb(90, 120, 245)\"],[0.7,\"rgb(106, 137, 247)\"],[1,\"rgb(220, 220, 220)\"]],\n        autocolorscale = False,\n        reversescale = True,\n        marker = dict(\n            line = dict (\n                color = 'rgb(180,180,180)',\n                width = 0.5\n            ) ),\n        colorbar = dict(\n            autotick = False,\n           # tickprefix = '$',\n            title = 'transactionRevenue'),\n      ) ]\n\nlayout = dict(\n    title = 'transactionRevenue for countries',\n    geo = dict(\n        showframe = False,\n        showcoastlines = False,\n        projection = dict(\n            type = 'Mercator'\n        )\n    )\n)\n\nfig = dict( data=data, layout=layout )\npy.iplot( fig, validate=False, filename='-world-map' )",
      "execution_count": null,
      "outputs": []
    },
    {
      "metadata": {
        "_uuid": "03ff8ba8b222e620a90f2550c8755eca13ac7c69"
      },
      "cell_type": "markdown",
      "source": "\nInferences:\n* On the continent plot, we can see that America has both higher number of counts as well as highest number of counts where the revenue is non-zero\n* Though Asia and Europe has high number of counts, the number of non-zero revenue counts from these continents are comparatively low. \n* We can infer the first two points from the sub-continents plot too.\n* If the network domain is \"unknown.unknown\" rather than \"(not set)\", then the number of counts with non-zero revenue tend to be lower. "
    },
    {
      "metadata": {
        "_uuid": "196813323047466beb2bdc28267b906d5b32bfcb"
      },
      "cell_type": "markdown",
      "source": "### Traffic Source"
    },
    {
      "metadata": {
        "trusted": true,
        "_uuid": "6a34811cdcdd38d00d9c6a1a7894fca1b332d439"
      },
      "cell_type": "code",
      "source": "# Continent\ntemp = train.groupby('trafficSource.source')['totals.transactionRevenue'].agg(['size', 'count'])\ntemp.columns = [\"count\", \"count of non-zero revenue\"]\ntemp = temp.sort_values(by=\"count\", ascending=False)\ntrace1 = horizontal_bar_chart(temp[\"count\"].head(10), 'green')\ntrace2 = horizontal_bar_chart(temp[\"count of non-zero revenue\"].head(10), 'green')\n\n# Sub-continent\ntemp = train.groupby('trafficSource.medium')['totals.transactionRevenue'].agg(['size', 'count'])\ntemp.columns = [\"count\", \"count of non-zero revenue\"]\ntemp = temp.sort_values(by=\"count\", ascending=False)\ntrace3 = horizontal_bar_chart(temp[\"count\"], 'purple')\ntrace4 = horizontal_bar_chart(temp[\"count of non-zero revenue\"], 'purple')\n\n# Creating two subplots\nfig = tools.make_subplots(rows=2, cols=2, vertical_spacing=0.08, horizontal_spacing=0.15, \n                          subplot_titles=[\"Traffic Source - Count\", \"Traffic Source - Non-zero Revenue Count\",\n                                          \"Traffic Source Medium - Count\",  \"Traffic Source Medium - Non-zero Revenue Count\"])\n\nfig.append_trace(trace1, 1, 1)\nfig.append_trace(trace2, 1, 2)\nfig.append_trace(trace3, 2, 1)\nfig.append_trace(trace4, 2, 2)\n\nfig['layout'].update(height=1000, width=800, paper_bgcolor='rgb(233,233,233)', title=\"Traffic Source Plots\")\npy.iplot(fig, filename='traffic-source-plots')",
      "execution_count": 27,
      "outputs": [
        {
          "output_type": "stream",
          "text": "This is the format of your plot grid:\n[ (1,1) x1,y1 ]  [ (1,2) x2,y2 ]\n[ (2,1) x3,y3 ]  [ (2,2) x4,y4 ]\n\n",
          "name": "stdout"
        },
        {
          "output_type": "display_data",
          "data": {
            "application/vnd.plotly.v1+json": {
              "data": [
                {
                  "type": "bar",
                  "y": [
                    "baidu",
                    "m.facebook.com",
                    "google.com",
                    "dfa",
                    "analytics.google.com",
                    "Partners",
                    "mall.googleplex.com",
                    "(direct)",
                    "youtube.com",
                    "google"
                  ],
                  "x": [
                    3356,
                    3365,
                    4669,
                    5686,
                    16172,
                    16411,
                    66416,
                    143028,
                    212602,
                    400788
                  ],
                  "showlegend": false,
                  "orientation": "h",
                  "marker": {
                    "color": "green"
                  },
                  "xaxis": "x1",
                  "yaxis": "y1"
                },
                {
                  "type": "bar",
                  "y": [
                    "baidu",
                    "m.facebook.com",
                    "google.com",
                    "dfa",
                    "analytics.google.com",
                    "Partners",
                    "mall.googleplex.com",
                    "(direct)",
                    "youtube.com",
                    "google"
                  ],
                  "x": [
                    0,
                    6,
                    5,
                    123,
                    0,
                    9,
                    5103,
                    2042,
                    11,
                    3879
                  ],
                  "showlegend": false,
                  "orientation": "h",
                  "marker": {
                    "color": "green"
                  },
                  "xaxis": "x2",
                  "yaxis": "y2"
                },
                {
                  "type": "bar",
                  "y": [
                    "(not set)",
                    "cpm",
                    "affiliate",
                    "cpc",
                    "(none)",
                    "referral",
                    "organic"
                  ],
                  "x": [
                    120,
                    6262,
                    16403,
                    25326,
                    143026,
                    330955,
                    381561
                  ],
                  "showlegend": false,
                  "orientation": "h",
                  "marker": {
                    "color": "purple"
                  },
                  "xaxis": "x3",
                  "yaxis": "y3"
                },
                {
                  "type": "bar",
                  "y": [
                    "(not set)",
                    "cpm",
                    "affiliate",
                    "cpc",
                    "(none)",
                    "referral",
                    "organic"
                  ],
                  "x": [
                    1,
                    142,
                    9,
                    468,
                    2042,
                    5415,
                    3438
                  ],
                  "showlegend": false,
                  "orientation": "h",
                  "marker": {
                    "color": "purple"
                  },
                  "xaxis": "x4",
                  "yaxis": "y4"
                }
              ],
              "layout": {
                "xaxis1": {
                  "domain": [
                    0,
                    0.425
                  ],
                  "anchor": "y1"
                },
                "yaxis1": {
                  "domain": [
                    0.54,
                    1
                  ],
                  "anchor": "x1"
                },
                "xaxis2": {
                  "domain": [
                    0.575,
                    1
                  ],
                  "anchor": "y2"
                },
                "yaxis2": {
                  "domain": [
                    0.54,
                    1
                  ],
                  "anchor": "x2"
                },
                "xaxis3": {
                  "domain": [
                    0,
                    0.425
                  ],
                  "anchor": "y3"
                },
                "yaxis3": {
                  "domain": [
                    0,
                    0.46
                  ],
                  "anchor": "x3"
                },
                "xaxis4": {
                  "domain": [
                    0.575,
                    1
                  ],
                  "anchor": "y4"
                },
                "yaxis4": {
                  "domain": [
                    0,
                    0.46
                  ],
                  "anchor": "x4"
                },
                "annotations": [
                  {
                    "y": 1,
                    "xref": "paper",
                    "x": 0.2125,
                    "yref": "paper",
                    "text": "Traffic Source - Count",
                    "showarrow": false,
                    "font": {
                      "size": 16
                    },
                    "xanchor": "center",
                    "yanchor": "bottom"
                  },
                  {
                    "y": 1,
                    "xref": "paper",
                    "x": 0.7875,
                    "yref": "paper",
                    "text": "Traffic Source - Non-zero Revenue Count",
                    "showarrow": false,
                    "font": {
                      "size": 16
                    },
                    "xanchor": "center",
                    "yanchor": "bottom"
                  },
                  {
                    "y": 0.46,
                    "xref": "paper",
                    "x": 0.2125,
                    "yref": "paper",
                    "text": "Traffic Source Medium - Count",
                    "showarrow": false,
                    "font": {
                      "size": 16
                    },
                    "xanchor": "center",
                    "yanchor": "bottom"
                  },
                  {
                    "y": 0.46,
                    "xref": "paper",
                    "x": 0.7875,
                    "yref": "paper",
                    "text": "Traffic Source Medium - Non-zero Revenue Count",
                    "showarrow": false,
                    "font": {
                      "size": 16
                    },
                    "xanchor": "center",
                    "yanchor": "bottom"
                  }
                ],
                "height": 1000,
                "width": 800,
                "paper_bgcolor": "rgb(233,233,233)",
                "title": "Traffic Source Plots"
              }
            },
            "text/html": "<div id=\"9b192079-7550-4f19-b4af-14f02d9b7097\" style=\"height: 1000px; width: 800px;\" class=\"plotly-graph-div\"></div><script type=\"text/javascript\">require([\"plotly\"], function(Plotly) { window.PLOTLYENV=window.PLOTLYENV || {};window.PLOTLYENV.BASE_URL=\"https://plot.ly\";Plotly.newPlot(\"9b192079-7550-4f19-b4af-14f02d9b7097\", [{\"type\": \"bar\", \"y\": [\"baidu\", \"m.facebook.com\", \"google.com\", \"dfa\", \"analytics.google.com\", \"Partners\", \"mall.googleplex.com\", \"(direct)\", \"youtube.com\", \"google\"], \"x\": [3356, 3365, 4669, 5686, 16172, 16411, 66416, 143028, 212602, 400788], \"showlegend\": false, \"orientation\": \"h\", \"marker\": {\"color\": \"green\"}, \"xaxis\": \"x1\", \"yaxis\": \"y1\"}, {\"type\": \"bar\", \"y\": [\"baidu\", \"m.facebook.com\", \"google.com\", \"dfa\", \"analytics.google.com\", \"Partners\", \"mall.googleplex.com\", \"(direct)\", \"youtube.com\", \"google\"], \"x\": [0, 6, 5, 123, 0, 9, 5103, 2042, 11, 3879], \"showlegend\": false, \"orientation\": \"h\", \"marker\": {\"color\": \"green\"}, \"xaxis\": \"x2\", \"yaxis\": \"y2\"}, {\"type\": \"bar\", \"y\": [\"(not set)\", \"cpm\", \"affiliate\", \"cpc\", \"(none)\", \"referral\", \"organic\"], \"x\": [120, 6262, 16403, 25326, 143026, 330955, 381561], \"showlegend\": false, \"orientation\": \"h\", \"marker\": {\"color\": \"purple\"}, \"xaxis\": \"x3\", \"yaxis\": \"y3\"}, {\"type\": \"bar\", \"y\": [\"(not set)\", \"cpm\", \"affiliate\", \"cpc\", \"(none)\", \"referral\", \"organic\"], \"x\": [1, 142, 9, 468, 2042, 5415, 3438], \"showlegend\": false, \"orientation\": \"h\", \"marker\": {\"color\": \"purple\"}, \"xaxis\": \"x4\", \"yaxis\": \"y4\"}], {\"xaxis1\": {\"domain\": [0.0, 0.425], \"anchor\": \"y1\"}, \"yaxis1\": {\"domain\": [0.54, 1.0], \"anchor\": \"x1\"}, \"xaxis2\": {\"domain\": [0.575, 1.0], \"anchor\": \"y2\"}, \"yaxis2\": {\"domain\": [0.54, 1.0], \"anchor\": \"x2\"}, \"xaxis3\": {\"domain\": [0.0, 0.425], \"anchor\": \"y3\"}, \"yaxis3\": {\"domain\": [0.0, 0.46], \"anchor\": \"x3\"}, \"xaxis4\": {\"domain\": [0.575, 1.0], \"anchor\": \"y4\"}, \"yaxis4\": {\"domain\": [0.0, 0.46], \"anchor\": \"x4\"}, \"annotations\": [{\"y\": 1.0, \"xref\": \"paper\", \"x\": 0.2125, \"yref\": \"paper\", \"text\": \"Traffic Source - Count\", \"showarrow\": false, \"font\": {\"size\": 16}, \"xanchor\": \"center\", \"yanchor\": \"bottom\"}, {\"y\": 1.0, \"xref\": \"paper\", \"x\": 0.7875, \"yref\": \"paper\", \"text\": \"Traffic Source - Non-zero Revenue Count\", \"showarrow\": false, \"font\": {\"size\": 16}, \"xanchor\": \"center\", \"yanchor\": \"bottom\"}, {\"y\": 0.46, \"xref\": \"paper\", \"x\": 0.2125, \"yref\": \"paper\", \"text\": \"Traffic Source Medium - Count\", \"showarrow\": false, \"font\": {\"size\": 16}, \"xanchor\": \"center\", \"yanchor\": \"bottom\"}, {\"y\": 0.46, \"xref\": \"paper\", \"x\": 0.7875, \"yref\": \"paper\", \"text\": \"Traffic Source Medium - Non-zero Revenue Count\", \"showarrow\": false, \"font\": {\"size\": 16}, \"xanchor\": \"center\", \"yanchor\": \"bottom\"}], \"height\": 1000, \"width\": 800, \"paper_bgcolor\": \"rgb(233,233,233)\", \"title\": \"Traffic Source Plots\"}, {\"showLink\": true, \"linkText\": \"Export to plot.ly\"})});</script>",
            "text/vnd.plotly.v1+html": "<div id=\"9b192079-7550-4f19-b4af-14f02d9b7097\" style=\"height: 1000px; width: 800px;\" class=\"plotly-graph-div\"></div><script type=\"text/javascript\">require([\"plotly\"], function(Plotly) { window.PLOTLYENV=window.PLOTLYENV || {};window.PLOTLYENV.BASE_URL=\"https://plot.ly\";Plotly.newPlot(\"9b192079-7550-4f19-b4af-14f02d9b7097\", [{\"type\": \"bar\", \"y\": [\"baidu\", \"m.facebook.com\", \"google.com\", \"dfa\", \"analytics.google.com\", \"Partners\", \"mall.googleplex.com\", \"(direct)\", \"youtube.com\", \"google\"], \"x\": [3356, 3365, 4669, 5686, 16172, 16411, 66416, 143028, 212602, 400788], \"showlegend\": false, \"orientation\": \"h\", \"marker\": {\"color\": \"green\"}, \"xaxis\": \"x1\", \"yaxis\": \"y1\"}, {\"type\": \"bar\", \"y\": [\"baidu\", \"m.facebook.com\", \"google.com\", \"dfa\", \"analytics.google.com\", \"Partners\", \"mall.googleplex.com\", \"(direct)\", \"youtube.com\", \"google\"], \"x\": [0, 6, 5, 123, 0, 9, 5103, 2042, 11, 3879], \"showlegend\": false, \"orientation\": \"h\", \"marker\": {\"color\": \"green\"}, \"xaxis\": \"x2\", \"yaxis\": \"y2\"}, {\"type\": \"bar\", \"y\": [\"(not set)\", \"cpm\", \"affiliate\", \"cpc\", \"(none)\", \"referral\", \"organic\"], \"x\": [120, 6262, 16403, 25326, 143026, 330955, 381561], \"showlegend\": false, \"orientation\": \"h\", \"marker\": {\"color\": \"purple\"}, \"xaxis\": \"x3\", \"yaxis\": \"y3\"}, {\"type\": \"bar\", \"y\": [\"(not set)\", \"cpm\", \"affiliate\", \"cpc\", \"(none)\", \"referral\", \"organic\"], \"x\": [1, 142, 9, 468, 2042, 5415, 3438], \"showlegend\": false, \"orientation\": \"h\", \"marker\": {\"color\": \"purple\"}, \"xaxis\": \"x4\", \"yaxis\": \"y4\"}], {\"xaxis1\": {\"domain\": [0.0, 0.425], \"anchor\": \"y1\"}, \"yaxis1\": {\"domain\": [0.54, 1.0], \"anchor\": \"x1\"}, \"xaxis2\": {\"domain\": [0.575, 1.0], \"anchor\": \"y2\"}, \"yaxis2\": {\"domain\": [0.54, 1.0], \"anchor\": \"x2\"}, \"xaxis3\": {\"domain\": [0.0, 0.425], \"anchor\": \"y3\"}, \"yaxis3\": {\"domain\": [0.0, 0.46], \"anchor\": \"x3\"}, \"xaxis4\": {\"domain\": [0.575, 1.0], \"anchor\": \"y4\"}, \"yaxis4\": {\"domain\": [0.0, 0.46], \"anchor\": \"x4\"}, \"annotations\": [{\"y\": 1.0, \"xref\": \"paper\", \"x\": 0.2125, \"yref\": \"paper\", \"text\": \"Traffic Source - Count\", \"showarrow\": false, \"font\": {\"size\": 16}, \"xanchor\": \"center\", \"yanchor\": \"bottom\"}, {\"y\": 1.0, \"xref\": \"paper\", \"x\": 0.7875, \"yref\": \"paper\", \"text\": \"Traffic Source - Non-zero Revenue Count\", \"showarrow\": false, \"font\": {\"size\": 16}, \"xanchor\": \"center\", \"yanchor\": \"bottom\"}, {\"y\": 0.46, \"xref\": \"paper\", \"x\": 0.2125, \"yref\": \"paper\", \"text\": \"Traffic Source Medium - Count\", \"showarrow\": false, \"font\": {\"size\": 16}, \"xanchor\": \"center\", \"yanchor\": \"bottom\"}, {\"y\": 0.46, \"xref\": \"paper\", \"x\": 0.7875, \"yref\": \"paper\", \"text\": \"Traffic Source Medium - Non-zero Revenue Count\", \"showarrow\": false, \"font\": {\"size\": 16}, \"xanchor\": \"center\", \"yanchor\": \"bottom\"}], \"height\": 1000, \"width\": 800, \"paper_bgcolor\": \"rgb(233,233,233)\", \"title\": \"Traffic Source Plots\"}, {\"showLink\": true, \"linkText\": \"Export to plot.ly\"})});</script>"
          },
          "metadata": {}
        }
      ]
    },
    {
      "metadata": {
        "_uuid": "b00a266f2260ab89455b059390a58940f8d97691"
      },
      "cell_type": "markdown",
      "source": "### Inferences\n\n* In the traffic source plot, though Youtube has high number of counts in the dataset, the number of non-zero revenue counts are very less. \n* Google plex has a high ratio of non-zero revenue count to total count in the traffic source plot. \n* On the traffic source medium, \"referral\" has more number of non-zero revenue count compared to \"organic\" medium."
    },
    {
      "metadata": {
        "trusted": true,
        "collapsed": true,
        "_uuid": "69f20d9c1da4c2bb7bbb64ae0a20ff148be28cf2"
      },
      "cell_type": "code",
      "source": "",
      "execution_count": null,
      "outputs": []
    }
  ],
  "metadata": {
    "anaconda-cloud": {},
    "kernelspec": {
      "display_name": "Python 3",
      "language": "python",
      "name": "python3"
    },
    "language_info": {
      "name": "python",
      "version": "3.6.4",
      "mimetype": "text/x-python",
      "codemirror_mode": {
        "name": "ipython",
        "version": 3
      },
      "pygments_lexer": "ipython3",
      "nbconvert_exporter": "python",
      "file_extension": ".py"
    },
    "widgets": {
      "state": {
        "0f1e348b46764927a24900e41489008d": {
          "views": [
            {
              "cell_index": 40
            }
          ]
        },
        "1fb2cc18c3aa4961935fce63569388a9": {
          "views": [
            {
              "cell_index": 47
            }
          ]
        },
        "211b8fad07a245749665920de2682fd8": {
          "views": [
            {
              "cell_index": 44
            }
          ]
        },
        "5299c40d1d524452ab0abbf2abffa190": {
          "views": [
            {
              "cell_index": 38
            }
          ]
        },
        "5a5a35eca7df423a9b0955617b1c2626": {
          "views": [
            {
              "cell_index": 51
            }
          ]
        },
        "612b513696c94f37aad92ceb5d94c74d": {
          "views": [
            {
              "cell_index": 27
            }
          ]
        },
        "8c100d790244426db7392744c58677dc": {
          "views": [
            {
              "cell_index": 29
            }
          ]
        },
        "8d6847bcd352495796c7ac51304ce7e7": {
          "views": [
            {
              "cell_index": 42
            }
          ]
        },
        "c2f71171be284a318171b9d9315360e6": {
          "views": [
            {
              "cell_index": 12
            }
          ]
        },
        "c537afebe4d447609d50c177a79f1b4f": {
          "views": [
            {
              "cell_index": 36
            }
          ]
        },
        "e0fd809e993246698325b5d51ac29d58": {
          "views": [
            {
              "cell_index": 34
            }
          ]
        },
        "f0abd7f15866434fa133e39c191fcd42": {
          "views": [
            {
              "cell_index": 31
            }
          ]
        },
        "f5569ad746d7496093b9afeb13b43239": {
          "views": [
            {
              "cell_index": 49
            }
          ]
        }
      },
      "version": "1.2.0"
    }
  },
  "nbformat": 4,
  "nbformat_minor": 1
}